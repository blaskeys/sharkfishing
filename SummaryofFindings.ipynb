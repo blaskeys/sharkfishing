{
 "cells": [
  {
   "cell_type": "markdown",
   "metadata": {},
   "source": [
    "# SUMMARY OF FINDINGS: DATA ANALYSIS FOR CIR SHARK REPORT"
   ]
  },
  {
   "cell_type": "markdown",
   "metadata": {},
   "source": [
    "## 1. THE DATA"
   ]
  },
  {
   "cell_type": "code",
   "execution_count": 1,
   "metadata": {
    "collapsed": false
   },
   "outputs": [],
   "source": [
    "#Import Data\n",
    "CMAR = read.csv(\"/Users/sarahblaskey/Documents/Stats/SharkTradeCMAR.csv\")\n",
    "CR = read.csv(\"/Users/sarahblaskey/Documents/Stats/SharkExportCRCLEAN.csv\",as.is=TRUE)\n",
    "offload = read.csv(\"/Users/sarahblaskey/Documents/Stats/INCOPESCA.csv\",as.is=TRUE)"
   ]
  },
  {
   "cell_type": "markdown",
   "metadata": {},
   "source": [
    "### 1.1 CMAR data \n",
    "\n",
    "The data is called \"CMAR\" because it includes shark trade data from all of the countries that have coastline along the Eastern Tropical Pacific Marine Corridor (known as CMAR), as well as the neighboring countries (Nicaragua, Guatemala, Honduras, and El Salvador) which are not traditionally listed as CMAR but often receive offloads from the area. This data is considered an official source of trade data, and allows us to see which countries are most prominent in the regional shark trade.\n",
    "\n",
    "*Data from the online repository of the United Nations Statistics Division (UNSD). The data is voluntarily submitted by participating countries. This type of trade data is collected from bills of lading, which record international commodity movements, categorized by hs code. Bills of Lading are used by insurance companies to insure cargo, amongst other things. While in some cases there is reason for countries to ommit data from the UNSD, that is not usually an issue with shark products. The more difficult part is tracking what products are actually shark and what are not because of the wide range of HS codes (universal commodity codes) that are used for this commodity. Different countries will use different HS codes for shark products.*\n",
    "\n",
    "I collected the data from the UN COMTRADE online database. https://comtrade.un.org/ The following criteria were selected: \n",
    "\n",
    "Type of Product: Goods ; Frequency: Annual ; Classification: HS-\"As Reported\" ; Periods(year): 2016,2015,2014,2013,2012,2011 ; Reporters: El Salvador, Guatemala, Honduras, Nicaragua, Costa Rica, Panama, Colombia, Ecuador ; Partners: All ; Trade Flows: All Commodity Code:\n",
    "030265: 030281; 030292; 030375; 030381; 030392; 030447; 030456; 030488; 030496; 030571; 160418\n",
    "(Commodity Codes selected by typing in \"Shark\" and selecting all applicable)\n",
    "\n",
    "I removed duplicates based on TradeValue because some of the shipments with \"World\" as partner were duplicates of other shipments already listed.\n"
   ]
  },
  {
   "cell_type": "code",
   "execution_count": 2,
   "metadata": {
    "collapsed": false
   },
   "outputs": [
    {
     "data": {
      "text/html": [
       "<table>\n",
       "<thead><tr><th scope=col>Classification</th><th scope=col>Year</th><th scope=col>Period</th><th scope=col>Period.Desc.</th><th scope=col>Aggregate.Level</th><th scope=col>Is.Leaf.Code</th><th scope=col>Trade.Flow.Code</th><th scope=col>TradeFlow</th><th scope=col>ReporterCode</th><th scope=col>Reporter</th><th scope=col>⋯</th><th scope=col>Qty</th><th scope=col>Alt.Qty.Unit.Code</th><th scope=col>Alt.Qty.Unit</th><th scope=col>Alt.Qty</th><th scope=col>Netweight</th><th scope=col>Gross.weight..kg.</th><th scope=col>TradeValue</th><th scope=col>CIF</th><th scope=col>FOB.Trade.Value..US..</th><th scope=col>Flag</th></tr></thead>\n",
       "<tbody>\n",
       "\t<tr><td>H3        </td><td>2011      </td><td>2011      </td><td>2011      </td><td>6         </td><td>1         </td><td>2         </td><td>Export    </td><td>558       </td><td>Nicaragua </td><td>⋯         </td><td>NA        </td><td>NA        </td><td>105774    </td><td>NA        </td><td>105774    </td><td>NA        </td><td>98534     </td><td>NA        </td><td>NA        </td><td>0         </td></tr>\n",
       "\t<tr><td>H3        </td><td>2011      </td><td>2011      </td><td>2011      </td><td>6         </td><td>1         </td><td>2         </td><td>Export    </td><td>188       </td><td>Costa Rica</td><td>⋯         </td><td>NA        </td><td>NA        </td><td>  7594    </td><td>NA        </td><td>  7594    </td><td>NA        </td><td>46136     </td><td>NA        </td><td>NA        </td><td>0         </td></tr>\n",
       "\t<tr><td>H3        </td><td>2011      </td><td>2011      </td><td>2011      </td><td>6         </td><td>1         </td><td>2         </td><td>Export    </td><td>218       </td><td>Ecuador   </td><td>⋯         </td><td>NA        </td><td>NA        </td><td>  5566    </td><td>NA        </td><td>  5566    </td><td>NA        </td><td>40770     </td><td>NA        </td><td>NA        </td><td>0         </td></tr>\n",
       "\t<tr><td>H3        </td><td>2011      </td><td>2011      </td><td>2011      </td><td>6         </td><td>1         </td><td>1         </td><td>Import    </td><td>558       </td><td>Nicaragua </td><td>⋯         </td><td>NA        </td><td>NA        </td><td> 65370    </td><td>NA        </td><td> 65370    </td><td>NA        </td><td>39407     </td><td>NA        </td><td>NA        </td><td>0         </td></tr>\n",
       "\t<tr><td>H3        </td><td>2011      </td><td>2011      </td><td>2011      </td><td>6         </td><td>1         </td><td>2         </td><td>Export    </td><td>188       </td><td>Costa Rica</td><td>⋯         </td><td>NA        </td><td>NA        </td><td>  5320    </td><td>NA        </td><td>  5320    </td><td>NA        </td><td>37240     </td><td>NA        </td><td>NA        </td><td>0         </td></tr>\n",
       "\t<tr><td>H3        </td><td>2011      </td><td>2011      </td><td>2011      </td><td>6         </td><td>1         </td><td>2         </td><td>Export    </td><td>558       </td><td>Nicaragua </td><td>⋯         </td><td>NA        </td><td>NA        </td><td> 45560    </td><td>NA        </td><td> 45560    </td><td>NA        </td><td>34170     </td><td>NA        </td><td>NA        </td><td>0         </td></tr>\n",
       "</tbody>\n",
       "</table>\n"
      ],
      "text/latex": [
       "\\begin{tabular}{r|lllllllllllllllllllllllllllllllllll}\n",
       " Classification & Year & Period & Period.Desc. & Aggregate.Level & Is.Leaf.Code & Trade.Flow.Code & TradeFlow & ReporterCode & Reporter & ⋯ & Qty & Alt.Qty.Unit.Code & Alt.Qty.Unit & Alt.Qty & Netweight & Gross.weight..kg. & TradeValue & CIF & FOB.Trade.Value..US.. & Flag\\\\\n",
       "\\hline\n",
       "\t H3         & 2011       & 2011       & 2011       & 6          & 1          & 2          & Export     & 558        & Nicaragua  & ⋯          & NA         & NA         & 105774     & NA         & 105774     & NA         & 98534      & NA         & NA         & 0         \\\\\n",
       "\t H3         & 2011       & 2011       & 2011       & 6          & 1          & 2          & Export     & 188        & Costa Rica & ⋯          & NA         & NA         &   7594     & NA         &   7594     & NA         & 46136      & NA         & NA         & 0         \\\\\n",
       "\t H3         & 2011       & 2011       & 2011       & 6          & 1          & 2          & Export     & 218        & Ecuador    & ⋯          & NA         & NA         &   5566     & NA         &   5566     & NA         & 40770      & NA         & NA         & 0         \\\\\n",
       "\t H3         & 2011       & 2011       & 2011       & 6          & 1          & 1          & Import     & 558        & Nicaragua  & ⋯          & NA         & NA         &  65370     & NA         &  65370     & NA         & 39407      & NA         & NA         & 0         \\\\\n",
       "\t H3         & 2011       & 2011       & 2011       & 6          & 1          & 2          & Export     & 188        & Costa Rica & ⋯          & NA         & NA         &   5320     & NA         &   5320     & NA         & 37240      & NA         & NA         & 0         \\\\\n",
       "\t H3         & 2011       & 2011       & 2011       & 6          & 1          & 2          & Export     & 558        & Nicaragua  & ⋯          & NA         & NA         &  45560     & NA         &  45560     & NA         & 34170      & NA         & NA         & 0         \\\\\n",
       "\\end{tabular}\n"
      ],
      "text/markdown": [
       "\n",
       "Classification | Year | Period | Period.Desc. | Aggregate.Level | Is.Leaf.Code | Trade.Flow.Code | TradeFlow | ReporterCode | Reporter | ⋯ | Qty | Alt.Qty.Unit.Code | Alt.Qty.Unit | Alt.Qty | Netweight | Gross.weight..kg. | TradeValue | CIF | FOB.Trade.Value..US.. | Flag | \n",
       "|---|---|---|---|---|---|\n",
       "| H3         | 2011       | 2011       | 2011       | 6          | 1          | 2          | Export     | 558        | Nicaragua  | ⋯          | NA         | NA         | 105774     | NA         | 105774     | NA         | 98534      | NA         | NA         | 0          | \n",
       "| H3         | 2011       | 2011       | 2011       | 6          | 1          | 2          | Export     | 188        | Costa Rica | ⋯          | NA         | NA         |   7594     | NA         |   7594     | NA         | 46136      | NA         | NA         | 0          | \n",
       "| H3         | 2011       | 2011       | 2011       | 6          | 1          | 2          | Export     | 218        | Ecuador    | ⋯          | NA         | NA         |   5566     | NA         |   5566     | NA         | 40770      | NA         | NA         | 0          | \n",
       "| H3         | 2011       | 2011       | 2011       | 6          | 1          | 1          | Import     | 558        | Nicaragua  | ⋯          | NA         | NA         |  65370     | NA         |  65370     | NA         | 39407      | NA         | NA         | 0          | \n",
       "| H3         | 2011       | 2011       | 2011       | 6          | 1          | 2          | Export     | 188        | Costa Rica | ⋯          | NA         | NA         |   5320     | NA         |   5320     | NA         | 37240      | NA         | NA         | 0          | \n",
       "| H3         | 2011       | 2011       | 2011       | 6          | 1          | 2          | Export     | 558        | Nicaragua  | ⋯          | NA         | NA         |  45560     | NA         |  45560     | NA         | 34170      | NA         | NA         | 0          | \n",
       "\n",
       "\n"
      ],
      "text/plain": [
       "  Classification Year Period Period.Desc. Aggregate.Level Is.Leaf.Code\n",
       "1 H3             2011 2011   2011         6               1           \n",
       "2 H3             2011 2011   2011         6               1           \n",
       "3 H3             2011 2011   2011         6               1           \n",
       "4 H3             2011 2011   2011         6               1           \n",
       "5 H3             2011 2011   2011         6               1           \n",
       "6 H3             2011 2011   2011         6               1           \n",
       "  Trade.Flow.Code TradeFlow ReporterCode Reporter   ⋯ Qty Alt.Qty.Unit.Code\n",
       "1 2               Export    558          Nicaragua  ⋯ NA  NA               \n",
       "2 2               Export    188          Costa Rica ⋯ NA  NA               \n",
       "3 2               Export    218          Ecuador    ⋯ NA  NA               \n",
       "4 1               Import    558          Nicaragua  ⋯ NA  NA               \n",
       "5 2               Export    188          Costa Rica ⋯ NA  NA               \n",
       "6 2               Export    558          Nicaragua  ⋯ NA  NA               \n",
       "  Alt.Qty.Unit Alt.Qty Netweight Gross.weight..kg. TradeValue CIF\n",
       "1 105774       NA      105774    NA                98534      NA \n",
       "2   7594       NA        7594    NA                46136      NA \n",
       "3   5566       NA        5566    NA                40770      NA \n",
       "4  65370       NA       65370    NA                39407      NA \n",
       "5   5320       NA        5320    NA                37240      NA \n",
       "6  45560       NA       45560    NA                34170      NA \n",
       "  FOB.Trade.Value..US.. Flag\n",
       "1 NA                    0   \n",
       "2 NA                    0   \n",
       "3 NA                    0   \n",
       "4 NA                    0   \n",
       "5 NA                    0   \n",
       "6 NA                    0   "
      ]
     },
     "metadata": {},
     "output_type": "display_data"
    }
   ],
   "source": [
    "#1.1.1 An example of what the CMAR data looks like\n",
    "head(CMAR)"
   ]
  },
  {
   "cell_type": "markdown",
   "metadata": {},
   "source": [
    "### 1.2 CR data \n",
    "\n",
    "This is a dataset of shark product exports from Costa Rica between Jan.2011 and Aug.2017 (the most recent data available). The data is based on bills of lading. \n",
    "\n",
    "*This is an unofficial, but still widely respected aggregate of trade data from Costa Rica by a private Arizona-based company, ImportGenius, which launched in 2007 and has since gained a reputation as a reliable source for trade data amongst shipping companies, investors, and investigators alike.* \n",
    "\n",
    "*According to its website: \"Import Genius reveals the trading activities of importers and exporters around the world. We give you hard data about your overseas suppliers and domestic competitors. Using shipping databases from Customs agencies in the United States, Latin America, and India, Import Genius can help you find reliable new trading partners, monitor your competitors’ shipments, and keep an eye on your current suppliers and customers. Our team of seasoned import-export veterans, cutting-edge software developers, and customer service professionals has worked for years to build the world's most powerful and accessible database of international trade intelligence.\" https://www.importgenius.com/*\n",
    "\n",
    "I collected the data from the importgenius online repository. The following criteria were selected:\n",
    "\n",
    "Country: Costa Rica ; Search: Export Data ; 1/3/2011 - 8/31/2017\n",
    "Product: Tiburon; OR Shark; OR Aleta; OR Fins; NOT Atun; OR CARCHARHINUS\n",
    "\n",
    "After collecting the raw data, I modified it in the following ways:\n",
    "\n",
    "1) Extracted year from export date column and created new column: Export_Year\n",
    "2) Run through OpenRefine in order to clean several columns and make it easier to analyze.\n",
    "    -Add column based on PRODUCT_DESCRIPTION; create new column; ProductDescription2\n",
    "    -ProductDescription2 cleaned:\n",
    "    -Key Collision: Fingerprint: accept all suggestions; ngram-fingerprint: Accept all merge and re-cluster\n",
    "    -Metaphone3 Accept all suggestions with those that are clearly not shark renamed as \"delete\"\n",
    "    -Delete all obviously not shark rows by hand\n",
    "    -Add column based on ProductDescription2 called “PRODUCT”\n",
    "    -Divide into carne; carnada; aleta; other\n",
    "    -Add column based on SHIPPER called EXPORTCOMPANY which will serve as original\n",
    "    -Clean SHIPPER\n",
    "    -Cluster: \n",
    "    -Export csv: SharkExportCRCLEAN.csv\n",
    "    \n",
    "There are several problems with this data: 1) It's difficult to search by HS code. Instead I searched by product descriptions with words related to shark products. As a result, it is likely that I missed some shark exports. 2)The data is messy (ie names spelled differently, unrelated products within the data), and requires a lot of cleaning. I attempted to document all editorial decisions made during the aggregating and cleaning process. It is my belief that this data is clean, and an accurate representation of the shark export industry in Costa Rica. If there is a mistake, it is that I did not get all of the relavent data. This data represents a conservative estimate. 3)Product descriptions are more accurate than those provided from UN COMTRADE so it is possible to separate fin exports from meat exports. However, the clasification has to be done by hand and required editorial decisions in order to determine what is a fin and what is meat (or bait, or other) when the description is not clear. "
   ]
  },
  {
   "cell_type": "code",
   "execution_count": 3,
   "metadata": {
    "collapsed": false
   },
   "outputs": [
    {
     "data": {
      "text/html": [
       "<table>\n",
       "<thead><tr><th scope=col>PRODUCT_DESCRIPTION</th><th scope=col>ProductDescription2</th><th scope=col>PRODUCT</th><th scope=col>SHIPPER</th><th scope=col>EXPORTCOMPANY</th><th scope=col>SHIPPER_ADDRESS</th><th scope=col>EXPORT_DATE</th><th scope=col>EXPORT_YEAR</th><th scope=col>HS_CODE</th><th scope=col>BRAND</th><th scope=col>CIF</th><th scope=col>NET_WEIGHT</th><th scope=col>PACKAGE</th><th scope=col>X.PACKAGES</th><th scope=col>GROSS_WEIGHT</th><th scope=col>NET_WEIGHT2</th><th scope=col>TOTAL_INVOICE</th><th scope=col>REMARKS</th><th scope=col>TRANSPORTATION</th></tr></thead>\n",
       "<tbody>\n",
       "\t<tr><td>CARCHARHINUS FALCIFORMIS DRYED SHARK FINS-                                                   </td><td>CARCHARHINUS FALCIFORMIS-                                                                    </td><td>aleta                                                                                        </td><td>INVERSIONES CRUZ Z SA                                                                        </td><td>INVERSIONES CRUZ Z SOCIEDAD ANONIMA                                                          </td><td>DE MARISCOS BAR 25 M. AL NORTE Y 35 MTS. AL OESTE EL COCAL DE PUNTARENAS                     </td><td>8/28/17                                                                                      </td><td>2017                                                                                         </td><td>3.0571e+10                                                                                   </td><td>SM                                                                                           </td><td> 5266.72                                                                                     </td><td> 31.40                                                                                       </td><td>BULTOS/PACKAGE                                                                               </td><td>1                                                                                            </td><td>1476                                                                                         </td><td>1416.16                                                                                      </td><td>107116.3                                                                                     </td><td>GUIA AEREA: 020-5720-3775 , REC 4631, EXPORTADOR: INVERSIONES CRUZ. Z. S.A. CED: 310123731211</td><td>Aereo                                                                                        </td></tr>\n",
       "\t<tr><td>CARCHARHINUS FALCIFORMIS DRYED SHARK FINS-                                                   </td><td>CARCHARHINUS FALCIFORMIS-                                                                    </td><td>aleta                                                                                        </td><td>INVERSIONES CRUZ Z SA                                                                        </td><td>INVERSIONES CRUZ Z SOCIEDAD ANONIMA                                                          </td><td>DE MARISCOS BAR 25 M. AL NORTE Y 35 MTS. AL OESTE EL COCAL DE PUNTARENAS                     </td><td>8/28/17                                                                                      </td><td>2017                                                                                         </td><td>3.0571e+10                                                                                   </td><td>SM                                                                                           </td><td>36120.88                                                                                     </td><td>271.30                                                                                       </td><td>BULTOS/PACKAGE                                                                               </td><td>8                                                                                            </td><td>1476                                                                                         </td><td>1416.16                                                                                      </td><td>107116.3                                                                                     </td><td>GUIA AEREA: 020-5720-3775 , REC 4631, EXPORTADOR: INVERSIONES CRUZ. Z. S.A. CED: 310123731211</td><td>Aereo                                                                                        </td></tr>\n",
       "\t<tr><td>CARCHARHINUS FALCIFORMIS DRYED SHARK FINS-                                                   </td><td>CARCHARHINUS FALCIFORMIS-                                                                    </td><td>aleta                                                                                        </td><td>INVERSIONES CRUZ Z SA                                                                        </td><td>INVERSIONES CRUZ Z SOCIEDAD ANONIMA                                                          </td><td>DE MARISCOS BAR 25 M. AL NORTE Y 35 MTS. AL OESTE EL COCAL DE PUNTARENAS                     </td><td>8/28/17                                                                                      </td><td>2017                                                                                         </td><td>3.0571e+10                                                                                   </td><td>SM                                                                                           </td><td>21601.68                                                                                     </td><td>199.96                                                                                       </td><td>BULTOS/PACKAGE                                                                               </td><td>5                                                                                            </td><td>1476                                                                                         </td><td>1416.16                                                                                      </td><td>107116.3                                                                                     </td><td>GUIA AEREA: 020-5720-3775 , REC 4631, EXPORTADOR: INVERSIONES CRUZ. Z. S.A. CED: 310123731211</td><td>Aereo                                                                                        </td></tr>\n",
       "\t<tr><td>CARCHARHINUS FALCIFORMIS DRYED SHARK FINS-                                                   </td><td>CARCHARHINUS FALCIFORMIS-                                                                    </td><td>aleta                                                                                        </td><td>INVERSIONES CRUZ Z SA                                                                        </td><td>INVERSIONES CRUZ Z SOCIEDAD ANONIMA                                                          </td><td>DE MARISCOS BAR 25 M. AL NORTE Y 35 MTS. AL OESTE EL COCAL DE PUNTARENAS                     </td><td>8/28/17                                                                                      </td><td>2017                                                                                         </td><td>3.0571e+10                                                                                   </td><td>SM                                                                                           </td><td>20084.99                                                                                     </td><td>248.30                                                                                       </td><td>BULTOS/PACKAGE                                                                               </td><td>6                                                                                            </td><td>1476                                                                                         </td><td>1416.16                                                                                      </td><td>107116.3                                                                                     </td><td>GUIA AEREA: 020-5720-3775 , REC 4631, EXPORTADOR: INVERSIONES CRUZ. Z. S.A. CED: 310123731211</td><td>Aereo                                                                                        </td></tr>\n",
       "\t<tr><td>CARCHARHINUS FALCIFORMIS DRYED SHARK FINS-                                                   </td><td>CARCHARHINUS FALCIFORMIS-                                                                    </td><td>aleta                                                                                        </td><td>INVERSIONES CRUZ Z SA                                                                        </td><td>INVERSIONES CRUZ Z SOCIEDAD ANONIMA                                                          </td><td>DE MARISCOS BAR 25 M. AL NORTE Y 35 MTS. AL OESTE EL COCAL DE PUNTARENAS                     </td><td>8/28/17                                                                                      </td><td>2017                                                                                         </td><td>3.0571e+10                                                                                   </td><td>SM                                                                                           </td><td> 4350.10                                                                                     </td><td>106.10                                                                                       </td><td>BULTOS/PACKAGE                                                                               </td><td>2                                                                                            </td><td>1476                                                                                         </td><td>1416.16                                                                                      </td><td>107116.3                                                                                     </td><td>GUIA AEREA: 020-5720-3775 , REC 4631, EXPORTADOR: INVERSIONES CRUZ. Z. S.A. CED: 310123731211</td><td>Aereo                                                                                        </td></tr>\n",
       "\t<tr><td>PRIONACE GLAUCA DRYED SHARK FINS-                                                            </td><td>PRIONACE GLAUCA DRYED SHARK FINS-                                                            </td><td>aleta                                                                                        </td><td>INVERSIONES CRUZ Z SA                                                                        </td><td>INVERSIONES CRUZ Z SOCIEDAD ANONIMA                                                          </td><td>DE MARISCOS BAR 25 M. AL NORTE Y 35 MTS. AL OESTE EL COCAL DE PUNTARENAS                     </td><td>8/28/17                                                                                      </td><td>2017                                                                                         </td><td>3.0571e+10                                                                                   </td><td>SM                                                                                           </td><td> 4669.60                                                                                     </td><td> 89.80                                                                                       </td><td>BULTOS/PACKAGE                                                                               </td><td>3                                                                                            </td><td>1476                                                                                         </td><td>1416.16                                                                                      </td><td>107116.3                                                                                     </td><td>GUIA AEREA: 020-5720-3775 , REC 4631, EXPORTADOR: INVERSIONES CRUZ. Z. S.A. CED: 310123731211</td><td>Aereo                                                                                        </td></tr>\n",
       "</tbody>\n",
       "</table>\n"
      ],
      "text/latex": [
       "\\begin{tabular}{r|lllllllllllllllllll}\n",
       " PRODUCT\\_DESCRIPTION & ProductDescription2 & PRODUCT & SHIPPER & EXPORTCOMPANY & SHIPPER\\_ADDRESS & EXPORT\\_DATE & EXPORT\\_YEAR & HS\\_CODE & BRAND & CIF & NET\\_WEIGHT & PACKAGE & X.PACKAGES & GROSS\\_WEIGHT & NET\\_WEIGHT2 & TOTAL\\_INVOICE & REMARKS & TRANSPORTATION\\\\\n",
       "\\hline\n",
       "\t CARCHARHINUS FALCIFORMIS DRYED SHARK FINS-                                                    & CARCHARHINUS FALCIFORMIS-                                                                     & aleta                                                                                         & INVERSIONES CRUZ Z SA                                                                         & INVERSIONES CRUZ Z SOCIEDAD ANONIMA                                                           & DE MARISCOS BAR 25 M. AL NORTE Y 35 MTS. AL OESTE EL COCAL DE PUNTARENAS                      & 8/28/17                                                                                       & 2017                                                                                          & 3.0571e+10                                                                                    & SM                                                                                            &  5266.72                                                                                      &  31.40                                                                                        & BULTOS/PACKAGE                                                                                & 1                                                                                             & 1476                                                                                          & 1416.16                                                                                       & 107116.3                                                                                      & GUIA AEREA: 020-5720-3775 , REC 4631, EXPORTADOR: INVERSIONES CRUZ. Z. S.A. CED: 310123731211 & Aereo                                                                                        \\\\\n",
       "\t CARCHARHINUS FALCIFORMIS DRYED SHARK FINS-                                                    & CARCHARHINUS FALCIFORMIS-                                                                     & aleta                                                                                         & INVERSIONES CRUZ Z SA                                                                         & INVERSIONES CRUZ Z SOCIEDAD ANONIMA                                                           & DE MARISCOS BAR 25 M. AL NORTE Y 35 MTS. AL OESTE EL COCAL DE PUNTARENAS                      & 8/28/17                                                                                       & 2017                                                                                          & 3.0571e+10                                                                                    & SM                                                                                            & 36120.88                                                                                      & 271.30                                                                                        & BULTOS/PACKAGE                                                                                & 8                                                                                             & 1476                                                                                          & 1416.16                                                                                       & 107116.3                                                                                      & GUIA AEREA: 020-5720-3775 , REC 4631, EXPORTADOR: INVERSIONES CRUZ. Z. S.A. CED: 310123731211 & Aereo                                                                                        \\\\\n",
       "\t CARCHARHINUS FALCIFORMIS DRYED SHARK FINS-                                                    & CARCHARHINUS FALCIFORMIS-                                                                     & aleta                                                                                         & INVERSIONES CRUZ Z SA                                                                         & INVERSIONES CRUZ Z SOCIEDAD ANONIMA                                                           & DE MARISCOS BAR 25 M. AL NORTE Y 35 MTS. AL OESTE EL COCAL DE PUNTARENAS                      & 8/28/17                                                                                       & 2017                                                                                          & 3.0571e+10                                                                                    & SM                                                                                            & 21601.68                                                                                      & 199.96                                                                                        & BULTOS/PACKAGE                                                                                & 5                                                                                             & 1476                                                                                          & 1416.16                                                                                       & 107116.3                                                                                      & GUIA AEREA: 020-5720-3775 , REC 4631, EXPORTADOR: INVERSIONES CRUZ. Z. S.A. CED: 310123731211 & Aereo                                                                                        \\\\\n",
       "\t CARCHARHINUS FALCIFORMIS DRYED SHARK FINS-                                                    & CARCHARHINUS FALCIFORMIS-                                                                     & aleta                                                                                         & INVERSIONES CRUZ Z SA                                                                         & INVERSIONES CRUZ Z SOCIEDAD ANONIMA                                                           & DE MARISCOS BAR 25 M. AL NORTE Y 35 MTS. AL OESTE EL COCAL DE PUNTARENAS                      & 8/28/17                                                                                       & 2017                                                                                          & 3.0571e+10                                                                                    & SM                                                                                            & 20084.99                                                                                      & 248.30                                                                                        & BULTOS/PACKAGE                                                                                & 6                                                                                             & 1476                                                                                          & 1416.16                                                                                       & 107116.3                                                                                      & GUIA AEREA: 020-5720-3775 , REC 4631, EXPORTADOR: INVERSIONES CRUZ. Z. S.A. CED: 310123731211 & Aereo                                                                                        \\\\\n",
       "\t CARCHARHINUS FALCIFORMIS DRYED SHARK FINS-                                                    & CARCHARHINUS FALCIFORMIS-                                                                     & aleta                                                                                         & INVERSIONES CRUZ Z SA                                                                         & INVERSIONES CRUZ Z SOCIEDAD ANONIMA                                                           & DE MARISCOS BAR 25 M. AL NORTE Y 35 MTS. AL OESTE EL COCAL DE PUNTARENAS                      & 8/28/17                                                                                       & 2017                                                                                          & 3.0571e+10                                                                                    & SM                                                                                            &  4350.10                                                                                      & 106.10                                                                                        & BULTOS/PACKAGE                                                                                & 2                                                                                             & 1476                                                                                          & 1416.16                                                                                       & 107116.3                                                                                      & GUIA AEREA: 020-5720-3775 , REC 4631, EXPORTADOR: INVERSIONES CRUZ. Z. S.A. CED: 310123731211 & Aereo                                                                                        \\\\\n",
       "\t PRIONACE GLAUCA DRYED SHARK FINS-                                                             & PRIONACE GLAUCA DRYED SHARK FINS-                                                             & aleta                                                                                         & INVERSIONES CRUZ Z SA                                                                         & INVERSIONES CRUZ Z SOCIEDAD ANONIMA                                                           & DE MARISCOS BAR 25 M. AL NORTE Y 35 MTS. AL OESTE EL COCAL DE PUNTARENAS                      & 8/28/17                                                                                       & 2017                                                                                          & 3.0571e+10                                                                                    & SM                                                                                            &  4669.60                                                                                      &  89.80                                                                                        & BULTOS/PACKAGE                                                                                & 3                                                                                             & 1476                                                                                          & 1416.16                                                                                       & 107116.3                                                                                      & GUIA AEREA: 020-5720-3775 , REC 4631, EXPORTADOR: INVERSIONES CRUZ. Z. S.A. CED: 310123731211 & Aereo                                                                                        \\\\\n",
       "\\end{tabular}\n"
      ],
      "text/markdown": [
       "\n",
       "PRODUCT_DESCRIPTION | ProductDescription2 | PRODUCT | SHIPPER | EXPORTCOMPANY | SHIPPER_ADDRESS | EXPORT_DATE | EXPORT_YEAR | HS_CODE | BRAND | CIF | NET_WEIGHT | PACKAGE | X.PACKAGES | GROSS_WEIGHT | NET_WEIGHT2 | TOTAL_INVOICE | REMARKS | TRANSPORTATION | \n",
       "|---|---|---|---|---|---|\n",
       "| CARCHARHINUS FALCIFORMIS DRYED SHARK FINS-                                                    | CARCHARHINUS FALCIFORMIS-                                                                     | aleta                                                                                         | INVERSIONES CRUZ Z SA                                                                         | INVERSIONES CRUZ Z SOCIEDAD ANONIMA                                                           | DE MARISCOS BAR 25 M. AL NORTE Y 35 MTS. AL OESTE EL COCAL DE PUNTARENAS                      | 8/28/17                                                                                       | 2017                                                                                          | 3.0571e+10                                                                                    | SM                                                                                            |  5266.72                                                                                      |  31.40                                                                                        | BULTOS/PACKAGE                                                                                | 1                                                                                             | 1476                                                                                          | 1416.16                                                                                       | 107116.3                                                                                      | GUIA AEREA: 020-5720-3775 , REC 4631, EXPORTADOR: INVERSIONES CRUZ. Z. S.A. CED: 310123731211 | Aereo                                                                                         | \n",
       "| CARCHARHINUS FALCIFORMIS DRYED SHARK FINS-                                                    | CARCHARHINUS FALCIFORMIS-                                                                     | aleta                                                                                         | INVERSIONES CRUZ Z SA                                                                         | INVERSIONES CRUZ Z SOCIEDAD ANONIMA                                                           | DE MARISCOS BAR 25 M. AL NORTE Y 35 MTS. AL OESTE EL COCAL DE PUNTARENAS                      | 8/28/17                                                                                       | 2017                                                                                          | 3.0571e+10                                                                                    | SM                                                                                            | 36120.88                                                                                      | 271.30                                                                                        | BULTOS/PACKAGE                                                                                | 8                                                                                             | 1476                                                                                          | 1416.16                                                                                       | 107116.3                                                                                      | GUIA AEREA: 020-5720-3775 , REC 4631, EXPORTADOR: INVERSIONES CRUZ. Z. S.A. CED: 310123731211 | Aereo                                                                                         | \n",
       "| CARCHARHINUS FALCIFORMIS DRYED SHARK FINS-                                                    | CARCHARHINUS FALCIFORMIS-                                                                     | aleta                                                                                         | INVERSIONES CRUZ Z SA                                                                         | INVERSIONES CRUZ Z SOCIEDAD ANONIMA                                                           | DE MARISCOS BAR 25 M. AL NORTE Y 35 MTS. AL OESTE EL COCAL DE PUNTARENAS                      | 8/28/17                                                                                       | 2017                                                                                          | 3.0571e+10                                                                                    | SM                                                                                            | 21601.68                                                                                      | 199.96                                                                                        | BULTOS/PACKAGE                                                                                | 5                                                                                             | 1476                                                                                          | 1416.16                                                                                       | 107116.3                                                                                      | GUIA AEREA: 020-5720-3775 , REC 4631, EXPORTADOR: INVERSIONES CRUZ. Z. S.A. CED: 310123731211 | Aereo                                                                                         | \n",
       "| CARCHARHINUS FALCIFORMIS DRYED SHARK FINS-                                                    | CARCHARHINUS FALCIFORMIS-                                                                     | aleta                                                                                         | INVERSIONES CRUZ Z SA                                                                         | INVERSIONES CRUZ Z SOCIEDAD ANONIMA                                                           | DE MARISCOS BAR 25 M. AL NORTE Y 35 MTS. AL OESTE EL COCAL DE PUNTARENAS                      | 8/28/17                                                                                       | 2017                                                                                          | 3.0571e+10                                                                                    | SM                                                                                            | 20084.99                                                                                      | 248.30                                                                                        | BULTOS/PACKAGE                                                                                | 6                                                                                             | 1476                                                                                          | 1416.16                                                                                       | 107116.3                                                                                      | GUIA AEREA: 020-5720-3775 , REC 4631, EXPORTADOR: INVERSIONES CRUZ. Z. S.A. CED: 310123731211 | Aereo                                                                                         | \n",
       "| CARCHARHINUS FALCIFORMIS DRYED SHARK FINS-                                                    | CARCHARHINUS FALCIFORMIS-                                                                     | aleta                                                                                         | INVERSIONES CRUZ Z SA                                                                         | INVERSIONES CRUZ Z SOCIEDAD ANONIMA                                                           | DE MARISCOS BAR 25 M. AL NORTE Y 35 MTS. AL OESTE EL COCAL DE PUNTARENAS                      | 8/28/17                                                                                       | 2017                                                                                          | 3.0571e+10                                                                                    | SM                                                                                            |  4350.10                                                                                      | 106.10                                                                                        | BULTOS/PACKAGE                                                                                | 2                                                                                             | 1476                                                                                          | 1416.16                                                                                       | 107116.3                                                                                      | GUIA AEREA: 020-5720-3775 , REC 4631, EXPORTADOR: INVERSIONES CRUZ. Z. S.A. CED: 310123731211 | Aereo                                                                                         | \n",
       "| PRIONACE GLAUCA DRYED SHARK FINS-                                                             | PRIONACE GLAUCA DRYED SHARK FINS-                                                             | aleta                                                                                         | INVERSIONES CRUZ Z SA                                                                         | INVERSIONES CRUZ Z SOCIEDAD ANONIMA                                                           | DE MARISCOS BAR 25 M. AL NORTE Y 35 MTS. AL OESTE EL COCAL DE PUNTARENAS                      | 8/28/17                                                                                       | 2017                                                                                          | 3.0571e+10                                                                                    | SM                                                                                            |  4669.60                                                                                      |  89.80                                                                                        | BULTOS/PACKAGE                                                                                | 3                                                                                             | 1476                                                                                          | 1416.16                                                                                       | 107116.3                                                                                      | GUIA AEREA: 020-5720-3775 , REC 4631, EXPORTADOR: INVERSIONES CRUZ. Z. S.A. CED: 310123731211 | Aereo                                                                                         | \n",
       "\n",
       "\n"
      ],
      "text/plain": [
       "  PRODUCT_DESCRIPTION                        ProductDescription2              \n",
       "1 CARCHARHINUS FALCIFORMIS DRYED SHARK FINS- CARCHARHINUS FALCIFORMIS-        \n",
       "2 CARCHARHINUS FALCIFORMIS DRYED SHARK FINS- CARCHARHINUS FALCIFORMIS-        \n",
       "3 CARCHARHINUS FALCIFORMIS DRYED SHARK FINS- CARCHARHINUS FALCIFORMIS-        \n",
       "4 CARCHARHINUS FALCIFORMIS DRYED SHARK FINS- CARCHARHINUS FALCIFORMIS-        \n",
       "5 CARCHARHINUS FALCIFORMIS DRYED SHARK FINS- CARCHARHINUS FALCIFORMIS-        \n",
       "6 PRIONACE GLAUCA DRYED SHARK FINS-          PRIONACE GLAUCA DRYED SHARK FINS-\n",
       "  PRODUCT SHIPPER               EXPORTCOMPANY                      \n",
       "1 aleta   INVERSIONES CRUZ Z SA INVERSIONES CRUZ Z SOCIEDAD ANONIMA\n",
       "2 aleta   INVERSIONES CRUZ Z SA INVERSIONES CRUZ Z SOCIEDAD ANONIMA\n",
       "3 aleta   INVERSIONES CRUZ Z SA INVERSIONES CRUZ Z SOCIEDAD ANONIMA\n",
       "4 aleta   INVERSIONES CRUZ Z SA INVERSIONES CRUZ Z SOCIEDAD ANONIMA\n",
       "5 aleta   INVERSIONES CRUZ Z SA INVERSIONES CRUZ Z SOCIEDAD ANONIMA\n",
       "6 aleta   INVERSIONES CRUZ Z SA INVERSIONES CRUZ Z SOCIEDAD ANONIMA\n",
       "  SHIPPER_ADDRESS                                                         \n",
       "1 DE MARISCOS BAR 25 M. AL NORTE Y 35 MTS. AL OESTE EL COCAL DE PUNTARENAS\n",
       "2 DE MARISCOS BAR 25 M. AL NORTE Y 35 MTS. AL OESTE EL COCAL DE PUNTARENAS\n",
       "3 DE MARISCOS BAR 25 M. AL NORTE Y 35 MTS. AL OESTE EL COCAL DE PUNTARENAS\n",
       "4 DE MARISCOS BAR 25 M. AL NORTE Y 35 MTS. AL OESTE EL COCAL DE PUNTARENAS\n",
       "5 DE MARISCOS BAR 25 M. AL NORTE Y 35 MTS. AL OESTE EL COCAL DE PUNTARENAS\n",
       "6 DE MARISCOS BAR 25 M. AL NORTE Y 35 MTS. AL OESTE EL COCAL DE PUNTARENAS\n",
       "  EXPORT_DATE EXPORT_YEAR HS_CODE    BRAND CIF      NET_WEIGHT PACKAGE       \n",
       "1 8/28/17     2017        3.0571e+10 SM     5266.72  31.40     BULTOS/PACKAGE\n",
       "2 8/28/17     2017        3.0571e+10 SM    36120.88 271.30     BULTOS/PACKAGE\n",
       "3 8/28/17     2017        3.0571e+10 SM    21601.68 199.96     BULTOS/PACKAGE\n",
       "4 8/28/17     2017        3.0571e+10 SM    20084.99 248.30     BULTOS/PACKAGE\n",
       "5 8/28/17     2017        3.0571e+10 SM     4350.10 106.10     BULTOS/PACKAGE\n",
       "6 8/28/17     2017        3.0571e+10 SM     4669.60  89.80     BULTOS/PACKAGE\n",
       "  X.PACKAGES GROSS_WEIGHT NET_WEIGHT2 TOTAL_INVOICE\n",
       "1 1          1476         1416.16     107116.3     \n",
       "2 8          1476         1416.16     107116.3     \n",
       "3 5          1476         1416.16     107116.3     \n",
       "4 6          1476         1416.16     107116.3     \n",
       "5 2          1476         1416.16     107116.3     \n",
       "6 3          1476         1416.16     107116.3     \n",
       "  REMARKS                                                                                      \n",
       "1 GUIA AEREA: 020-5720-3775 , REC 4631, EXPORTADOR: INVERSIONES CRUZ. Z. S.A. CED: 310123731211\n",
       "2 GUIA AEREA: 020-5720-3775 , REC 4631, EXPORTADOR: INVERSIONES CRUZ. Z. S.A. CED: 310123731211\n",
       "3 GUIA AEREA: 020-5720-3775 , REC 4631, EXPORTADOR: INVERSIONES CRUZ. Z. S.A. CED: 310123731211\n",
       "4 GUIA AEREA: 020-5720-3775 , REC 4631, EXPORTADOR: INVERSIONES CRUZ. Z. S.A. CED: 310123731211\n",
       "5 GUIA AEREA: 020-5720-3775 , REC 4631, EXPORTADOR: INVERSIONES CRUZ. Z. S.A. CED: 310123731211\n",
       "6 GUIA AEREA: 020-5720-3775 , REC 4631, EXPORTADOR: INVERSIONES CRUZ. Z. S.A. CED: 310123731211\n",
       "  TRANSPORTATION\n",
       "1 Aereo         \n",
       "2 Aereo         \n",
       "3 Aereo         \n",
       "4 Aereo         \n",
       "5 Aereo         \n",
       "6 Aereo         "
      ]
     },
     "metadata": {},
     "output_type": "display_data"
    }
   ],
   "source": [
    "#1.1.2 An example of what the CR data looks like.\n",
    "head(CR)"
   ]
  },
  {
   "cell_type": "markdown",
   "metadata": {},
   "source": [
    "### 1.3 Offload data \n",
    "\n",
    "This is official offload data from all fishing vessels that unloaded fish at any Costa Rican port between 2011 and 2016. \n",
    "\n",
    "*The data is collected by inspectors from INCOPESCA, the government agency tasked with regulating the fishing industry in Costa Rica. The inspectors are present for the entire offload, and mark the number and weight of each species offloaded. This data should reflect all of the fish and sharks offloaded in Costa Rica, by local or international vessels in that timeframe, although critics accuse INCOPESCA of underreporting.*\n",
    "\n",
    "*Costa Rica was the only CMAR country to provide offload data. (Note: every country should hold this data from inspection, and each country in the region was solicited for the information via email to the appropriate institution and failed to provide.)* \n",
    "\n",
    "The data is largely unmodified. I added a single row \"Species\" which is based on the original column \"Especies\". Through my own judgement and knowledge of fish species, I distiled \"Especies\" into three categories--Tiburon, Pescado, Other. That distilation is reflected in the \"Species\" column. Additionally, years 2014 and 2015 have a column \"embarcaciones\" which detail the vessels that offloaded the product. This was intended to be redacted but they made a mistake on these two years allowing me access to the information."
   ]
  },
  {
   "cell_type": "code",
   "execution_count": 4,
   "metadata": {
    "collapsed": false
   },
   "outputs": [
    {
     "data": {
      "text/html": [
       "<table>\n",
       "<thead><tr><th scope=col>Fecha</th><th scope=col>Ano</th><th scope=col>Bandera</th><th scope=col>Puerto</th><th scope=col>Muelle</th><th scope=col>Solicitud</th><th scope=col>Desembarque</th><th scope=col>Aprobado</th><th scope=col>Especies</th><th scope=col>Species</th><th scope=col>cuerpos</th><th scope=col>KgCuerpos</th><th scope=col>KgAletas</th><th scope=col>Peso</th><th scope=col>Embarcacion</th></tr></thead>\n",
       "<tbody>\n",
       "\t<tr><td>1-Jan-16       </td><td>2016           </td><td>Costa Rica     </td><td>Puntarenas     </td><td>Palmarenos     </td><td>3464           </td><td>Aleta Adherida </td><td>Aprobado       </td><td>Marlin Rosado  </td><td>pescado        </td><td>18             </td><td>               </td><td>               </td><td>404            </td><td>               </td></tr>\n",
       "\t<tr><td>1-Jan-16       </td><td>2016           </td><td>Costa Rica     </td><td>Puntarenas     </td><td>Palmarenos     </td><td>3464           </td><td>Aleta Adherida </td><td>Aprobado       </td><td>Vela           </td><td>pescado        </td><td> 8             </td><td>               </td><td>               </td><td>196            </td><td>               </td></tr>\n",
       "\t<tr><td>1-Jan-16       </td><td>2016           </td><td>Costa Rica     </td><td>Puntarenas     </td><td>Palmarenos     </td><td>3464           </td><td>Aleta Adherida </td><td>Aprobado       </td><td>Atun A Amarilla</td><td>pescado        </td><td> 3             </td><td>               </td><td>               </td><td>82             </td><td>               </td></tr>\n",
       "\t<tr><td>1-Jan-16       </td><td>2016           </td><td>Costa Rica     </td><td>Puntarenas     </td><td>Palmarenos     </td><td>3464           </td><td>Aleta Adherida </td><td>Aprobado       </td><td>Espada         </td><td>pescado        </td><td> 2             </td><td>               </td><td>               </td><td>37             </td><td>               </td></tr>\n",
       "\t<tr><td>1-Jan-16       </td><td>2016           </td><td>Costa Rica     </td><td>Puntarenas     </td><td>Palmarenos     </td><td>3464           </td><td>Aleta Adherida </td><td>Aprobado       </td><td>Martillo Rosado</td><td>tiburon        </td><td> 1             </td><td>5.5            </td><td>0.4            </td><td>5.9            </td><td>               </td></tr>\n",
       "\t<tr><td>1-Jan-16       </td><td>2016           </td><td>Costa Rica     </td><td>Puntarenas     </td><td>Palmarenos     </td><td>3464           </td><td>Aleta Adherida </td><td>Aprobado       </td><td>Zorro Pelagico </td><td>tiburon        </td><td>29             </td><td>761            </td><td>36             </td><td>797            </td><td>               </td></tr>\n",
       "</tbody>\n",
       "</table>\n"
      ],
      "text/latex": [
       "\\begin{tabular}{r|lllllllllllllll}\n",
       " Fecha & Ano & Bandera & Puerto & Muelle & Solicitud & Desembarque & Aprobado & Especies & Species & cuerpos & KgCuerpos & KgAletas & Peso & Embarcacion\\\\\n",
       "\\hline\n",
       "\t 1-Jan-16        & 2016            & Costa Rica      & Puntarenas      & Palmarenos      & 3464            & Aleta Adherida  & Aprobado        & Marlin Rosado   & pescado         & 18              &                 &                 & 404             &                \\\\\n",
       "\t 1-Jan-16        & 2016            & Costa Rica      & Puntarenas      & Palmarenos      & 3464            & Aleta Adherida  & Aprobado        & Vela            & pescado         &  8              &                 &                 & 196             &                \\\\\n",
       "\t 1-Jan-16        & 2016            & Costa Rica      & Puntarenas      & Palmarenos      & 3464            & Aleta Adherida  & Aprobado        & Atun A Amarilla & pescado         &  3              &                 &                 & 82              &                \\\\\n",
       "\t 1-Jan-16        & 2016            & Costa Rica      & Puntarenas      & Palmarenos      & 3464            & Aleta Adherida  & Aprobado        & Espada          & pescado         &  2              &                 &                 & 37              &                \\\\\n",
       "\t 1-Jan-16        & 2016            & Costa Rica      & Puntarenas      & Palmarenos      & 3464            & Aleta Adherida  & Aprobado        & Martillo Rosado & tiburon         &  1              & 5.5             & 0.4             & 5.9             &                \\\\\n",
       "\t 1-Jan-16        & 2016            & Costa Rica      & Puntarenas      & Palmarenos      & 3464            & Aleta Adherida  & Aprobado        & Zorro Pelagico  & tiburon         & 29              & 761             & 36              & 797             &                \\\\\n",
       "\\end{tabular}\n"
      ],
      "text/markdown": [
       "\n",
       "Fecha | Ano | Bandera | Puerto | Muelle | Solicitud | Desembarque | Aprobado | Especies | Species | cuerpos | KgCuerpos | KgAletas | Peso | Embarcacion | \n",
       "|---|---|---|---|---|---|\n",
       "| 1-Jan-16        | 2016            | Costa Rica      | Puntarenas      | Palmarenos      | 3464            | Aleta Adherida  | Aprobado        | Marlin Rosado   | pescado         | 18              |                 |                 | 404             |                 | \n",
       "| 1-Jan-16        | 2016            | Costa Rica      | Puntarenas      | Palmarenos      | 3464            | Aleta Adherida  | Aprobado        | Vela            | pescado         |  8              |                 |                 | 196             |                 | \n",
       "| 1-Jan-16        | 2016            | Costa Rica      | Puntarenas      | Palmarenos      | 3464            | Aleta Adherida  | Aprobado        | Atun A Amarilla | pescado         |  3              |                 |                 | 82              |                 | \n",
       "| 1-Jan-16        | 2016            | Costa Rica      | Puntarenas      | Palmarenos      | 3464            | Aleta Adherida  | Aprobado        | Espada          | pescado         |  2              |                 |                 | 37              |                 | \n",
       "| 1-Jan-16        | 2016            | Costa Rica      | Puntarenas      | Palmarenos      | 3464            | Aleta Adherida  | Aprobado        | Martillo Rosado | tiburon         |  1              | 5.5             | 0.4             | 5.9             |                 | \n",
       "| 1-Jan-16        | 2016            | Costa Rica      | Puntarenas      | Palmarenos      | 3464            | Aleta Adherida  | Aprobado        | Zorro Pelagico  | tiburon         | 29              | 761             | 36              | 797             |                 | \n",
       "\n",
       "\n"
      ],
      "text/plain": [
       "  Fecha    Ano  Bandera    Puerto     Muelle     Solicitud Desembarque   \n",
       "1 1-Jan-16 2016 Costa Rica Puntarenas Palmarenos 3464      Aleta Adherida\n",
       "2 1-Jan-16 2016 Costa Rica Puntarenas Palmarenos 3464      Aleta Adherida\n",
       "3 1-Jan-16 2016 Costa Rica Puntarenas Palmarenos 3464      Aleta Adherida\n",
       "4 1-Jan-16 2016 Costa Rica Puntarenas Palmarenos 3464      Aleta Adherida\n",
       "5 1-Jan-16 2016 Costa Rica Puntarenas Palmarenos 3464      Aleta Adherida\n",
       "6 1-Jan-16 2016 Costa Rica Puntarenas Palmarenos 3464      Aleta Adherida\n",
       "  Aprobado Especies        Species cuerpos KgCuerpos KgAletas Peso Embarcacion\n",
       "1 Aprobado Marlin Rosado   pescado 18                         404             \n",
       "2 Aprobado Vela            pescado  8                         196             \n",
       "3 Aprobado Atun A Amarilla pescado  3                         82              \n",
       "4 Aprobado Espada          pescado  2                         37              \n",
       "5 Aprobado Martillo Rosado tiburon  1      5.5       0.4      5.9             \n",
       "6 Aprobado Zorro Pelagico  tiburon 29      761       36       797             "
      ]
     },
     "metadata": {},
     "output_type": "display_data"
    }
   ],
   "source": [
    "#1.1.3 An example of what the Offload data looks like.\n",
    "head(offload)"
   ]
  },
  {
   "cell_type": "code",
   "execution_count": 5,
   "metadata": {
    "collapsed": false
   },
   "outputs": [
    {
     "name": "stderr",
     "output_type": "stream",
     "text": [
      "\n",
      "Attaching package: ‘dplyr’\n",
      "\n",
      "The following objects are masked from ‘package:stats’:\n",
      "\n",
      "    filter, lag\n",
      "\n",
      "The following objects are masked from ‘package:base’:\n",
      "\n",
      "    intersect, setdiff, setequal, union\n",
      "\n"
     ]
    }
   ],
   "source": [
    "#packages\n",
    "library(dplyr)"
   ]
  },
  {
   "cell_type": "markdown",
   "metadata": {},
   "source": [
    "## 2. CMAR EXPORTS"
   ]
  },
  {
   "cell_type": "markdown",
   "metadata": {},
   "source": [
    "In this section, using CMAR data, we will analyze regional trade data in order to determine which CMAR countries are the biggest players in the shark industry. "
   ]
  },
  {
   "cell_type": "markdown",
   "metadata": {},
   "source": [
    "### 2.1 Total Shark Exports"
   ]
  },
  {
   "cell_type": "code",
   "execution_count": 6,
   "metadata": {
    "collapsed": false
   },
   "outputs": [
    {
     "data": {
      "text/html": [
       "26809905"
      ],
      "text/latex": [
       "26809905"
      ],
      "text/markdown": [
       "26809905"
      ],
      "text/plain": [
       "[1] 26809905"
      ]
     },
     "metadata": {},
     "output_type": "display_data"
    }
   ],
   "source": [
    "#2.1.1 Total weight (Kilo) of potential shark products exported in CMAR countries between 2011 and 2016\n",
    "#First, subset exports\n",
    "CMARexport = filter(CMAR, TradeFlow == 'Export')\n",
    "#Then sum of kilos exported\n",
    "sum(CMARexport$Netweight)"
   ]
  },
  {
   "cell_type": "code",
   "execution_count": 7,
   "metadata": {
    "collapsed": false
   },
   "outputs": [
    {
     "data": {
      "text/html": [
       "67991940"
      ],
      "text/latex": [
       "67991940"
      ],
      "text/markdown": [
       "67991940"
      ],
      "text/plain": [
       "[1] 67991940"
      ]
     },
     "metadata": {},
     "output_type": "display_data"
    },
    {
     "data": {
      "text/html": [
       "11331990"
      ],
      "text/latex": [
       "11331990"
      ],
      "text/markdown": [
       "11331990"
      ],
      "text/plain": [
       "[1] 11331990"
      ]
     },
     "metadata": {},
     "output_type": "display_data"
    }
   ],
   "source": [
    "#2.1.2 Total value (USD) of potential shark exports from CMAR countries between 2011 and 2016\n",
    "sum(CMARexport$TradeValue)\n",
    "(sum(CMARexport$TradeValue))/6"
   ]
  },
  {
   "cell_type": "markdown",
   "metadata": {},
   "source": [
    "26,809,905 kilos of shark product exported in region between 2011 and 2016. $67,991,940 of shark products exported. That's an average of 11,331,990 USD of exports annually."
   ]
  },
  {
   "cell_type": "code",
   "execution_count": 8,
   "metadata": {
    "collapsed": false
   },
   "outputs": [
    {
     "data": {
      "text/html": [
       "<dl class=dl-horizontal>\n",
       "\t<dt>2011</dt>\n",
       "\t\t<dd>6433500</dd>\n",
       "\t<dt>2012</dt>\n",
       "\t\t<dd>8192187</dd>\n",
       "\t<dt>2013</dt>\n",
       "\t\t<dd>9524832</dd>\n",
       "\t<dt>2014</dt>\n",
       "\t\t<dd>10894550</dd>\n",
       "\t<dt>2015</dt>\n",
       "\t\t<dd>13689859</dd>\n",
       "\t<dt>2016</dt>\n",
       "\t\t<dd>19257012</dd>\n",
       "</dl>\n"
      ],
      "text/plain": [
       "    2011     2012     2013     2014     2015     2016 \n",
       " 6433500  8192187  9524832 10894550 13689859 19257012 "
      ]
     },
     "metadata": {},
     "output_type": "display_data"
    }
   ],
   "source": [
    "#2.1.3 Total exports of shark products from CMAR countries by year.\n",
    "sort(tapply(as.numeric(CMARexport$TradeValue), CMARexport$Year, FUN=sum, na.rm=TRUE))"
   ]
  },
  {
   "cell_type": "markdown",
   "metadata": {},
   "source": [
    "Declared value of shark products has increased (tripled) from CMAR nations between 2011 and 2016."
   ]
  },
  {
   "cell_type": "markdown",
   "metadata": {},
   "source": [
    "### 2.2 Ranking of exports by country "
   ]
  },
  {
   "cell_type": "code",
   "execution_count": 9,
   "metadata": {
    "collapsed": false
   },
   "outputs": [
    {
     "data": {
      "text/html": [
       "<dl class=dl-horizontal>\n",
       "\t<dt>Guatemala</dt>\n",
       "\t\t<dd>177732</dd>\n",
       "\t<dt>Nicaragua</dt>\n",
       "\t\t<dd>1087342</dd>\n",
       "\t<dt>Colombia</dt>\n",
       "\t\t<dd>1809871</dd>\n",
       "\t<dt>El Salvador</dt>\n",
       "\t\t<dd>6095621</dd>\n",
       "\t<dt>Panama</dt>\n",
       "\t\t<dd>6574598</dd>\n",
       "\t<dt>Ecuador</dt>\n",
       "\t\t<dd>12078697</dd>\n",
       "\t<dt>Costa Rica</dt>\n",
       "\t\t<dd>40168079</dd>\n",
       "</dl>\n"
      ],
      "text/plain": [
       "  Guatemala   Nicaragua    Colombia El Salvador      Panama     Ecuador \n",
       "     177732     1087342     1809871     6095621     6574598    12078697 \n",
       " Costa Rica \n",
       "   40168079 "
      ]
     },
     "metadata": {},
     "output_type": "display_data"
    }
   ],
   "source": [
    "#2.2.1 Total shark export value by country listed from least to most. \n",
    "sort(tapply(as.numeric(CMARexport$TradeValue), CMARexport$Reporter, FUN=sum, na.rm=TRUE))\n"
   ]
  },
  {
   "cell_type": "markdown",
   "metadata": {},
   "source": [
    "Between 2011 and 2016, Costa Rica exported 40,168,079 USD worth of shark products.\n",
    "\n",
    "Costa Rica is the largest exporter of shark products (by declared value), exporting over three times as much as the nearest competitor Ecuador. Panama and El Salvador each export about half of what Ecuador exports."
   ]
  },
  {
   "cell_type": "code",
   "execution_count": 10,
   "metadata": {
    "collapsed": false
   },
   "outputs": [
    {
     "data": {
      "text/html": [
       "<dl class=dl-horizontal>\n",
       "\t<dt>Colombia</dt>\n",
       "\t\t<dd>73422</dd>\n",
       "\t<dt>Guatemala</dt>\n",
       "\t\t<dd>226456</dd>\n",
       "\t<dt>Nicaragua</dt>\n",
       "\t\t<dd>812595</dd>\n",
       "\t<dt>El Salvador</dt>\n",
       "\t\t<dd>1452097</dd>\n",
       "\t<dt>Ecuador</dt>\n",
       "\t\t<dd>4588056</dd>\n",
       "\t<dt>Panama</dt>\n",
       "\t\t<dd>4642673</dd>\n",
       "\t<dt>Costa Rica</dt>\n",
       "\t\t<dd>15014606</dd>\n",
       "</dl>\n"
      ],
      "text/plain": [
       "   Colombia   Guatemala   Nicaragua El Salvador     Ecuador      Panama \n",
       "      73422      226456      812595     1452097     4588056     4642673 \n",
       " Costa Rica \n",
       "   15014606 "
      ]
     },
     "metadata": {},
     "output_type": "display_data"
    }
   ],
   "source": [
    "#2.2.2 Total shark export weight by country listed from least to most\n",
    "sort(tapply(as.numeric(CMARexport$Netweight), CMARexport$Reporter, FUN=sum, na.rm=TRUE))\n"
   ]
  },
  {
   "cell_type": "markdown",
   "metadata": {},
   "source": [
    "Costa Rica exported 15,014,606 kilos of shark products between 2011 and 2016. It exports more than three times the weight of the next two countries, Ecuador and Panama. Heavier exports could mean that those countries export more meat in addition to fins. Fins, though high in export value, are very light, making this a less useful metric than declared value of exports."
   ]
  },
  {
   "cell_type": "code",
   "execution_count": 11,
   "metadata": {
    "collapsed": false
   },
   "outputs": [
    {
     "data": {
      "text/html": [
       "<dl class=dl-horizontal>\n",
       "\t<dt>Guatemala</dt>\n",
       "\t\t<dd>0.784841205355566</dd>\n",
       "\t<dt>Nicaragua</dt>\n",
       "\t\t<dd>1.33811062091202</dd>\n",
       "\t<dt>Panama</dt>\n",
       "\t\t<dd>1.41612342717223</dd>\n",
       "\t<dt>Ecuador</dt>\n",
       "\t\t<dd>2.63263940108839</dd>\n",
       "\t<dt>Costa Rica</dt>\n",
       "\t\t<dd>2.67526693674146</dd>\n",
       "\t<dt>El Salvador</dt>\n",
       "\t\t<dd>4.19780565623371</dd>\n",
       "\t<dt>Colombia</dt>\n",
       "\t\t<dd>24.6502546920542</dd>\n",
       "</dl>\n"
      ],
      "text/plain": [
       "  Guatemala   Nicaragua      Panama     Ecuador  Costa Rica El Salvador \n",
       "  0.7848412   1.3381106   1.4161234   2.6326394   2.6752669   4.1978057 \n",
       "   Colombia \n",
       " 24.6502547 "
      ]
     },
     "metadata": {},
     "output_type": "display_data"
    }
   ],
   "source": [
    "#2.2.3 Shark exports in price per kilo for each country\n",
    "sort((tapply(as.numeric(CMARexport$TradeValue), CMARexport$Reporter, FUN=sum, na.rm=TRUE))/(tapply(as.numeric(CMARexport$Netweight), CMARexport$Reporter, FUN=sum, na.rm=TRUE))\n",
    ")"
   ]
  },
  {
   "cell_type": "markdown",
   "metadata": {},
   "source": [
    "The average price per kilo could indicate countries that export a higher ratio of fins to meat. A high price per kilo would imply more fins exported, where are lower price would indicate low quality meat. By that metric, Colombia, and to a lesser extent El Salvador, Costa Rica, and Ecuador export higher ratios of fins."
   ]
  },
  {
   "cell_type": "markdown",
   "metadata": {},
   "source": [
    "### 2.3 Costa Rica Exports"
   ]
  },
  {
   "cell_type": "code",
   "execution_count": 12,
   "metadata": {
    "collapsed": false
   },
   "outputs": [
    {
     "data": {
      "text/html": [
       "0.590777068576069"
      ],
      "text/latex": [
       "0.590777068576069"
      ],
      "text/markdown": [
       "0.590777068576069"
      ],
      "text/plain": [
       "[1] 0.5907771"
      ]
     },
     "metadata": {},
     "output_type": "display_data"
    },
    {
     "data": {
      "text/html": [
       "6694679.83333333"
      ],
      "text/latex": [
       "6694679.83333333"
      ],
      "text/markdown": [
       "6694679.83333333"
      ],
      "text/plain": [
       "[1] 6694680"
      ]
     },
     "metadata": {},
     "output_type": "display_data"
    },
    {
     "data": {
      "text/html": [
       "<dl class=dl-horizontal>\n",
       "\t<dt>2011</dt>\n",
       "\t\t<dd>3805258</dd>\n",
       "\t<dt>2012</dt>\n",
       "\t\t<dd>5452911</dd>\n",
       "\t<dt>2013</dt>\n",
       "\t\t<dd>6889127</dd>\n",
       "\t<dt>2014</dt>\n",
       "\t\t<dd>7908262</dd>\n",
       "\t<dt>2015</dt>\n",
       "\t\t<dd>7889383</dd>\n",
       "\t<dt>2016</dt>\n",
       "\t\t<dd>8223138</dd>\n",
       "</dl>\n"
      ],
      "text/plain": [
       "   2011    2012    2013    2014    2015    2016 \n",
       "3805258 5452911 6889127 7908262 7889383 8223138 "
      ]
     },
     "metadata": {},
     "output_type": "display_data"
    },
    {
     "data": {
      "text/html": [
       "<dl class=dl-horizontal>\n",
       "\t<dt>2011</dt>\n",
       "\t\t<dd>0.591475557628041</dd>\n",
       "\t<dt>2012</dt>\n",
       "\t\t<dd>0.665623355521547</dd>\n",
       "\t<dt>2013</dt>\n",
       "\t\t<dd>0.72328068358581</dd>\n",
       "\t<dt>2014</dt>\n",
       "\t\t<dd>0.72589156963803</dd>\n",
       "\t<dt>2015</dt>\n",
       "\t\t<dd>0.57629395598596</dd>\n",
       "\t<dt>2016</dt>\n",
       "\t\t<dd>0.427020453640471</dd>\n",
       "</dl>\n"
      ],
      "text/plain": [
       "     2011      2012      2013      2014      2015      2016 \n",
       "0.5914756 0.6656234 0.7232807 0.7258916 0.5762940 0.4270205 "
      ]
     },
     "metadata": {},
     "output_type": "display_data"
    }
   ],
   "source": [
    "#2.3.1 Create Costa Rica subset, average value of shark exports per year, and shark export value per year.\n",
    "crexports = filter(CMAR, TradeFlow == 'Export', Reporter == 'Costa Rica')\n",
    "(sum(crexports$TradeValue))/(sum(as.numeric(CMARexport$TradeValue)))\n",
    "sum(crexports$TradeValue)/6\n",
    "tapply(as.numeric(crexports$TradeValue), crexports$Year, FUN=sum, na.rm=TRUE)\n",
    "(tapply(as.numeric(crexports$TradeValue), crexports$Year, FUN=sum, na.rm=TRUE))/(tapply(as.numeric(CMARexport$TradeValue), CMARexport$Year, FUN=sum, na.rm=TRUE))"
   ]
  },
  {
   "cell_type": "markdown",
   "metadata": {},
   "source": [
    "According to U.N. data, Costa Rica exported an average of 6,694,679.8 USD of shark products per year between 2011 and 2016. That's 59 percent of total exports (as measured in declared value) in the region. However, there has been a steady increase in declared value of exports since 2011 (with the exception of a small dip from 2014 to 2015 and then again from 2015 to 2016). Costa Rican exports accounted for between 42.7 and 72.5 percent of regional shark product exports in any given year. "
   ]
  },
  {
   "cell_type": "code",
   "execution_count": 13,
   "metadata": {
    "collapsed": false
   },
   "outputs": [
    {
     "data": {
      "text/html": [
       "<dl class=dl-horizontal>\n",
       "\t<dt>2011</dt>\n",
       "\t\t<dd>1.20543151839228</dd>\n",
       "\t<dt>2012</dt>\n",
       "\t\t<dd>1.45811689405604</dd>\n",
       "\t<dt>2013</dt>\n",
       "\t\t<dd>2.56034083235373</dd>\n",
       "\t<dt>2014</dt>\n",
       "\t\t<dd>2.65774797936516</dd>\n",
       "\t<dt>2015</dt>\n",
       "\t\t<dd>4.49898180478595</dd>\n",
       "\t<dt>2016</dt>\n",
       "\t\t<dd>11.7759049809395</dd>\n",
       "</dl>\n"
      ],
      "text/plain": [
       "     2011      2012      2013      2014      2015      2016 \n",
       " 1.205432  1.458117  2.560341  2.657748  4.498982 11.775905 "
      ]
     },
     "metadata": {},
     "output_type": "display_data"
    }
   ],
   "source": [
    "#2.3.2 Price per kilo by year of Costa Rica shark exports\n",
    "(tapply(as.numeric(crexports$TradeValue), crexports$Year, FUN=sum, na.rm=TRUE))/(tapply(as.numeric(crexports$Netweight), crexports$Year, FUN=sum, na.rm=TRUE))"
   ]
  },
  {
   "cell_type": "markdown",
   "metadata": {},
   "source": [
    "Costa Rica has seen what appears to be exponetial increase in price per kilo between 2011 and 2016. The price increased more than $10. This could indicate more fins, or a higher price per fin, or a higher price for shark products in general. "
   ]
  },
  {
   "cell_type": "code",
   "execution_count": 14,
   "metadata": {
    "collapsed": false
   },
   "outputs": [
    {
     "data": {
      "text/plain": [
       "\n",
       "30265 30281 30375 30381 30571 \n",
       "    3     2     8    33     7 "
      ]
     },
     "metadata": {},
     "output_type": "display_data"
    }
   ],
   "source": [
    "#2.3.3 Export commodity codes used by Costa Rica for shark products\n",
    "table(crexports$CommodityCode)"
   ]
  },
  {
   "cell_type": "markdown",
   "metadata": {},
   "source": [
    "Number under each HS code represtents the number of times in the given timeframe that each code was used. The UN Defines the HS codes used by Costa Rica as follows:\n",
    "\n",
    "30265: Dogfish & other sharks, fresh/chilled (excl. fillets/other fish meat of 03.04/livers & roes)\n",
    "\n",
    "30281: Fish and crustaceans, molluscs and other aquatic invertebrates // Fish, fresh or chilled, excluding fish fillets and other fish meat of heading 03.04. // - Other fish, excluding livers and roes : // -- Dogfish and other sharks\n",
    "\n",
    "30375: Dogfish & other sharks, frozen (excl. fillets/other fish meat of 03.04/livers & roes)\n",
    "\n",
    "30381: Fish and crustaceans, molluscs and other aquatic invertebrates // Fish, frozen, excluding fish fillets and other fish meat of heading03.04. // - Other fish, excluding livers and roes : // -- Dogfish and other sharks\n",
    "\n",
    "30571: Fish and crustaceans, molluscs and other aquatic invertebrates // Fish, dried, salted or in brine; smoked fish, whether or not cooked before or during the smoking process; flours, meals and pellets of fish, fit for human consumption. // - Fish fins, heads, tails, maws and other edible fish offal : // -- Shark fins\n",
    "\n",
    "This shows just how vague the commody classification system is in Costa Rica when it comes to shark products. It is unclear how much of this is actually shark."
   ]
  },
  {
   "cell_type": "markdown",
   "metadata": {},
   "source": [
    "### 2.4 El Salvador Exports"
   ]
  },
  {
   "cell_type": "markdown",
   "metadata": {},
   "source": [
    "It is unusual for a Northern triangle country to be as big a shark exporter as El Salvador appeared to be. Here we will do a basic analysis of Salvadoran shark exports in order to assist our understanding of it's role. Anecdotly, El Salvador became an important offload port of Wang vessels around 2015 when the vessels stopped offloading at Costa Rican port. They apparently also offloaded in El Salvador some years earlier, left, and then came back, according to port officials in Puerto Corsain, El Salvador."
   ]
  },
  {
   "cell_type": "code",
   "execution_count": 15,
   "metadata": {
    "collapsed": false
   },
   "outputs": [
    {
     "data": {
      "text/html": [
       "1015936.83333333"
      ],
      "text/latex": [
       "1015936.83333333"
      ],
      "text/markdown": [
       "1015936.83333333"
      ],
      "text/plain": [
       "[1] 1015937"
      ]
     },
     "metadata": {},
     "output_type": "display_data"
    },
    {
     "data": {
      "text/html": [
       "<dl class=dl-horizontal>\n",
       "\t<dt>2013</dt>\n",
       "\t\t<dd>525969</dd>\n",
       "\t<dt>2014</dt>\n",
       "\t\t<dd>561068</dd>\n",
       "\t<dt>2016</dt>\n",
       "\t\t<dd>1513669</dd>\n",
       "\t<dt>2012</dt>\n",
       "\t\t<dd>1688434</dd>\n",
       "\t<dt>2015</dt>\n",
       "\t\t<dd>1806481</dd>\n",
       "</dl>\n"
      ],
      "text/plain": [
       "   2013    2014    2016    2012    2015 \n",
       " 525969  561068 1513669 1688434 1806481 "
      ]
     },
     "metadata": {},
     "output_type": "display_data"
    }
   ],
   "source": [
    "#2.4.1 Create El Salvador subset, average value of shark exports per year, and shark export value per year in order of least to most.\n",
    "esexports = filter(CMAR, TradeFlow == 'Export', Reporter == 'El Salvador')\n",
    "sum(esexports$TradeValue)/6\n",
    "sort(tapply(as.numeric(esexports$TradeValue), esexports$Year, FUN=sum, na.rm=TRUE))"
   ]
  },
  {
   "cell_type": "markdown",
   "metadata": {},
   "source": [
    "El Salvador has an inconsistent export record when it comes to shark commodity exports. In 2015 and 2016, it exported nearly 1.5 million USD of shark products. The only other year similar was 2012. This supports the idea that there was a large influx of shark offloads in those years."
   ]
  },
  {
   "cell_type": "code",
   "execution_count": 16,
   "metadata": {
    "collapsed": false
   },
   "outputs": [
    {
     "data": {
      "text/html": [
       "<dl class=dl-horizontal>\n",
       "\t<dt>2012</dt>\n",
       "\t\t<dd>76.3997285067873</dd>\n",
       "\t<dt>2013</dt>\n",
       "\t\t<dd>55.8472074750478</dd>\n",
       "\t<dt>2014</dt>\n",
       "\t\t<dd>48.4138407110191</dd>\n",
       "\t<dt>2015</dt>\n",
       "\t\t<dd>1.91948083686632</dd>\n",
       "\t<dt>2016</dt>\n",
       "\t\t<dd>3.23530329585774</dd>\n",
       "</dl>\n"
      ],
      "text/plain": [
       "     2012      2013      2014      2015      2016 \n",
       "76.399729 55.847207 48.413841  1.919481  3.235303 "
      ]
     },
     "metadata": {},
     "output_type": "display_data"
    }
   ],
   "source": [
    "#2.4.2 Price per kilo by year of El Salvador shark exports\n",
    "(tapply(as.numeric(esexports$TradeValue), esexports$Year, FUN=sum, na.rm=TRUE))/(tapply(as.numeric(esexports$Netweight), esexports$Year, FUN=sum, na.rm=TRUE))"
   ]
  },
  {
   "cell_type": "markdown",
   "metadata": {},
   "source": [
    "The price per kilo of shark products in 2012 in El Salvador is consistent with the price of shark fins (see section 3.1.5 and 3.1.6). The price in 2016 is about three times the normal price of shark meat, indicating a mix."
   ]
  },
  {
   "cell_type": "code",
   "execution_count": 17,
   "metadata": {
    "collapsed": false
   },
   "outputs": [
    {
     "data": {
      "text/plain": [
       "\n",
       "30381 30571 \n",
       "    5     7 "
      ]
     },
     "metadata": {},
     "output_type": "display_data"
    }
   ],
   "source": [
    "#2.4.3 Export commodity codes used by El Salvador for shark products\n",
    "table(esexports$CommodityCode)"
   ]
  },
  {
   "cell_type": "markdown",
   "metadata": {},
   "source": [
    "30381: Fish and crustaceans, molluscs and other aquatic invertebrates // Fish, frozen, excluding fish fillets and other fish meat of heading03.04. // - Other fish, excluding livers and roes : // -- Dogfish and other sharks\n",
    "\n",
    "30571: Fish and crustaceans, molluscs and other aquatic invertebrates // Fish, dried, salted or in brine; smoked fish, whether or not cooked before or during the smoking process; flours, meals and pellets of fish, fit for human consumption. // - Fish fins, heads, tails, maws and other edible fish offal : // -- Shark fins\n"
   ]
  },
  {
   "cell_type": "code",
   "execution_count": 18,
   "metadata": {
    "collapsed": false
   },
   "outputs": [
    {
     "data": {
      "text/plain": [
       "\n",
       "          Areas, nes            Argentina             Barbados \n",
       "                   0                    0                    0 \n",
       "              Belize               Brazil                China \n",
       "                   0                    0                    0 \n",
       "            Colombia                 Cuba              Ecuador \n",
       "                   0                    0                    0 \n",
       "         El Salvador            Guatemala             Honduras \n",
       "                   0                    0                    0 \n",
       "             Iceland            Indonesia                Japan \n",
       "                   0                    0                    0 \n",
       "            Malaysia            Nicaragua               Panama \n",
       "                   0                    0                    0 \n",
       "                Peru             Portugal   Russian Federation \n",
       "                   0                    0                    0 \n",
       "               Spain            Sri Lanka  Trinidad and Tobago \n",
       "                   0                    0                    0 \n",
       "             Uruguay                  USA             Viet Nam \n",
       "                   0                    0                    0 \n",
       "              Mexico           Costa Rica      Other Asia, nes \n",
       "                   1                    2                    2 \n",
       "               World China, Hong Kong SAR \n",
       "                   2                    5 "
      ]
     },
     "metadata": {},
     "output_type": "display_data"
    },
    {
     "data": {
      "text/html": [
       "<dl class=dl-horizontal>\n",
       "\t<dt>Costa Rica</dt>\n",
       "\t\t<dd>83770</dd>\n",
       "\t<dt>Mexico</dt>\n",
       "\t\t<dd>173200</dd>\n",
       "\t<dt>Other Asia, nes</dt>\n",
       "\t\t<dd>1241265</dd>\n",
       "\t<dt>World</dt>\n",
       "\t\t<dd>1501011</dd>\n",
       "\t<dt>China, Hong Kong SAR</dt>\n",
       "\t\t<dd>3096375</dd>\n",
       "</dl>\n"
      ],
      "text/plain": [
       "          Costa Rica               Mexico      Other Asia, nes \n",
       "               83770               173200              1241265 \n",
       "               World China, Hong Kong SAR \n",
       "             1501011              3096375 "
      ]
     },
     "metadata": {},
     "output_type": "display_data"
    }
   ],
   "source": [
    "#2.4.4 Recipients of Salvadoran shark exports and the value of exports to each receiving country.\n",
    "\n",
    "sort(table(esexports$Partner))\n",
    "sort(tapply(as.numeric(esexports$TradeValue), esexports$Partner, FUN=sum, na.rm=TRUE))"
   ]
  },
  {
   "cell_type": "markdown",
   "metadata": {},
   "source": [
    "Hong Kong and other asian ports recieve the majority of Salvadoran shark exports. The 173,200 USD to Mexico. And, based on interviews with experts in the industry, Costa Rica importing 83,770 USD of shark products is probably for processing prior to re-export. "
   ]
  },
  {
   "cell_type": "code",
   "execution_count": 19,
   "metadata": {
    "collapsed": false
   },
   "outputs": [
    {
     "data": {
      "text/html": [
       "<dl class=dl-horizontal>\n",
       "\t<dt>2012</dt>\n",
       "\t\t<dd>0.206102961272735</dd>\n",
       "\t<dt>2013</dt>\n",
       "\t\t<dd>0.0552208164931413</dd>\n",
       "\t<dt>2014</dt>\n",
       "\t\t<dd>0.0514998783795568</dd>\n",
       "\t<dt>2015</dt>\n",
       "\t\t<dd>0.131957604530478</dd>\n",
       "\t<dt>2016</dt>\n",
       "\t\t<dd>0.078603523745013</dd>\n",
       "</dl>\n"
      ],
      "text/plain": [
       "      2012       2013       2014       2015       2016 \n",
       "0.20610296 0.05522082 0.05149988 0.13195760 0.07860352 "
      ]
     },
     "metadata": {},
     "output_type": "display_data"
    },
    {
     "data": {
      "text/html": [
       "<dl class=dl-horizontal>\n",
       "\t<dt>2011</dt>\n",
       "\t\t<dd>0.591475557628041</dd>\n",
       "\t<dt>2012</dt>\n",
       "\t\t<dd>0.665623355521547</dd>\n",
       "\t<dt>2013</dt>\n",
       "\t\t<dd>0.72328068358581</dd>\n",
       "\t<dt>2014</dt>\n",
       "\t\t<dd>0.72589156963803</dd>\n",
       "\t<dt>2015</dt>\n",
       "\t\t<dd>0.57629395598596</dd>\n",
       "\t<dt>2016</dt>\n",
       "\t\t<dd>0.427020453640471</dd>\n",
       "</dl>\n"
      ],
      "text/plain": [
       "     2011      2012      2013      2014      2015      2016 \n",
       "0.5914756 0.6656234 0.7232807 0.7258916 0.5762940 0.4270205 "
      ]
     },
     "metadata": {},
     "output_type": "display_data"
    }
   ],
   "source": [
    "# 2.4.5 Percentage of total CMAR shark exports acccounted for by Salvadoran exports per year compared to Costa Rica, below.\n",
    "f = filter(CMARexport, Year%in% c(\"2012\",\"2013\",\"2014\",\"2015\",\"2016\"))\n",
    "(tapply(as.numeric(esexports$TradeValue), esexports$Year, FUN=sum, na.rm=TRUE))/(tapply(as.numeric(f$TradeValue), f$Year, FUN=sum, na.rm=TRUE))\n",
    "\n",
    "(tapply(as.numeric(crexports$TradeValue), crexports$Year, FUN=sum, na.rm=TRUE))/(tapply(as.numeric(CMARexport$TradeValue), CMARexport$Year, FUN=sum, na.rm=TRUE))"
   ]
  },
  {
   "cell_type": "markdown",
   "metadata": {},
   "source": [
    "Salvadoran exports in terms of declared value make up between 5 and 20 percent of total CMAR shark product exports. In 2012, Salvadoran exports were responsible for 20.6 percent of regional exports. In the same year Costa Rica was responsible for 66.5 percent of regional exports. In 2015, El Salvador accounted for 13 percent of regional shark product exports and Costa Rica for 57.6 percent of exports. Those numbers dropped for both countries in 2016."
   ]
  },
  {
   "cell_type": "markdown",
   "metadata": {},
   "source": [
    "## 3. COSTA RICA SHARK EXPORTS (ImportGenius)"
   ]
  },
  {
   "cell_type": "markdown",
   "metadata": {},
   "source": [
    "In this section, using Import Genius trade data, we will take a closer look at Costa Rican shark exports and the companies most involved. "
   ]
  },
  {
   "cell_type": "code",
   "execution_count": 20,
   "metadata": {
    "collapsed": false
   },
   "outputs": [
    {
     "data": {
      "text/html": [
       "<table>\n",
       "<thead><tr><th scope=col>PRODUCT_DESCRIPTION</th><th scope=col>ProductDescription2</th><th scope=col>PRODUCT</th><th scope=col>SHIPPER</th><th scope=col>EXPORTCOMPANY</th><th scope=col>SHIPPER_ADDRESS</th><th scope=col>EXPORT_DATE</th><th scope=col>EXPORT_YEAR</th><th scope=col>HS_CODE</th><th scope=col>BRAND</th><th scope=col>CIF</th><th scope=col>NET_WEIGHT</th><th scope=col>PACKAGE</th><th scope=col>X.PACKAGES</th><th scope=col>GROSS_WEIGHT</th><th scope=col>NET_WEIGHT2</th><th scope=col>TOTAL_INVOICE</th><th scope=col>REMARKS</th><th scope=col>TRANSPORTATION</th></tr></thead>\n",
       "<tbody>\n",
       "\t<tr><td>CARCHARHINUS FALCIFORMIS DRYED SHARK FINS-                                                   </td><td>CARCHARHINUS FALCIFORMIS-                                                                    </td><td>aleta                                                                                        </td><td>INVERSIONES CRUZ Z SA                                                                        </td><td>INVERSIONES CRUZ Z SOCIEDAD ANONIMA                                                          </td><td>DE MARISCOS BAR 25 M. AL NORTE Y 35 MTS. AL OESTE EL COCAL DE PUNTARENAS                     </td><td>8/28/17                                                                                      </td><td>2017                                                                                         </td><td>3.0571e+10                                                                                   </td><td>SM                                                                                           </td><td> 5266.72                                                                                     </td><td> 31.40                                                                                       </td><td>BULTOS/PACKAGE                                                                               </td><td>1                                                                                            </td><td>1476                                                                                         </td><td>1416.16                                                                                      </td><td>107116.3                                                                                     </td><td>GUIA AEREA: 020-5720-3775 , REC 4631, EXPORTADOR: INVERSIONES CRUZ. Z. S.A. CED: 310123731211</td><td>Aereo                                                                                        </td></tr>\n",
       "\t<tr><td>CARCHARHINUS FALCIFORMIS DRYED SHARK FINS-                                                   </td><td>CARCHARHINUS FALCIFORMIS-                                                                    </td><td>aleta                                                                                        </td><td>INVERSIONES CRUZ Z SA                                                                        </td><td>INVERSIONES CRUZ Z SOCIEDAD ANONIMA                                                          </td><td>DE MARISCOS BAR 25 M. AL NORTE Y 35 MTS. AL OESTE EL COCAL DE PUNTARENAS                     </td><td>8/28/17                                                                                      </td><td>2017                                                                                         </td><td>3.0571e+10                                                                                   </td><td>SM                                                                                           </td><td>36120.88                                                                                     </td><td>271.30                                                                                       </td><td>BULTOS/PACKAGE                                                                               </td><td>8                                                                                            </td><td>1476                                                                                         </td><td>1416.16                                                                                      </td><td>107116.3                                                                                     </td><td>GUIA AEREA: 020-5720-3775 , REC 4631, EXPORTADOR: INVERSIONES CRUZ. Z. S.A. CED: 310123731211</td><td>Aereo                                                                                        </td></tr>\n",
       "\t<tr><td>CARCHARHINUS FALCIFORMIS DRYED SHARK FINS-                                                   </td><td>CARCHARHINUS FALCIFORMIS-                                                                    </td><td>aleta                                                                                        </td><td>INVERSIONES CRUZ Z SA                                                                        </td><td>INVERSIONES CRUZ Z SOCIEDAD ANONIMA                                                          </td><td>DE MARISCOS BAR 25 M. AL NORTE Y 35 MTS. AL OESTE EL COCAL DE PUNTARENAS                     </td><td>8/28/17                                                                                      </td><td>2017                                                                                         </td><td>3.0571e+10                                                                                   </td><td>SM                                                                                           </td><td>21601.68                                                                                     </td><td>199.96                                                                                       </td><td>BULTOS/PACKAGE                                                                               </td><td>5                                                                                            </td><td>1476                                                                                         </td><td>1416.16                                                                                      </td><td>107116.3                                                                                     </td><td>GUIA AEREA: 020-5720-3775 , REC 4631, EXPORTADOR: INVERSIONES CRUZ. Z. S.A. CED: 310123731211</td><td>Aereo                                                                                        </td></tr>\n",
       "\t<tr><td>CARCHARHINUS FALCIFORMIS DRYED SHARK FINS-                                                   </td><td>CARCHARHINUS FALCIFORMIS-                                                                    </td><td>aleta                                                                                        </td><td>INVERSIONES CRUZ Z SA                                                                        </td><td>INVERSIONES CRUZ Z SOCIEDAD ANONIMA                                                          </td><td>DE MARISCOS BAR 25 M. AL NORTE Y 35 MTS. AL OESTE EL COCAL DE PUNTARENAS                     </td><td>8/28/17                                                                                      </td><td>2017                                                                                         </td><td>3.0571e+10                                                                                   </td><td>SM                                                                                           </td><td>20084.99                                                                                     </td><td>248.30                                                                                       </td><td>BULTOS/PACKAGE                                                                               </td><td>6                                                                                            </td><td>1476                                                                                         </td><td>1416.16                                                                                      </td><td>107116.3                                                                                     </td><td>GUIA AEREA: 020-5720-3775 , REC 4631, EXPORTADOR: INVERSIONES CRUZ. Z. S.A. CED: 310123731211</td><td>Aereo                                                                                        </td></tr>\n",
       "\t<tr><td>CARCHARHINUS FALCIFORMIS DRYED SHARK FINS-                                                   </td><td>CARCHARHINUS FALCIFORMIS-                                                                    </td><td>aleta                                                                                        </td><td>INVERSIONES CRUZ Z SA                                                                        </td><td>INVERSIONES CRUZ Z SOCIEDAD ANONIMA                                                          </td><td>DE MARISCOS BAR 25 M. AL NORTE Y 35 MTS. AL OESTE EL COCAL DE PUNTARENAS                     </td><td>8/28/17                                                                                      </td><td>2017                                                                                         </td><td>3.0571e+10                                                                                   </td><td>SM                                                                                           </td><td> 4350.10                                                                                     </td><td>106.10                                                                                       </td><td>BULTOS/PACKAGE                                                                               </td><td>2                                                                                            </td><td>1476                                                                                         </td><td>1416.16                                                                                      </td><td>107116.3                                                                                     </td><td>GUIA AEREA: 020-5720-3775 , REC 4631, EXPORTADOR: INVERSIONES CRUZ. Z. S.A. CED: 310123731211</td><td>Aereo                                                                                        </td></tr>\n",
       "\t<tr><td>PRIONACE GLAUCA DRYED SHARK FINS-                                                            </td><td>PRIONACE GLAUCA DRYED SHARK FINS-                                                            </td><td>aleta                                                                                        </td><td>INVERSIONES CRUZ Z SA                                                                        </td><td>INVERSIONES CRUZ Z SOCIEDAD ANONIMA                                                          </td><td>DE MARISCOS BAR 25 M. AL NORTE Y 35 MTS. AL OESTE EL COCAL DE PUNTARENAS                     </td><td>8/28/17                                                                                      </td><td>2017                                                                                         </td><td>3.0571e+10                                                                                   </td><td>SM                                                                                           </td><td> 4669.60                                                                                     </td><td> 89.80                                                                                       </td><td>BULTOS/PACKAGE                                                                               </td><td>3                                                                                            </td><td>1476                                                                                         </td><td>1416.16                                                                                      </td><td>107116.3                                                                                     </td><td>GUIA AEREA: 020-5720-3775 , REC 4631, EXPORTADOR: INVERSIONES CRUZ. Z. S.A. CED: 310123731211</td><td>Aereo                                                                                        </td></tr>\n",
       "</tbody>\n",
       "</table>\n"
      ],
      "text/latex": [
       "\\begin{tabular}{r|lllllllllllllllllll}\n",
       " PRODUCT\\_DESCRIPTION & ProductDescription2 & PRODUCT & SHIPPER & EXPORTCOMPANY & SHIPPER\\_ADDRESS & EXPORT\\_DATE & EXPORT\\_YEAR & HS\\_CODE & BRAND & CIF & NET\\_WEIGHT & PACKAGE & X.PACKAGES & GROSS\\_WEIGHT & NET\\_WEIGHT2 & TOTAL\\_INVOICE & REMARKS & TRANSPORTATION\\\\\n",
       "\\hline\n",
       "\t CARCHARHINUS FALCIFORMIS DRYED SHARK FINS-                                                    & CARCHARHINUS FALCIFORMIS-                                                                     & aleta                                                                                         & INVERSIONES CRUZ Z SA                                                                         & INVERSIONES CRUZ Z SOCIEDAD ANONIMA                                                           & DE MARISCOS BAR 25 M. AL NORTE Y 35 MTS. AL OESTE EL COCAL DE PUNTARENAS                      & 8/28/17                                                                                       & 2017                                                                                          & 3.0571e+10                                                                                    & SM                                                                                            &  5266.72                                                                                      &  31.40                                                                                        & BULTOS/PACKAGE                                                                                & 1                                                                                             & 1476                                                                                          & 1416.16                                                                                       & 107116.3                                                                                      & GUIA AEREA: 020-5720-3775 , REC 4631, EXPORTADOR: INVERSIONES CRUZ. Z. S.A. CED: 310123731211 & Aereo                                                                                        \\\\\n",
       "\t CARCHARHINUS FALCIFORMIS DRYED SHARK FINS-                                                    & CARCHARHINUS FALCIFORMIS-                                                                     & aleta                                                                                         & INVERSIONES CRUZ Z SA                                                                         & INVERSIONES CRUZ Z SOCIEDAD ANONIMA                                                           & DE MARISCOS BAR 25 M. AL NORTE Y 35 MTS. AL OESTE EL COCAL DE PUNTARENAS                      & 8/28/17                                                                                       & 2017                                                                                          & 3.0571e+10                                                                                    & SM                                                                                            & 36120.88                                                                                      & 271.30                                                                                        & BULTOS/PACKAGE                                                                                & 8                                                                                             & 1476                                                                                          & 1416.16                                                                                       & 107116.3                                                                                      & GUIA AEREA: 020-5720-3775 , REC 4631, EXPORTADOR: INVERSIONES CRUZ. Z. S.A. CED: 310123731211 & Aereo                                                                                        \\\\\n",
       "\t CARCHARHINUS FALCIFORMIS DRYED SHARK FINS-                                                    & CARCHARHINUS FALCIFORMIS-                                                                     & aleta                                                                                         & INVERSIONES CRUZ Z SA                                                                         & INVERSIONES CRUZ Z SOCIEDAD ANONIMA                                                           & DE MARISCOS BAR 25 M. AL NORTE Y 35 MTS. AL OESTE EL COCAL DE PUNTARENAS                      & 8/28/17                                                                                       & 2017                                                                                          & 3.0571e+10                                                                                    & SM                                                                                            & 21601.68                                                                                      & 199.96                                                                                        & BULTOS/PACKAGE                                                                                & 5                                                                                             & 1476                                                                                          & 1416.16                                                                                       & 107116.3                                                                                      & GUIA AEREA: 020-5720-3775 , REC 4631, EXPORTADOR: INVERSIONES CRUZ. Z. S.A. CED: 310123731211 & Aereo                                                                                        \\\\\n",
       "\t CARCHARHINUS FALCIFORMIS DRYED SHARK FINS-                                                    & CARCHARHINUS FALCIFORMIS-                                                                     & aleta                                                                                         & INVERSIONES CRUZ Z SA                                                                         & INVERSIONES CRUZ Z SOCIEDAD ANONIMA                                                           & DE MARISCOS BAR 25 M. AL NORTE Y 35 MTS. AL OESTE EL COCAL DE PUNTARENAS                      & 8/28/17                                                                                       & 2017                                                                                          & 3.0571e+10                                                                                    & SM                                                                                            & 20084.99                                                                                      & 248.30                                                                                        & BULTOS/PACKAGE                                                                                & 6                                                                                             & 1476                                                                                          & 1416.16                                                                                       & 107116.3                                                                                      & GUIA AEREA: 020-5720-3775 , REC 4631, EXPORTADOR: INVERSIONES CRUZ. Z. S.A. CED: 310123731211 & Aereo                                                                                        \\\\\n",
       "\t CARCHARHINUS FALCIFORMIS DRYED SHARK FINS-                                                    & CARCHARHINUS FALCIFORMIS-                                                                     & aleta                                                                                         & INVERSIONES CRUZ Z SA                                                                         & INVERSIONES CRUZ Z SOCIEDAD ANONIMA                                                           & DE MARISCOS BAR 25 M. AL NORTE Y 35 MTS. AL OESTE EL COCAL DE PUNTARENAS                      & 8/28/17                                                                                       & 2017                                                                                          & 3.0571e+10                                                                                    & SM                                                                                            &  4350.10                                                                                      & 106.10                                                                                        & BULTOS/PACKAGE                                                                                & 2                                                                                             & 1476                                                                                          & 1416.16                                                                                       & 107116.3                                                                                      & GUIA AEREA: 020-5720-3775 , REC 4631, EXPORTADOR: INVERSIONES CRUZ. Z. S.A. CED: 310123731211 & Aereo                                                                                        \\\\\n",
       "\t PRIONACE GLAUCA DRYED SHARK FINS-                                                             & PRIONACE GLAUCA DRYED SHARK FINS-                                                             & aleta                                                                                         & INVERSIONES CRUZ Z SA                                                                         & INVERSIONES CRUZ Z SOCIEDAD ANONIMA                                                           & DE MARISCOS BAR 25 M. AL NORTE Y 35 MTS. AL OESTE EL COCAL DE PUNTARENAS                      & 8/28/17                                                                                       & 2017                                                                                          & 3.0571e+10                                                                                    & SM                                                                                            &  4669.60                                                                                      &  89.80                                                                                        & BULTOS/PACKAGE                                                                                & 3                                                                                             & 1476                                                                                          & 1416.16                                                                                       & 107116.3                                                                                      & GUIA AEREA: 020-5720-3775 , REC 4631, EXPORTADOR: INVERSIONES CRUZ. Z. S.A. CED: 310123731211 & Aereo                                                                                        \\\\\n",
       "\\end{tabular}\n"
      ],
      "text/markdown": [
       "\n",
       "PRODUCT_DESCRIPTION | ProductDescription2 | PRODUCT | SHIPPER | EXPORTCOMPANY | SHIPPER_ADDRESS | EXPORT_DATE | EXPORT_YEAR | HS_CODE | BRAND | CIF | NET_WEIGHT | PACKAGE | X.PACKAGES | GROSS_WEIGHT | NET_WEIGHT2 | TOTAL_INVOICE | REMARKS | TRANSPORTATION | \n",
       "|---|---|---|---|---|---|\n",
       "| CARCHARHINUS FALCIFORMIS DRYED SHARK FINS-                                                    | CARCHARHINUS FALCIFORMIS-                                                                     | aleta                                                                                         | INVERSIONES CRUZ Z SA                                                                         | INVERSIONES CRUZ Z SOCIEDAD ANONIMA                                                           | DE MARISCOS BAR 25 M. AL NORTE Y 35 MTS. AL OESTE EL COCAL DE PUNTARENAS                      | 8/28/17                                                                                       | 2017                                                                                          | 3.0571e+10                                                                                    | SM                                                                                            |  5266.72                                                                                      |  31.40                                                                                        | BULTOS/PACKAGE                                                                                | 1                                                                                             | 1476                                                                                          | 1416.16                                                                                       | 107116.3                                                                                      | GUIA AEREA: 020-5720-3775 , REC 4631, EXPORTADOR: INVERSIONES CRUZ. Z. S.A. CED: 310123731211 | Aereo                                                                                         | \n",
       "| CARCHARHINUS FALCIFORMIS DRYED SHARK FINS-                                                    | CARCHARHINUS FALCIFORMIS-                                                                     | aleta                                                                                         | INVERSIONES CRUZ Z SA                                                                         | INVERSIONES CRUZ Z SOCIEDAD ANONIMA                                                           | DE MARISCOS BAR 25 M. AL NORTE Y 35 MTS. AL OESTE EL COCAL DE PUNTARENAS                      | 8/28/17                                                                                       | 2017                                                                                          | 3.0571e+10                                                                                    | SM                                                                                            | 36120.88                                                                                      | 271.30                                                                                        | BULTOS/PACKAGE                                                                                | 8                                                                                             | 1476                                                                                          | 1416.16                                                                                       | 107116.3                                                                                      | GUIA AEREA: 020-5720-3775 , REC 4631, EXPORTADOR: INVERSIONES CRUZ. Z. S.A. CED: 310123731211 | Aereo                                                                                         | \n",
       "| CARCHARHINUS FALCIFORMIS DRYED SHARK FINS-                                                    | CARCHARHINUS FALCIFORMIS-                                                                     | aleta                                                                                         | INVERSIONES CRUZ Z SA                                                                         | INVERSIONES CRUZ Z SOCIEDAD ANONIMA                                                           | DE MARISCOS BAR 25 M. AL NORTE Y 35 MTS. AL OESTE EL COCAL DE PUNTARENAS                      | 8/28/17                                                                                       | 2017                                                                                          | 3.0571e+10                                                                                    | SM                                                                                            | 21601.68                                                                                      | 199.96                                                                                        | BULTOS/PACKAGE                                                                                | 5                                                                                             | 1476                                                                                          | 1416.16                                                                                       | 107116.3                                                                                      | GUIA AEREA: 020-5720-3775 , REC 4631, EXPORTADOR: INVERSIONES CRUZ. Z. S.A. CED: 310123731211 | Aereo                                                                                         | \n",
       "| CARCHARHINUS FALCIFORMIS DRYED SHARK FINS-                                                    | CARCHARHINUS FALCIFORMIS-                                                                     | aleta                                                                                         | INVERSIONES CRUZ Z SA                                                                         | INVERSIONES CRUZ Z SOCIEDAD ANONIMA                                                           | DE MARISCOS BAR 25 M. AL NORTE Y 35 MTS. AL OESTE EL COCAL DE PUNTARENAS                      | 8/28/17                                                                                       | 2017                                                                                          | 3.0571e+10                                                                                    | SM                                                                                            | 20084.99                                                                                      | 248.30                                                                                        | BULTOS/PACKAGE                                                                                | 6                                                                                             | 1476                                                                                          | 1416.16                                                                                       | 107116.3                                                                                      | GUIA AEREA: 020-5720-3775 , REC 4631, EXPORTADOR: INVERSIONES CRUZ. Z. S.A. CED: 310123731211 | Aereo                                                                                         | \n",
       "| CARCHARHINUS FALCIFORMIS DRYED SHARK FINS-                                                    | CARCHARHINUS FALCIFORMIS-                                                                     | aleta                                                                                         | INVERSIONES CRUZ Z SA                                                                         | INVERSIONES CRUZ Z SOCIEDAD ANONIMA                                                           | DE MARISCOS BAR 25 M. AL NORTE Y 35 MTS. AL OESTE EL COCAL DE PUNTARENAS                      | 8/28/17                                                                                       | 2017                                                                                          | 3.0571e+10                                                                                    | SM                                                                                            |  4350.10                                                                                      | 106.10                                                                                        | BULTOS/PACKAGE                                                                                | 2                                                                                             | 1476                                                                                          | 1416.16                                                                                       | 107116.3                                                                                      | GUIA AEREA: 020-5720-3775 , REC 4631, EXPORTADOR: INVERSIONES CRUZ. Z. S.A. CED: 310123731211 | Aereo                                                                                         | \n",
       "| PRIONACE GLAUCA DRYED SHARK FINS-                                                             | PRIONACE GLAUCA DRYED SHARK FINS-                                                             | aleta                                                                                         | INVERSIONES CRUZ Z SA                                                                         | INVERSIONES CRUZ Z SOCIEDAD ANONIMA                                                           | DE MARISCOS BAR 25 M. AL NORTE Y 35 MTS. AL OESTE EL COCAL DE PUNTARENAS                      | 8/28/17                                                                                       | 2017                                                                                          | 3.0571e+10                                                                                    | SM                                                                                            |  4669.60                                                                                      |  89.80                                                                                        | BULTOS/PACKAGE                                                                                | 3                                                                                             | 1476                                                                                          | 1416.16                                                                                       | 107116.3                                                                                      | GUIA AEREA: 020-5720-3775 , REC 4631, EXPORTADOR: INVERSIONES CRUZ. Z. S.A. CED: 310123731211 | Aereo                                                                                         | \n",
       "\n",
       "\n"
      ],
      "text/plain": [
       "  PRODUCT_DESCRIPTION                        ProductDescription2              \n",
       "1 CARCHARHINUS FALCIFORMIS DRYED SHARK FINS- CARCHARHINUS FALCIFORMIS-        \n",
       "2 CARCHARHINUS FALCIFORMIS DRYED SHARK FINS- CARCHARHINUS FALCIFORMIS-        \n",
       "3 CARCHARHINUS FALCIFORMIS DRYED SHARK FINS- CARCHARHINUS FALCIFORMIS-        \n",
       "4 CARCHARHINUS FALCIFORMIS DRYED SHARK FINS- CARCHARHINUS FALCIFORMIS-        \n",
       "5 CARCHARHINUS FALCIFORMIS DRYED SHARK FINS- CARCHARHINUS FALCIFORMIS-        \n",
       "6 PRIONACE GLAUCA DRYED SHARK FINS-          PRIONACE GLAUCA DRYED SHARK FINS-\n",
       "  PRODUCT SHIPPER               EXPORTCOMPANY                      \n",
       "1 aleta   INVERSIONES CRUZ Z SA INVERSIONES CRUZ Z SOCIEDAD ANONIMA\n",
       "2 aleta   INVERSIONES CRUZ Z SA INVERSIONES CRUZ Z SOCIEDAD ANONIMA\n",
       "3 aleta   INVERSIONES CRUZ Z SA INVERSIONES CRUZ Z SOCIEDAD ANONIMA\n",
       "4 aleta   INVERSIONES CRUZ Z SA INVERSIONES CRUZ Z SOCIEDAD ANONIMA\n",
       "5 aleta   INVERSIONES CRUZ Z SA INVERSIONES CRUZ Z SOCIEDAD ANONIMA\n",
       "6 aleta   INVERSIONES CRUZ Z SA INVERSIONES CRUZ Z SOCIEDAD ANONIMA\n",
       "  SHIPPER_ADDRESS                                                         \n",
       "1 DE MARISCOS BAR 25 M. AL NORTE Y 35 MTS. AL OESTE EL COCAL DE PUNTARENAS\n",
       "2 DE MARISCOS BAR 25 M. AL NORTE Y 35 MTS. AL OESTE EL COCAL DE PUNTARENAS\n",
       "3 DE MARISCOS BAR 25 M. AL NORTE Y 35 MTS. AL OESTE EL COCAL DE PUNTARENAS\n",
       "4 DE MARISCOS BAR 25 M. AL NORTE Y 35 MTS. AL OESTE EL COCAL DE PUNTARENAS\n",
       "5 DE MARISCOS BAR 25 M. AL NORTE Y 35 MTS. AL OESTE EL COCAL DE PUNTARENAS\n",
       "6 DE MARISCOS BAR 25 M. AL NORTE Y 35 MTS. AL OESTE EL COCAL DE PUNTARENAS\n",
       "  EXPORT_DATE EXPORT_YEAR HS_CODE    BRAND CIF      NET_WEIGHT PACKAGE       \n",
       "1 8/28/17     2017        3.0571e+10 SM     5266.72  31.40     BULTOS/PACKAGE\n",
       "2 8/28/17     2017        3.0571e+10 SM    36120.88 271.30     BULTOS/PACKAGE\n",
       "3 8/28/17     2017        3.0571e+10 SM    21601.68 199.96     BULTOS/PACKAGE\n",
       "4 8/28/17     2017        3.0571e+10 SM    20084.99 248.30     BULTOS/PACKAGE\n",
       "5 8/28/17     2017        3.0571e+10 SM     4350.10 106.10     BULTOS/PACKAGE\n",
       "6 8/28/17     2017        3.0571e+10 SM     4669.60  89.80     BULTOS/PACKAGE\n",
       "  X.PACKAGES GROSS_WEIGHT NET_WEIGHT2 TOTAL_INVOICE\n",
       "1 1          1476         1416.16     107116.3     \n",
       "2 8          1476         1416.16     107116.3     \n",
       "3 5          1476         1416.16     107116.3     \n",
       "4 6          1476         1416.16     107116.3     \n",
       "5 2          1476         1416.16     107116.3     \n",
       "6 3          1476         1416.16     107116.3     \n",
       "  REMARKS                                                                                      \n",
       "1 GUIA AEREA: 020-5720-3775 , REC 4631, EXPORTADOR: INVERSIONES CRUZ. Z. S.A. CED: 310123731211\n",
       "2 GUIA AEREA: 020-5720-3775 , REC 4631, EXPORTADOR: INVERSIONES CRUZ. Z. S.A. CED: 310123731211\n",
       "3 GUIA AEREA: 020-5720-3775 , REC 4631, EXPORTADOR: INVERSIONES CRUZ. Z. S.A. CED: 310123731211\n",
       "4 GUIA AEREA: 020-5720-3775 , REC 4631, EXPORTADOR: INVERSIONES CRUZ. Z. S.A. CED: 310123731211\n",
       "5 GUIA AEREA: 020-5720-3775 , REC 4631, EXPORTADOR: INVERSIONES CRUZ. Z. S.A. CED: 310123731211\n",
       "6 GUIA AEREA: 020-5720-3775 , REC 4631, EXPORTADOR: INVERSIONES CRUZ. Z. S.A. CED: 310123731211\n",
       "  TRANSPORTATION\n",
       "1 Aereo         \n",
       "2 Aereo         \n",
       "3 Aereo         \n",
       "4 Aereo         \n",
       "5 Aereo         \n",
       "6 Aereo         "
      ]
     },
     "metadata": {},
     "output_type": "display_data"
    }
   ],
   "source": [
    "head(CR)"
   ]
  },
  {
   "cell_type": "markdown",
   "metadata": {},
   "source": [
    "### 3.1 Costa Rica Shark Export Basics"
   ]
  },
  {
   "cell_type": "code",
   "execution_count": 21,
   "metadata": {
    "collapsed": false
   },
   "outputs": [
    {
     "data": {
      "text/html": [
       "70708029.32"
      ],
      "text/latex": [
       "70708029.32"
      ],
      "text/markdown": [
       "70708029.32"
      ],
      "text/plain": [
       "[1] 70708029"
      ]
     },
     "metadata": {},
     "output_type": "display_data"
    },
    {
     "data": {
      "text/html": [
       "95243637.38"
      ],
      "text/latex": [
       "95243637.38"
      ],
      "text/markdown": [
       "95243637.38"
      ],
      "text/plain": [
       "[1] 95243637"
      ]
     },
     "metadata": {},
     "output_type": "display_data"
    }
   ],
   "source": [
    "# 3.1.1 Total shark product exports in USD and weight.\n",
    "sum(CR$CIF)\n",
    "sum(CR$NET_WEIGHT)"
   ]
  },
  {
   "cell_type": "markdown",
   "metadata": {},
   "source": [
    "Costa Rica exported 70,708,029.32 USD in shark products between 2011 and Aug. 2017. That was 95,243,637.38 kilos of shark products. CIF includes the price of commodity plus price of insurance and freight. "
   ]
  },
  {
   "cell_type": "code",
   "execution_count": 22,
   "metadata": {
    "collapsed": false
   },
   "outputs": [
    {
     "data": {
      "text/html": [
       "<dl class=dl-horizontal>\n",
       "\t<dt>aleta</dt>\n",
       "\t\t<dd>47450454.84</dd>\n",
       "\t<dt>carnada</dt>\n",
       "\t\t<dd>163912.63</dd>\n",
       "\t<dt>carne</dt>\n",
       "\t\t<dd>22797020.24</dd>\n",
       "\t<dt>other</dt>\n",
       "\t\t<dd>296641.61</dd>\n",
       "</dl>\n"
      ],
      "text/plain": [
       "     aleta    carnada      carne      other \n",
       "47450454.8   163912.6 22797020.2   296641.6 "
      ]
     },
     "metadata": {},
     "output_type": "display_data"
    }
   ],
   "source": [
    "# 3.1.2 Value of exports (USD) divided into fins, meat, bait, and other. \n",
    "\n",
    "tapply(CR$CIF, CR$PRODUCT, FUN=sum)"
   ]
  },
  {
   "cell_type": "markdown",
   "metadata": {},
   "source": [
    "Aleta= Fin\n",
    "Carnada = Bait\n",
    "Carne = Meat\n",
    "Other = Other\n",
    "Between 2011 and Aug. 2017, Costa Rica exported 47,450,454.84 USD of fins and 22,797,020.24 USD of meat."
   ]
  },
  {
   "cell_type": "code",
   "execution_count": 23,
   "metadata": {
    "collapsed": false
   },
   "outputs": [
    {
     "data": {
      "text/html": [
       "<dl class=dl-horizontal>\n",
       "\t<dt>aleta</dt>\n",
       "\t\t<dd>6.39291811149329</dd>\n",
       "\t<dt>carnada</dt>\n",
       "\t\t<dd>1.60592130749348</dd>\n",
       "\t<dt>carne</dt>\n",
       "\t\t<dd>0.261095306643432</dd>\n",
       "\t<dt>other</dt>\n",
       "\t\t<dd>0.730282743736944</dd>\n",
       "</dl>\n"
      ],
      "text/plain": [
       "    aleta   carnada     carne     other \n",
       "6.3929181 1.6059213 0.2610953 0.7302827 "
      ]
     },
     "metadata": {},
     "output_type": "display_data"
    }
   ],
   "source": [
    "#3.1.3 Price per kilo of each product\n",
    "\n",
    "(tapply(CR$CIF, CR$PRODUCT, FUN=sum))/(tapply(CR$NET_WEIGHT, CR$PRODUCT, FUN=sum))"
   ]
  },
  {
   "cell_type": "markdown",
   "metadata": {},
   "source": [
    "Costa Rica exporters were exporting shark meat at an average just over 0.25 USD per kilo and around 6 USD for fins. But export price was affected by a flood of shark products in 2014 that knocked the price down."
   ]
  },
  {
   "cell_type": "code",
   "execution_count": 24,
   "metadata": {
    "collapsed": false
   },
   "outputs": [
    {
     "data": {
      "text/html": [
       "6694679.83333333"
      ],
      "text/latex": [
       "6694679.83333333"
      ],
      "text/markdown": [
       "6694679.83333333"
      ],
      "text/plain": [
       "[1] 6694680"
      ]
     },
     "metadata": {},
     "output_type": "display_data"
    },
    {
     "data": {
      "text/html": [
       "11469100.0683333"
      ],
      "text/latex": [
       "11469100.0683333"
      ],
      "text/markdown": [
       "11469100.0683333"
      ],
      "text/plain": [
       "[1] 11469100"
      ]
     },
     "metadata": {},
     "output_type": "display_data"
    },
    {
     "data": {
      "text/html": [
       "68814600.41"
      ],
      "text/latex": [
       "68814600.41"
      ],
      "text/markdown": [
       "68814600.41"
      ],
      "text/plain": [
       "[1] 68814600"
      ]
     },
     "metadata": {},
     "output_type": "display_data"
    },
    {
     "data": {
      "text/html": [
       "95124404.02"
      ],
      "text/latex": [
       "95124404.02"
      ],
      "text/markdown": [
       "95124404.02"
      ],
      "text/plain": [
       "[1] 95124404"
      ]
     },
     "metadata": {},
     "output_type": "display_data"
    },
    {
     "data": {
      "text/html": [
       "0.583714484436109"
      ],
      "text/latex": [
       "0.583714484436109"
      ],
      "text/markdown": [
       "0.583714484436109"
      ],
      "text/plain": [
       "[1] 0.5837145"
      ]
     },
     "metadata": {},
     "output_type": "display_data"
    },
    {
     "data": {
      "text/html": [
       "<dl class=dl-horizontal>\n",
       "\t<dt>2011</dt>\n",
       "\t\t<dd>3805258</dd>\n",
       "\t<dt>2012</dt>\n",
       "\t\t<dd>5452911</dd>\n",
       "\t<dt>2013</dt>\n",
       "\t\t<dd>6889127</dd>\n",
       "\t<dt>2014</dt>\n",
       "\t\t<dd>7908262</dd>\n",
       "\t<dt>2015</dt>\n",
       "\t\t<dd>7889383</dd>\n",
       "\t<dt>2016</dt>\n",
       "\t\t<dd>8223138</dd>\n",
       "</dl>\n"
      ],
      "text/plain": [
       "   2011    2012    2013    2014    2015    2016 \n",
       "3805258 5452911 6889127 7908262 7889383 8223138 "
      ]
     },
     "metadata": {},
     "output_type": "display_data"
    },
    {
     "data": {
      "text/html": [
       "<dl class=dl-horizontal>\n",
       "\t<dt>2011</dt>\n",
       "\t\t<dd>7999053.35</dd>\n",
       "\t<dt>2012</dt>\n",
       "\t\t<dd>4777887.25</dd>\n",
       "\t<dt>2013</dt>\n",
       "\t\t<dd>1640620.51</dd>\n",
       "\t<dt>2014</dt>\n",
       "\t\t<dd>45167476.67</dd>\n",
       "\t<dt>2015</dt>\n",
       "\t\t<dd>5165417.62</dd>\n",
       "\t<dt>2016</dt>\n",
       "\t\t<dd>4064145.01</dd>\n",
       "</dl>\n"
      ],
      "text/plain": [
       "    2011     2012     2013     2014     2015     2016 \n",
       " 7999053  4777887  1640621 45167477  5165418  4064145 "
      ]
     },
     "metadata": {},
     "output_type": "display_data"
    },
    {
     "data": {
      "text/html": [
       "<dl class=dl-horizontal>\n",
       "\t<dt>2011</dt>\n",
       "\t\t<dd>0.475713541778041</dd>\n",
       "\t<dt>2012</dt>\n",
       "\t\t<dd>1.14128080356019</dd>\n",
       "\t<dt>2013</dt>\n",
       "\t\t<dd>4.19909842526594</dd>\n",
       "\t<dt>2014</dt>\n",
       "\t\t<dd>0.175087531627655</dd>\n",
       "\t<dt>2015</dt>\n",
       "\t\t<dd>1.52734659235549</dd>\n",
       "\t<dt>2016</dt>\n",
       "\t\t<dd>2.02333774502795</dd>\n",
       "</dl>\n"
      ],
      "text/plain": [
       "     2011      2012      2013      2014      2015      2016 \n",
       "0.4757135 1.1412808 4.1990984 0.1750875 1.5273466 2.0233377 "
      ]
     },
     "metadata": {},
     "output_type": "display_data"
    }
   ],
   "source": [
    "#3.1.4 Import Genius data vs. UN Comtrade data (start by creating subset from 2011-2016 to compare like data)\n",
    "s = filter(CR, EXPORT_YEAR%in%c(\"2011\",\"2012\",\"2013\",\"2014\",\"2015\",\"2016\"))\n",
    "(sum(crexports$TradeValue)/6)\n",
    "(sum(s$CIF)/6)\n",
    "sum(s$CIF)\n",
    "sum(as.numeric(s$NET_WEIGHT), na.rm=TRUE)\n",
    "\n",
    "(sum(crexports$TradeValue))/(sum(s$CIF))\n",
    "\n",
    "(tapply(crexports$TradeValue, crexports$Year, FUN=sum))\n",
    "(tapply(s$CIF, s$EXPORT_YEAR, FUN=sum))\n",
    "\n",
    "(tapply(crexports$TradeValue, crexports$Year, FUN=sum))/(tapply(s$CIF, s$EXPORT_YEAR, FUN=sum))"
   ]
  },
  {
   "cell_type": "markdown",
   "metadata": {},
   "source": [
    "UN COMTRADE data only accounted for an average 58 percent of total shark product exports reported by Import Genius in Costa Rica. In 2012, the value of exports was nearly the same. However, in 2016, Import Genius recorded half as much declared value as UN COMTRADE. In 2014, reported only 17.5 percent of the exports reported by Import Genius. Some of this difference could be explained by the fact that CIF also includes insurance and freight. "
   ]
  },
  {
   "cell_type": "code",
   "execution_count": 25,
   "metadata": {
    "collapsed": false
   },
   "outputs": [
    {
     "data": {
      "text/html": [
       "<dl class=dl-horizontal>\n",
       "\t<dt>2013</dt>\n",
       "\t\t<dd>1110218.73</dd>\n",
       "\t<dt>2017</dt>\n",
       "\t\t<dd>1716733.83</dd>\n",
       "\t<dt>2016</dt>\n",
       "\t\t<dd>3292719.95</dd>\n",
       "\t<dt>2015</dt>\n",
       "\t\t<dd>4214357.92</dd>\n",
       "\t<dt>2012</dt>\n",
       "\t\t<dd>4369673.06</dd>\n",
       "\t<dt>2011</dt>\n",
       "\t\t<dd>7501977.63</dd>\n",
       "\t<dt>2014</dt>\n",
       "\t\t<dd>25244773.72</dd>\n",
       "</dl>\n"
      ],
      "text/plain": [
       "    2013     2017     2016     2015     2012     2011     2014 \n",
       " 1110219  1716734  3292720  4214358  4369673  7501978 25244774 "
      ]
     },
     "metadata": {},
     "output_type": "display_data"
    },
    {
     "data": {
      "text/html": [
       "<dl class=dl-horizontal>\n",
       "\t<dt>2017</dt>\n",
       "\t\t<dd>22654.42</dd>\n",
       "\t<dt>2013</dt>\n",
       "\t\t<dd>27756.58</dd>\n",
       "\t<dt>2016</dt>\n",
       "\t\t<dd>43871.14</dd>\n",
       "\t<dt>2012</dt>\n",
       "\t\t<dd>53987.31</dd>\n",
       "\t<dt>2015</dt>\n",
       "\t\t<dd>54827.37</dd>\n",
       "\t<dt>2011</dt>\n",
       "\t\t<dd>102521.46</dd>\n",
       "\t<dt>2014</dt>\n",
       "\t\t<dd>7116728.45</dd>\n",
       "</dl>\n"
      ],
      "text/plain": [
       "      2017       2013       2016       2012       2015       2011       2014 \n",
       "  22654.42   27756.58   43871.14   53987.31   54827.37  102521.46 7116728.45 "
      ]
     },
     "metadata": {},
     "output_type": "display_data"
    },
    {
     "data": {
      "text/html": [
       "<dl class=dl-horizontal>\n",
       "\t<dt>2011</dt>\n",
       "\t\t<dd>73.1747053738798</dd>\n",
       "\t<dt>2012</dt>\n",
       "\t\t<dd>80.9388921211299</dd>\n",
       "\t<dt>2013</dt>\n",
       "\t\t<dd>39.9983978573729</dd>\n",
       "\t<dt>2014</dt>\n",
       "\t\t<dd>3.54724420038817</dd>\n",
       "\t<dt>2015</dt>\n",
       "\t\t<dd>76.8659507103842</dd>\n",
       "\t<dt>2016</dt>\n",
       "\t\t<dd>75.0543512204151</dd>\n",
       "\t<dt>2017</dt>\n",
       "\t\t<dd>75.7792002620239</dd>\n",
       "</dl>\n"
      ],
      "text/plain": [
       "     2011      2012      2013      2014      2015      2016      2017 \n",
       "73.174705 80.938892 39.998398  3.547244 76.865951 75.054351 75.779200 "
      ]
     },
     "metadata": {},
     "output_type": "display_data"
    }
   ],
   "source": [
    "#3.1.5 FIN FACTS. Create fin subset and analyze for 1) USD value of fins exported per year 2) Kilos of fins exported per year 3) Price per kilo exported each year.\n",
    "\n",
    "fins = filter(CR, PRODUCT == 'aleta')\n",
    "sort(tapply(fins$CIF, fins$EXPORT_YEAR, FUN=sum))\n",
    "sort(tapply(fins$NET_WEIGHT, fins$EXPORT_YEAR, FUN=sum))\n",
    "(tapply(fins$CIF, fins$EXPORT_YEAR, FUN=sum))/(tapply(fins$NET_WEIGHT, fins$EXPORT_YEAR, FUN=sum))"
   ]
  },
  {
   "cell_type": "markdown",
   "metadata": {},
   "source": [
    "Costa Rican shark fins generally export between 73 and 80 USD per kilo. However, 2013 and 2014 saw a drop in price. 2014, which saw the most significant drop, also saw over 7 million kilos of shark fins exported, as opposed to the next runner up (2011) which saw 102,000 kilos exported. I assume this surplus of product caused the prices to drastically drop. Still, shark fin exports were worth 25,244,773.72 USD in 2014, more than three times the next most profitable year (2011)."
   ]
  },
  {
   "cell_type": "code",
   "execution_count": 26,
   "metadata": {
    "collapsed": false
   },
   "outputs": [
    {
     "data": {
      "text/html": [
       "<dl class=dl-horizontal>\n",
       "\t<dt>2017</dt>\n",
       "\t\t<dd>176695.08</dd>\n",
       "\t<dt>2012</dt>\n",
       "\t\t<dd>350314.19</dd>\n",
       "\t<dt>2011</dt>\n",
       "\t\t<dd>407402.21</dd>\n",
       "\t<dt>2013</dt>\n",
       "\t\t<dd>474751.78</dd>\n",
       "\t<dt>2016</dt>\n",
       "\t\t<dd>650331.26</dd>\n",
       "\t<dt>2015</dt>\n",
       "\t\t<dd>842459.7</dd>\n",
       "\t<dt>2014</dt>\n",
       "\t\t<dd>19895066.02</dd>\n",
       "</dl>\n"
      ],
      "text/plain": [
       "      2017       2012       2011       2013       2016       2015       2014 \n",
       "  176695.1   350314.2   407402.2   474751.8   650331.3   842459.7 19895066.0 "
      ]
     },
     "metadata": {},
     "output_type": "display_data"
    },
    {
     "data": {
      "text/html": [
       "<dl class=dl-horizontal>\n",
       "\t<dt>2017</dt>\n",
       "\t\t<dd>96578.94</dd>\n",
       "\t<dt>2012</dt>\n",
       "\t\t<dd>181755</dd>\n",
       "\t<dt>2013</dt>\n",
       "\t\t<dd>195118</dd>\n",
       "\t<dt>2016</dt>\n",
       "\t\t<dd>326666.55</dd>\n",
       "\t<dt>2011</dt>\n",
       "\t\t<dd>407725.46</dd>\n",
       "\t<dt>2015</dt>\n",
       "\t\t<dd>508629</dd>\n",
       "\t<dt>2014</dt>\n",
       "\t\t<dd>85596549</dd>\n",
       "</dl>\n"
      ],
      "text/plain": [
       "       2017        2012        2013        2016        2011        2015 \n",
       "   96578.94   181755.00   195118.00   326666.55   407725.46   508629.00 \n",
       "       2014 \n",
       "85596549.00 "
      ]
     },
     "metadata": {},
     "output_type": "display_data"
    },
    {
     "data": {
      "text/html": [
       "<dl class=dl-horizontal>\n",
       "\t<dt>2011</dt>\n",
       "\t\t<dd>0.99920718711066</dd>\n",
       "\t<dt>2012</dt>\n",
       "\t\t<dd>1.92739781574097</dd>\n",
       "\t<dt>2013</dt>\n",
       "\t\t<dd>2.43315214383091</dd>\n",
       "\t<dt>2014</dt>\n",
       "\t\t<dd>0.232428366008074</dd>\n",
       "\t<dt>2015</dt>\n",
       "\t\t<dd>1.65633438124841</dd>\n",
       "\t<dt>2016</dt>\n",
       "\t\t<dd>1.99081069059565</dd>\n",
       "\t<dt>2017</dt>\n",
       "\t\t<dd>1.82954047745813</dd>\n",
       "</dl>\n"
      ],
      "text/plain": [
       "     2011      2012      2013      2014      2015      2016      2017 \n",
       "0.9992072 1.9273978 2.4331521 0.2324284 1.6563344 1.9908107 1.8295405 "
      ]
     },
     "metadata": {},
     "output_type": "display_data"
    }
   ],
   "source": [
    "#3.1.6 MEAT FACTS. Create meat subset and analyze for 1) USD value of meat exported per year 2) Kilos of meat exported per year 3) Price per kilo exported each year.\n",
    "\n",
    "meat = filter(CR, PRODUCT == 'carne')\n",
    "sort(tapply(meat$CIF, meat$EXPORT_YEAR, FUN=sum))\n",
    "sort(tapply(meat$NET_WEIGHT, meat$EXPORT_YEAR, FUN=sum))\n",
    "(tapply(meat$CIF, meat$EXPORT_YEAR, FUN=sum))/(tapply(meat$NET_WEIGHT, meat$EXPORT_YEAR, FUN=sum))"
   ]
  },
  {
   "cell_type": "markdown",
   "metadata": {},
   "source": [
    "Shark meat exported at between 1 and 2.4 USD per kilo every year except for 2014, where price per kilo dropped to $.23. In 2014, 85,596,549 kilos of meat were exported (next runner up, 2015, 508,629 kilos). In 2014, 19,895,066.02 USD of shark products were exported that year (as opposed to 842,459.7 USD exported in 2015). Could the price drop be due to oversupply? (See section 3.3 and 3.4 where two major exporters come on the scene.)"
   ]
  },
  {
   "cell_type": "markdown",
   "metadata": {},
   "source": [
    "### 3.2 Biggest Costa Rican Export Companies"
   ]
  },
  {
   "cell_type": "code",
   "execution_count": 27,
   "metadata": {
    "collapsed": false
   },
   "outputs": [
    {
     "data": {
      "text/html": [
       "<dl class=dl-horizontal>\n",
       "\t<dt>A &amp; E PELAGIDOS DE CENTROAMERICA SOCIEDAD ANONIMA</dt>\n",
       "\t\t<dd>1259.9</dd>\n",
       "\t<dt>EXPORTADORA FRUMAR SA</dt>\n",
       "\t\t<dd>3931.9</dd>\n",
       "\t<dt>SIMA LATINOAMERICANA SOCIEDAD ANONIMA</dt>\n",
       "\t\t<dd>4680</dd>\n",
       "\t<dt>INVERSIONES CANO Y CASTRO CR SOCIEDAD ANONIMA</dt>\n",
       "\t\t<dd>9436.93</dd>\n",
       "\t<dt>MUNDIPLANTA LIMITADA</dt>\n",
       "\t\t<dd>12880</dd>\n",
       "\t<dt>COMERCIALIZADORA WANG CWS SOCIEDAD ANONIMA</dt>\n",
       "\t\t<dd>17600</dd>\n",
       "\t<dt>-NOT AVAILABLE-</dt>\n",
       "\t\t<dd>26875</dd>\n",
       "\t<dt>DISTRIBUIDORA MULTIMAR SA</dt>\n",
       "\t\t<dd>33319</dd>\n",
       "\t<dt>INVERSIONES TICOMAR SA</dt>\n",
       "\t\t<dd>36400</dd>\n",
       "\t<dt>MARISCOS DE CORAZON MC SOCIEDAD ANONIMA</dt>\n",
       "\t\t<dd>53922.68</dd>\n",
       "\t<dt>EXPORTACIONES MARINAS DEL GOLFO SA</dt>\n",
       "\t\t<dd>62521.93</dd>\n",
       "\t<dt>TICO PEZ F.S.T. UNO SA</dt>\n",
       "\t\t<dd>91492</dd>\n",
       "\t<dt>QUIROS QUIROS DENIS FRANCISCO</dt>\n",
       "\t\t<dd>147543.8</dd>\n",
       "\t<dt>INVERSIONES TUCAN I T SOCIEDAD ANONIMA</dt>\n",
       "\t\t<dd>271740</dd>\n",
       "\t<dt>MARISCOS OCEANICAS DEL PACIFICO M.O.P.SOCIEDAD ANONIMA.</dt>\n",
       "\t\t<dd>409920</dd>\n",
       "\t<dt>INDUSTRIAS MARTEC SA</dt>\n",
       "\t\t<dd>483237.6</dd>\n",
       "\t<dt>SOTOPENA</dt>\n",
       "\t\t<dd>491456.74</dd>\n",
       "\t<dt>PEKO INTERNACIONAL SA</dt>\n",
       "\t\t<dd>613344.13</dd>\n",
       "\t<dt>COMERCIALIZADORA RIO CUARTO COSTA RICA SA</dt>\n",
       "\t\t<dd>748718</dd>\n",
       "\t<dt>TIBURON PINTO INTERNANCIONAL SA</dt>\n",
       "\t\t<dd>752567.7</dd>\n",
       "\t<dt>TRANSPORTES EL PESCADOR SA</dt>\n",
       "\t\t<dd>3145139.9</dd>\n",
       "\t<dt>TUNA VERDE IMPOEXPORT DE COSTA RICA, SOCIEDAD ANONIMA</dt>\n",
       "\t\t<dd>3626075</dd>\n",
       "\t<dt>SMALLEY DEVELOPMENT SA</dt>\n",
       "\t\t<dd>6536390.07</dd>\n",
       "\t<dt>CAGEVY INVERSIONES S.A.</dt>\n",
       "\t\t<dd>17058471</dd>\n",
       "\t<dt>INVERSIONES CRUZ Z SA</dt>\n",
       "\t\t<dd>36069106.04</dd>\n",
       "</dl>\n"
      ],
      "text/plain": [
       "      A & E PELAGIDOS DE CENTROAMERICA SOCIEDAD ANONIMA \n",
       "                                                1259.90 \n",
       "                                  EXPORTADORA FRUMAR SA \n",
       "                                                3931.90 \n",
       "                  SIMA LATINOAMERICANA SOCIEDAD ANONIMA \n",
       "                                                4680.00 \n",
       "          INVERSIONES CANO Y CASTRO CR SOCIEDAD ANONIMA \n",
       "                                                9436.93 \n",
       "                                   MUNDIPLANTA LIMITADA \n",
       "                                               12880.00 \n",
       "             COMERCIALIZADORA WANG CWS SOCIEDAD ANONIMA \n",
       "                                               17600.00 \n",
       "                                        -NOT AVAILABLE- \n",
       "                                               26875.00 \n",
       "                              DISTRIBUIDORA MULTIMAR SA \n",
       "                                               33319.00 \n",
       "                                 INVERSIONES TICOMAR SA \n",
       "                                               36400.00 \n",
       "                MARISCOS DE CORAZON MC SOCIEDAD ANONIMA \n",
       "                                               53922.68 \n",
       "                     EXPORTACIONES MARINAS DEL GOLFO SA \n",
       "                                               62521.93 \n",
       "                                 TICO PEZ F.S.T. UNO SA \n",
       "                                               91492.00 \n",
       "                          QUIROS QUIROS DENIS FRANCISCO \n",
       "                                              147543.80 \n",
       "                 INVERSIONES TUCAN I T SOCIEDAD ANONIMA \n",
       "                                              271740.00 \n",
       "MARISCOS OCEANICAS DEL PACIFICO M.O.P.SOCIEDAD ANONIMA. \n",
       "                                              409920.00 \n",
       "                                   INDUSTRIAS MARTEC SA \n",
       "                                              483237.60 \n",
       "                                               SOTOPENA \n",
       "                                              491456.74 \n",
       "                                  PEKO INTERNACIONAL SA \n",
       "                                              613344.13 \n",
       "              COMERCIALIZADORA RIO CUARTO COSTA RICA SA \n",
       "                                              748718.00 \n",
       "                        TIBURON PINTO INTERNANCIONAL SA \n",
       "                                              752567.70 \n",
       "                             TRANSPORTES EL PESCADOR SA \n",
       "                                             3145139.90 \n",
       "  TUNA VERDE IMPOEXPORT DE COSTA RICA, SOCIEDAD ANONIMA \n",
       "                                             3626075.00 \n",
       "                                 SMALLEY DEVELOPMENT SA \n",
       "                                             6536390.07 \n",
       "                                CAGEVY INVERSIONES S.A. \n",
       "                                            17058471.00 \n",
       "                                  INVERSIONES CRUZ Z SA \n",
       "                                            36069106.04 "
      ]
     },
     "metadata": {},
     "output_type": "display_data"
    },
    {
     "data": {
      "text/html": [
       "<dl class=dl-horizontal>\n",
       "\t<dt>A &amp; E PELAGIDOS DE CENTROAMERICA SOCIEDAD ANONIMA</dt>\n",
       "\t\t<dd>10</dd>\n",
       "\t<dt>SIMA LATINOAMERICANA SOCIEDAD ANONIMA</dt>\n",
       "\t\t<dd>11.61</dd>\n",
       "\t<dt>DISTRIBUIDORA MULTIMAR SA</dt>\n",
       "\t\t<dd>274.5</dd>\n",
       "\t<dt>EXPORTADORA FRUMAR SA</dt>\n",
       "\t\t<dd>963.7</dd>\n",
       "\t<dt>MARISCOS DE CORAZON MC SOCIEDAD ANONIMA</dt>\n",
       "\t\t<dd>6080.13</dd>\n",
       "\t<dt>TIBURON PINTO INTERNANCIONAL SA</dt>\n",
       "\t\t<dd>7201.62</dd>\n",
       "\t<dt>INVERSIONES CANO Y CASTRO CR SOCIEDAD ANONIMA</dt>\n",
       "\t\t<dd>8786.96</dd>\n",
       "\t<dt>-NOT AVAILABLE-</dt>\n",
       "\t\t<dd>21500</dd>\n",
       "\t<dt>COMERCIALIZADORA WANG CWS SOCIEDAD ANONIMA</dt>\n",
       "\t\t<dd>22000</dd>\n",
       "\t<dt>INVERSIONES TICOMAR SA</dt>\n",
       "\t\t<dd>26000</dd>\n",
       "\t<dt>EXPORTACIONES MARINAS DEL GOLFO SA</dt>\n",
       "\t\t<dd>28945.34</dd>\n",
       "\t<dt>MUNDIPLANTA LIMITADA</dt>\n",
       "\t\t<dd>35460</dd>\n",
       "\t<dt>SMALLEY DEVELOPMENT SA</dt>\n",
       "\t\t<dd>64223.57</dd>\n",
       "\t<dt>TICO PEZ F.S.T. UNO SA</dt>\n",
       "\t\t<dd>76664</dd>\n",
       "\t<dt>QUIROS QUIROS DENIS FRANCISCO</dt>\n",
       "\t\t<dd>89317</dd>\n",
       "\t<dt>INDUSTRIAS MARTEC SA</dt>\n",
       "\t\t<dd>95463.45</dd>\n",
       "\t<dt>INVERSIONES TUCAN I T SOCIEDAD ANONIMA</dt>\n",
       "\t\t<dd>105000</dd>\n",
       "\t<dt>MARISCOS OCEANICAS DEL PACIFICO M.O.P.SOCIEDAD ANONIMA.</dt>\n",
       "\t\t<dd>273000</dd>\n",
       "\t<dt>SOTOPENA</dt>\n",
       "\t\t<dd>306523</dd>\n",
       "\t<dt>PEKO INTERNACIONAL SA</dt>\n",
       "\t\t<dd>424000</dd>\n",
       "\t<dt>COMERCIALIZADORA RIO CUARTO COSTA RICA SA</dt>\n",
       "\t\t<dd>583765</dd>\n",
       "\t<dt>INVERSIONES CRUZ Z SA</dt>\n",
       "\t\t<dd>2765305</dd>\n",
       "\t<dt>TUNA VERDE IMPOEXPORT DE COSTA RICA, SOCIEDAD ANONIMA</dt>\n",
       "\t\t<dd>4528820</dd>\n",
       "\t<dt>TRANSPORTES EL PESCADOR SA</dt>\n",
       "\t\t<dd>21481648</dd>\n",
       "\t<dt>CAGEVY INVERSIONES S.A.</dt>\n",
       "\t\t<dd>64292674.5</dd>\n",
       "</dl>\n"
      ],
      "text/plain": [
       "      A & E PELAGIDOS DE CENTROAMERICA SOCIEDAD ANONIMA \n",
       "                                                  10.00 \n",
       "                  SIMA LATINOAMERICANA SOCIEDAD ANONIMA \n",
       "                                                  11.61 \n",
       "                              DISTRIBUIDORA MULTIMAR SA \n",
       "                                                 274.50 \n",
       "                                  EXPORTADORA FRUMAR SA \n",
       "                                                 963.70 \n",
       "                MARISCOS DE CORAZON MC SOCIEDAD ANONIMA \n",
       "                                                6080.13 \n",
       "                        TIBURON PINTO INTERNANCIONAL SA \n",
       "                                                7201.62 \n",
       "          INVERSIONES CANO Y CASTRO CR SOCIEDAD ANONIMA \n",
       "                                                8786.96 \n",
       "                                        -NOT AVAILABLE- \n",
       "                                               21500.00 \n",
       "             COMERCIALIZADORA WANG CWS SOCIEDAD ANONIMA \n",
       "                                               22000.00 \n",
       "                                 INVERSIONES TICOMAR SA \n",
       "                                               26000.00 \n",
       "                     EXPORTACIONES MARINAS DEL GOLFO SA \n",
       "                                               28945.34 \n",
       "                                   MUNDIPLANTA LIMITADA \n",
       "                                               35460.00 \n",
       "                                 SMALLEY DEVELOPMENT SA \n",
       "                                               64223.57 \n",
       "                                 TICO PEZ F.S.T. UNO SA \n",
       "                                               76664.00 \n",
       "                          QUIROS QUIROS DENIS FRANCISCO \n",
       "                                               89317.00 \n",
       "                                   INDUSTRIAS MARTEC SA \n",
       "                                               95463.45 \n",
       "                 INVERSIONES TUCAN I T SOCIEDAD ANONIMA \n",
       "                                              105000.00 \n",
       "MARISCOS OCEANICAS DEL PACIFICO M.O.P.SOCIEDAD ANONIMA. \n",
       "                                              273000.00 \n",
       "                                               SOTOPENA \n",
       "                                              306523.00 \n",
       "                                  PEKO INTERNACIONAL SA \n",
       "                                              424000.00 \n",
       "              COMERCIALIZADORA RIO CUARTO COSTA RICA SA \n",
       "                                              583765.00 \n",
       "                                  INVERSIONES CRUZ Z SA \n",
       "                                             2765305.00 \n",
       "  TUNA VERDE IMPOEXPORT DE COSTA RICA, SOCIEDAD ANONIMA \n",
       "                                             4528820.00 \n",
       "                             TRANSPORTES EL PESCADOR SA \n",
       "                                            21481648.00 \n",
       "                                CAGEVY INVERSIONES S.A. \n",
       "                                            64292674.50 "
      ]
     },
     "metadata": {},
     "output_type": "display_data"
    }
   ],
   "source": [
    "#3.2.1 List of biggest export companies by weight exported and by value in order from least to most.\n",
    "sort(tapply(CR$CIF, CR$SHIPPER, FUN=sum))\n",
    "sort(tapply(CR$NET_WEIGHT, CR$SHIPPER, FUN=sum))"
   ]
  },
  {
   "cell_type": "markdown",
   "metadata": {},
   "source": [
    "The biggest export companies in Costa Rica by both weight and declared value are Inversiones Cruz Z S.A., Cagevy Inversiones S.A, Transportes El Pescador S.A., and Tuna Verde Impoexport S.A.\n",
    "\n",
    "Inversiones Cruz is exclusively a fin exporter, and exported 36,069,106.04 USD of shark products over 6.5 years. \n",
    "\n",
    "Cagevy Inversiones operates out of Mariscos Wang dock and exports all shark products. It exported 17,058,471 USD over time.\n",
    "\n",
    "Transportes el Pescador is Fabio Wang's company. It is a managing company for a large shark fishing fleet. It exported 3,145,139.9 USD in shark products. \n"
   ]
  },
  {
   "cell_type": "markdown",
   "metadata": {},
   "source": [
    "## 3.3 Transportes el Pescador"
   ]
  },
  {
   "cell_type": "code",
   "execution_count": 28,
   "metadata": {
    "collapsed": false
   },
   "outputs": [
    {
     "data": {
      "text/html": [
       "3145139.9"
      ],
      "text/latex": [
       "3145139.9"
      ],
      "text/markdown": [
       "3145139.9"
      ],
      "text/plain": [
       "[1] 3145140"
      ]
     },
     "metadata": {},
     "output_type": "display_data"
    },
    {
     "data": {
      "text/html": [
       "<dl class=dl-horizontal>\n",
       "\t<dt>2014</dt>\n",
       "\t\t<dd>3049842.4</dd>\n",
       "\t<dt>2015</dt>\n",
       "\t\t<dd>95297.5</dd>\n",
       "</dl>\n"
      ],
      "text/plain": [
       "     2014      2015 \n",
       "3049842.4   95297.5 "
      ]
     },
     "metadata": {},
     "output_type": "display_data"
    },
    {
     "data": {
      "text/html": [
       "21481648"
      ],
      "text/latex": [
       "21481648"
      ],
      "text/markdown": [
       "21481648"
      ],
      "text/plain": [
       "[1] 21481648"
      ]
     },
     "metadata": {},
     "output_type": "display_data"
    },
    {
     "data": {
      "text/html": [
       "<dl class=dl-horizontal>\n",
       "\t<dt>2014</dt>\n",
       "\t\t<dd>21421872</dd>\n",
       "\t<dt>2015</dt>\n",
       "\t\t<dd>59776</dd>\n",
       "</dl>\n"
      ],
      "text/plain": [
       "    2014     2015 \n",
       "21421872    59776 "
      ]
     },
     "metadata": {},
     "output_type": "display_data"
    }
   ],
   "source": [
    "#3.3.1 Create Transportes el Pescador Subset and analyse for export value and weight, and then list per year.\n",
    "\n",
    "TeP = filter(CR, SHIPPER == 'TRANSPORTES EL PESCADOR SA')\n",
    "sum(TeP$CIF)\n",
    "tapply(TeP$CIF, TeP$EXPORT_YEAR, FUN=sum)\n",
    "sum(TeP$NET_WEIGHT)\n",
    "tapply(TeP$NET_WEIGHT, TeP$EXPORT_YEAR, FUN=sum)"
   ]
  },
  {
   "cell_type": "markdown",
   "metadata": {},
   "source": [
    "Transportes el Pescador only exported for two years-- 2014 and 2015-- with the vast majority of exports in 2014. Transportes el Pescador exported 3,145,139.9 USD of shark product total, with 3,049,842.4 USD of that exported in 2014. That was a total of 21,481,648 kilos of shark products."
   ]
  },
  {
   "cell_type": "code",
   "execution_count": 29,
   "metadata": {
    "collapsed": false
   },
   "outputs": [
    {
     "data": {
      "text/html": [
       "<dl class=dl-horizontal>\n",
       "\t<dt>aleta</dt>\n",
       "\t\t<dd>14966</dd>\n",
       "\t<dt>carne</dt>\n",
       "\t\t<dd>3130173.9</dd>\n",
       "</dl>\n"
      ],
      "text/plain": [
       "  aleta   carne \n",
       "  14966 3130174 "
      ]
     },
     "metadata": {},
     "output_type": "display_data"
    },
    {
     "data": {
      "text/html": [
       "<dl class=dl-horizontal>\n",
       "\t<dt>aleta</dt>\n",
       "\t\t<dd>3.5</dd>\n",
       "\t<dt>carne</dt>\n",
       "\t\t<dd>0.14574287301072</dd>\n",
       "</dl>\n"
      ],
      "text/plain": [
       "    aleta     carne \n",
       "3.5000000 0.1457429 "
      ]
     },
     "metadata": {},
     "output_type": "display_data"
    }
   ],
   "source": [
    "#3.3.2 Transportes el Pescador type of product, and price per kilo by product\n",
    "tapply(TeP$CIF, TeP$PRODUCT, FUN=sum)\n",
    "(tapply(TeP$CIF, TeP$PRODUCT, FUN=sum))/(tapply(TeP$NET_WEIGHT, TeP$PRODUCT, FUN=sum))"
   ]
  },
  {
   "cell_type": "markdown",
   "metadata": {},
   "source": [
    "The vast majority (over 3 million USD) of Transportes El Pescador's exports were shark meat not fins.  "
   ]
  },
  {
   "cell_type": "markdown",
   "metadata": {},
   "source": [
    "## 3.4 Cagevy Inversiones"
   ]
  },
  {
   "cell_type": "code",
   "execution_count": 30,
   "metadata": {
    "collapsed": false
   },
   "outputs": [
    {
     "data": {
      "text/html": [
       "17058471"
      ],
      "text/latex": [
       "17058471"
      ],
      "text/markdown": [
       "17058471"
      ],
      "text/plain": [
       "[1] 17058471"
      ]
     },
     "metadata": {},
     "output_type": "display_data"
    },
    {
     "data": {
      "text/html": [
       "<dl class=dl-horizontal>\n",
       "\t<dt>2017</dt>\n",
       "\t\t<dd>23000</dd>\n",
       "\t<dt>2016</dt>\n",
       "\t\t<dd>130921</dd>\n",
       "\t<dt>2015</dt>\n",
       "\t\t<dd>200500</dd>\n",
       "\t<dt>2014</dt>\n",
       "\t\t<dd>16704050</dd>\n",
       "</dl>\n"
      ],
      "text/plain": [
       "    2017     2016     2015     2014 \n",
       "   23000   130921   200500 16704050 "
      ]
     },
     "metadata": {},
     "output_type": "display_data"
    },
    {
     "data": {
      "text/html": [
       "64292674.5"
      ],
      "text/latex": [
       "64292674.5"
      ],
      "text/markdown": [
       "64292674.5"
      ],
      "text/plain": [
       "[1] 64292674"
      ]
     },
     "metadata": {},
     "output_type": "display_data"
    },
    {
     "data": {
      "text/html": [
       "<dl class=dl-horizontal>\n",
       "\t<dt>2017</dt>\n",
       "\t\t<dd>23000</dd>\n",
       "\t<dt>2016</dt>\n",
       "\t\t<dd>59674.5</dd>\n",
       "\t<dt>2015</dt>\n",
       "\t\t<dd>96000</dd>\n",
       "\t<dt>2014</dt>\n",
       "\t\t<dd>64114000</dd>\n",
       "</dl>\n"
      ],
      "text/plain": [
       "      2017       2016       2015       2014 \n",
       "   23000.0    59674.5    96000.0 64114000.0 "
      ]
     },
     "metadata": {},
     "output_type": "display_data"
    }
   ],
   "source": [
    "#3.4.1 Create Transportes el Pescador Subset and analyse for export value and weight, and then list per year.\n",
    "\n",
    "cagevy = filter(CR, SHIPPER == 'CAGEVY INVERSIONES S.A.')\n",
    "sum(cagevy$CIF)\n",
    "sort(tapply(cagevy$CIF, cagevy$EXPORT_YEAR, FUN=sum))\n",
    "sum(cagevy$NET_WEIGHT)\n",
    "sort(tapply(cagevy$NET_WEIGHT, cagevy$EXPORT_YEAR, FUN=sum))"
   ]
  },
  {
   "cell_type": "markdown",
   "metadata": {},
   "source": [
    "Cagevy Inversiones first came on the scene in 2014. Since then it exported 17,058,471 USD of shark products, which weighed 64,292,674.5 kilos. The biggest year for Cagevy was 2014 and exports have decreased drastically since then. Cagevy exported 16,704,050 USD of shark product in 2014, which weighed 64,114,000. This is the vast majority of Cagevy exports."
   ]
  },
  {
   "cell_type": "code",
   "execution_count": 31,
   "metadata": {
    "collapsed": false
   },
   "outputs": [
    {
     "data": {
      "text/html": [
       "<strong>carne:</strong> 17058471"
      ],
      "text/plain": [
       "   carne \n",
       "17058471 "
      ]
     },
     "metadata": {},
     "output_type": "display_data"
    },
    {
     "data": {
      "text/html": [
       "<strong>carne:</strong> 0.265325266566722"
      ],
      "text/plain": [
       "    carne \n",
       "0.2653253 "
      ]
     },
     "metadata": {},
     "output_type": "display_data"
    }
   ],
   "source": [
    "#3.4.2 Cagevy type of product, and price per kilo by product\n",
    "tapply(cagevy$CIF, cagevy$PRODUCT, FUN=sum)\n",
    "(tapply(cagevy$CIF, cagevy$PRODUCT, FUN=sum))/(tapply(cagevy$NET_WEIGHT, cagevy$PRODUCT, FUN=sum))"
   ]
  },
  {
   "cell_type": "markdown",
   "metadata": {},
   "source": [
    "Cagevy has only ever exported shark meat. The average price per kilo of the export was $.27. "
   ]
  },
  {
   "cell_type": "markdown",
   "metadata": {},
   "source": [
    "### 3.5 Inversiones Cruz Z S.A."
   ]
  },
  {
   "cell_type": "code",
   "execution_count": 32,
   "metadata": {
    "collapsed": false
   },
   "outputs": [
    {
     "data": {
      "text/html": [
       "36069106.04"
      ],
      "text/latex": [
       "36069106.04"
      ],
      "text/markdown": [
       "36069106.04"
      ],
      "text/plain": [
       "[1] 36069106"
      ]
     },
     "metadata": {},
     "output_type": "display_data"
    },
    {
     "data": {
      "text/html": [
       "<dl class=dl-horizontal>\n",
       "\t<dt>2013</dt>\n",
       "\t\t<dd>1026061.23</dd>\n",
       "\t<dt>2017</dt>\n",
       "\t\t<dd>1710367.75</dd>\n",
       "\t<dt>2012</dt>\n",
       "\t\t<dd>2503633.36</dd>\n",
       "\t<dt>2016</dt>\n",
       "\t\t<dd>2987940.6</dd>\n",
       "\t<dt>2015</dt>\n",
       "\t\t<dd>3078998.72</dd>\n",
       "\t<dt>2011</dt>\n",
       "\t\t<dd>3627514.94</dd>\n",
       "\t<dt>2014</dt>\n",
       "\t\t<dd>21134589.44</dd>\n",
       "</dl>\n"
      ],
      "text/plain": [
       "    2013     2017     2012     2016     2015     2011     2014 \n",
       " 1026061  1710368  2503633  2987941  3078999  3627515 21134589 "
      ]
     },
     "metadata": {},
     "output_type": "display_data"
    },
    {
     "data": {
      "text/html": [
       "2765305"
      ],
      "text/latex": [
       "2765305"
      ],
      "text/markdown": [
       "2765305"
      ],
      "text/plain": [
       "[1] 2765305"
      ]
     },
     "metadata": {},
     "output_type": "display_data"
    },
    {
     "data": {
      "text/html": [
       "<dl class=dl-horizontal>\n",
       "\t<dt>2013</dt>\n",
       "\t\t<dd>12986.58</dd>\n",
       "\t<dt>2017</dt>\n",
       "\t\t<dd>22199.81</dd>\n",
       "\t<dt>2012</dt>\n",
       "\t\t<dd>24035.62</dd>\n",
       "\t<dt>2011</dt>\n",
       "\t\t<dd>26919.2</dd>\n",
       "\t<dt>2015</dt>\n",
       "\t\t<dd>27840.22</dd>\n",
       "\t<dt>2016</dt>\n",
       "\t\t<dd>33147.03</dd>\n",
       "\t<dt>2014</dt>\n",
       "\t\t<dd>2618176.54</dd>\n",
       "</dl>\n"
      ],
      "text/plain": [
       "      2013       2017       2012       2011       2015       2016       2014 \n",
       "  12986.58   22199.81   24035.62   26919.20   27840.22   33147.03 2618176.54 "
      ]
     },
     "metadata": {},
     "output_type": "display_data"
    }
   ],
   "source": [
    "#3.5.1 Create Inversiones Cruz subset and analyze for export value and weight, and then list per year.\n",
    "\n",
    "ic = filter(CR, SHIPPER == 'INVERSIONES CRUZ Z SA')\n",
    "sum(ic$CIF)\n",
    "sort(tapply(ic$CIF, ic$EXPORT_YEAR, FUN=sum))\n",
    "sum(ic$NET_WEIGHT)\n",
    "sort(tapply(ic$NET_WEIGHT, ic$EXPORT_YEAR, FUN=sum))"
   ]
  },
  {
   "cell_type": "markdown",
   "metadata": {},
   "source": [
    "In 6.5 years, (2011-Aug.2017) Inversiones Cruz exported 36,069,106.04 USD of shark products, weighing 2,765,305 kilos. Their biggest year was also 2014 in which they exported 21,124,589.44 USD of shark products.  "
   ]
  },
  {
   "cell_type": "code",
   "execution_count": 33,
   "metadata": {
    "collapsed": false
   },
   "outputs": [
    {
     "data": {
      "text/html": [
       "<strong>aleta:</strong> 36069106.04"
      ],
      "text/plain": [
       "   aleta \n",
       "36069106 "
      ]
     },
     "metadata": {},
     "output_type": "display_data"
    },
    {
     "data": {
      "text/html": [
       "<strong>aleta:</strong> 13.043445854978"
      ],
      "text/plain": [
       "   aleta \n",
       "13.04345 "
      ]
     },
     "metadata": {},
     "output_type": "display_data"
    }
   ],
   "source": [
    "#3.5.2 Inversiones Cruz type of product, and price per kilo by product\n",
    "tapply(ic$CIF, ic$PRODUCT, FUN=sum)\n",
    "(tapply(ic$CIF, ic$PRODUCT, FUN=sum))/(tapply(ic$NET_WEIGHT, ic$PRODUCT, FUN=sum))"
   ]
  },
  {
   "cell_type": "markdown",
   "metadata": {},
   "source": [
    "Inversiones Cruz only exports fins. On an average, it exports fins at about $13 per kilo. However, the 2014 anomaly accounts for that low price."
   ]
  },
  {
   "cell_type": "code",
   "execution_count": 34,
   "metadata": {
    "collapsed": false
   },
   "outputs": [
    {
     "data": {
      "text/html": [
       "<dl class=dl-horizontal>\n",
       "\t<dt>2011</dt>\n",
       "\t\t<dd>134.755674017058</dd>\n",
       "\t<dt>2012</dt>\n",
       "\t\t<dd>104.163460730366</dd>\n",
       "\t<dt>2013</dt>\n",
       "\t\t<dd>79.0093488816917</dd>\n",
       "\t<dt>2014</dt>\n",
       "\t\t<dd>8.07225529566467</dd>\n",
       "\t<dt>2015</dt>\n",
       "\t\t<dd>110.595344433341</dd>\n",
       "\t<dt>2016</dt>\n",
       "\t\t<dd>90.1420308244811</dd>\n",
       "\t<dt>2017</dt>\n",
       "\t\t<dd>77.0442517300824</dd>\n",
       "</dl>\n"
      ],
      "text/plain": [
       "      2011       2012       2013       2014       2015       2016       2017 \n",
       "134.755674 104.163461  79.009349   8.072255 110.595344  90.142031  77.044252 "
      ]
     },
     "metadata": {},
     "output_type": "display_data"
    }
   ],
   "source": [
    "#3.5.3 Inversiones Cruze price per kilo of shark fins\n",
    "(tapply(ic$CIF, ic$EXPORT_YEAR, FUN=sum))/(tapply(ic$NET_WEIGHT, ic$EXPORT_YEAR, FUN=sum))"
   ]
  },
  {
   "cell_type": "markdown",
   "metadata": {},
   "source": [
    "Inversiones Cruz exported shark fins from between 134 USD and 77 USD over the years. However, in 2014, the price dropped to just over 8 USD per kilo. (Remember that was the year that they exported the most product and brought in the most revenue)"
   ]
  },
  {
   "cell_type": "markdown",
   "metadata": {},
   "source": [
    "## 4. COSTA RICA OFFLOADS"
   ]
  },
  {
   "cell_type": "markdown",
   "metadata": {},
   "source": [
    "In this section, using offload data provided by INCOPESCA, we will look at the amount of sharks offloaded in Costa Rica vs. other species, identify trends, and determine whether or not there are fleets specifically dedicated to shark fishing."
   ]
  },
  {
   "cell_type": "code",
   "execution_count": 35,
   "metadata": {
    "collapsed": false
   },
   "outputs": [
    {
     "data": {
      "text/html": [
       "<table>\n",
       "<thead><tr><th scope=col>Fecha</th><th scope=col>Ano</th><th scope=col>Bandera</th><th scope=col>Puerto</th><th scope=col>Muelle</th><th scope=col>Solicitud</th><th scope=col>Desembarque</th><th scope=col>Aprobado</th><th scope=col>Especies</th><th scope=col>Species</th><th scope=col>cuerpos</th><th scope=col>KgCuerpos</th><th scope=col>KgAletas</th><th scope=col>Peso</th><th scope=col>Embarcacion</th></tr></thead>\n",
       "<tbody>\n",
       "\t<tr><td>1-Jan-16       </td><td>2016           </td><td>Costa Rica     </td><td>Puntarenas     </td><td>Palmarenos     </td><td>3464           </td><td>Aleta Adherida </td><td>Aprobado       </td><td>Marlin Rosado  </td><td>pescado        </td><td>18             </td><td>               </td><td>               </td><td>404            </td><td>               </td></tr>\n",
       "\t<tr><td>1-Jan-16       </td><td>2016           </td><td>Costa Rica     </td><td>Puntarenas     </td><td>Palmarenos     </td><td>3464           </td><td>Aleta Adherida </td><td>Aprobado       </td><td>Vela           </td><td>pescado        </td><td> 8             </td><td>               </td><td>               </td><td>196            </td><td>               </td></tr>\n",
       "\t<tr><td>1-Jan-16       </td><td>2016           </td><td>Costa Rica     </td><td>Puntarenas     </td><td>Palmarenos     </td><td>3464           </td><td>Aleta Adherida </td><td>Aprobado       </td><td>Atun A Amarilla</td><td>pescado        </td><td> 3             </td><td>               </td><td>               </td><td>82             </td><td>               </td></tr>\n",
       "\t<tr><td>1-Jan-16       </td><td>2016           </td><td>Costa Rica     </td><td>Puntarenas     </td><td>Palmarenos     </td><td>3464           </td><td>Aleta Adherida </td><td>Aprobado       </td><td>Espada         </td><td>pescado        </td><td> 2             </td><td>               </td><td>               </td><td>37             </td><td>               </td></tr>\n",
       "\t<tr><td>1-Jan-16       </td><td>2016           </td><td>Costa Rica     </td><td>Puntarenas     </td><td>Palmarenos     </td><td>3464           </td><td>Aleta Adherida </td><td>Aprobado       </td><td>Martillo Rosado</td><td>tiburon        </td><td> 1             </td><td>5.5            </td><td>0.4            </td><td>5.9            </td><td>               </td></tr>\n",
       "\t<tr><td>1-Jan-16       </td><td>2016           </td><td>Costa Rica     </td><td>Puntarenas     </td><td>Palmarenos     </td><td>3464           </td><td>Aleta Adherida </td><td>Aprobado       </td><td>Zorro Pelagico </td><td>tiburon        </td><td>29             </td><td>761            </td><td>36             </td><td>797            </td><td>               </td></tr>\n",
       "</tbody>\n",
       "</table>\n"
      ],
      "text/latex": [
       "\\begin{tabular}{r|lllllllllllllll}\n",
       " Fecha & Ano & Bandera & Puerto & Muelle & Solicitud & Desembarque & Aprobado & Especies & Species & cuerpos & KgCuerpos & KgAletas & Peso & Embarcacion\\\\\n",
       "\\hline\n",
       "\t 1-Jan-16        & 2016            & Costa Rica      & Puntarenas      & Palmarenos      & 3464            & Aleta Adherida  & Aprobado        & Marlin Rosado   & pescado         & 18              &                 &                 & 404             &                \\\\\n",
       "\t 1-Jan-16        & 2016            & Costa Rica      & Puntarenas      & Palmarenos      & 3464            & Aleta Adherida  & Aprobado        & Vela            & pescado         &  8              &                 &                 & 196             &                \\\\\n",
       "\t 1-Jan-16        & 2016            & Costa Rica      & Puntarenas      & Palmarenos      & 3464            & Aleta Adherida  & Aprobado        & Atun A Amarilla & pescado         &  3              &                 &                 & 82              &                \\\\\n",
       "\t 1-Jan-16        & 2016            & Costa Rica      & Puntarenas      & Palmarenos      & 3464            & Aleta Adherida  & Aprobado        & Espada          & pescado         &  2              &                 &                 & 37              &                \\\\\n",
       "\t 1-Jan-16        & 2016            & Costa Rica      & Puntarenas      & Palmarenos      & 3464            & Aleta Adherida  & Aprobado        & Martillo Rosado & tiburon         &  1              & 5.5             & 0.4             & 5.9             &                \\\\\n",
       "\t 1-Jan-16        & 2016            & Costa Rica      & Puntarenas      & Palmarenos      & 3464            & Aleta Adherida  & Aprobado        & Zorro Pelagico  & tiburon         & 29              & 761             & 36              & 797             &                \\\\\n",
       "\\end{tabular}\n"
      ],
      "text/markdown": [
       "\n",
       "Fecha | Ano | Bandera | Puerto | Muelle | Solicitud | Desembarque | Aprobado | Especies | Species | cuerpos | KgCuerpos | KgAletas | Peso | Embarcacion | \n",
       "|---|---|---|---|---|---|\n",
       "| 1-Jan-16        | 2016            | Costa Rica      | Puntarenas      | Palmarenos      | 3464            | Aleta Adherida  | Aprobado        | Marlin Rosado   | pescado         | 18              |                 |                 | 404             |                 | \n",
       "| 1-Jan-16        | 2016            | Costa Rica      | Puntarenas      | Palmarenos      | 3464            | Aleta Adherida  | Aprobado        | Vela            | pescado         |  8              |                 |                 | 196             |                 | \n",
       "| 1-Jan-16        | 2016            | Costa Rica      | Puntarenas      | Palmarenos      | 3464            | Aleta Adherida  | Aprobado        | Atun A Amarilla | pescado         |  3              |                 |                 | 82              |                 | \n",
       "| 1-Jan-16        | 2016            | Costa Rica      | Puntarenas      | Palmarenos      | 3464            | Aleta Adherida  | Aprobado        | Espada          | pescado         |  2              |                 |                 | 37              |                 | \n",
       "| 1-Jan-16        | 2016            | Costa Rica      | Puntarenas      | Palmarenos      | 3464            | Aleta Adherida  | Aprobado        | Martillo Rosado | tiburon         |  1              | 5.5             | 0.4             | 5.9             |                 | \n",
       "| 1-Jan-16        | 2016            | Costa Rica      | Puntarenas      | Palmarenos      | 3464            | Aleta Adherida  | Aprobado        | Zorro Pelagico  | tiburon         | 29              | 761             | 36              | 797             |                 | \n",
       "\n",
       "\n"
      ],
      "text/plain": [
       "  Fecha    Ano  Bandera    Puerto     Muelle     Solicitud Desembarque   \n",
       "1 1-Jan-16 2016 Costa Rica Puntarenas Palmarenos 3464      Aleta Adherida\n",
       "2 1-Jan-16 2016 Costa Rica Puntarenas Palmarenos 3464      Aleta Adherida\n",
       "3 1-Jan-16 2016 Costa Rica Puntarenas Palmarenos 3464      Aleta Adherida\n",
       "4 1-Jan-16 2016 Costa Rica Puntarenas Palmarenos 3464      Aleta Adherida\n",
       "5 1-Jan-16 2016 Costa Rica Puntarenas Palmarenos 3464      Aleta Adherida\n",
       "6 1-Jan-16 2016 Costa Rica Puntarenas Palmarenos 3464      Aleta Adherida\n",
       "  Aprobado Especies        Species cuerpos KgCuerpos KgAletas Peso Embarcacion\n",
       "1 Aprobado Marlin Rosado   pescado 18                         404             \n",
       "2 Aprobado Vela            pescado  8                         196             \n",
       "3 Aprobado Atun A Amarilla pescado  3                         82              \n",
       "4 Aprobado Espada          pescado  2                         37              \n",
       "5 Aprobado Martillo Rosado tiburon  1      5.5       0.4      5.9             \n",
       "6 Aprobado Zorro Pelagico  tiburon 29      761       36       797             "
      ]
     },
     "metadata": {},
     "output_type": "display_data"
    }
   ],
   "source": [
    "head(offload)"
   ]
  },
  {
   "cell_type": "markdown",
   "metadata": {},
   "source": [
    "### 4.1 Costa Rica Fish Offload Basics"
   ]
  },
  {
   "cell_type": "code",
   "execution_count": 36,
   "metadata": {
    "collapsed": false
   },
   "outputs": [
    {
     "name": "stderr",
     "output_type": "stream",
     "text": [
      "Warning message in tapply(as.numeric(offload$Peso), offload$Species, FUN = sum, :\n",
      "“NAs introduced by coercion”"
     ]
    },
    {
     "data": {
      "text/html": [
       "<dl class=dl-horizontal>\n",
       "\t<dt>other</dt>\n",
       "\t\t<dd>49762.98</dd>\n",
       "\t<dt>pescado</dt>\n",
       "\t\t<dd>15003028.9</dd>\n",
       "\t<dt>tiburon</dt>\n",
       "\t\t<dd>25015482.736</dd>\n",
       "</dl>\n"
      ],
      "text/plain": [
       "      other     pescado     tiburon \n",
       "   49762.98 15003028.90 25015482.74 "
      ]
     },
     "metadata": {},
     "output_type": "display_data"
    },
    {
     "data": {
      "text/html": [
       "<dl class=dl-horizontal>\n",
       "\t<dt>other</dt>\n",
       "\t\t<dd>24184</dd>\n",
       "\t<dt>tiburon</dt>\n",
       "\t\t<dd>1508494</dd>\n",
       "\t<dt>pescado</dt>\n",
       "\t\t<dd>2012911</dd>\n",
       "</dl>\n"
      ],
      "text/plain": [
       "  other tiburon pescado \n",
       "  24184 1508494 2012911 "
      ]
     },
     "metadata": {},
     "output_type": "display_data"
    }
   ],
   "source": [
    "#4.1.1 Total offloads by species (simplified) in weight and number of bodies.\n",
    "sort(tapply(as.numeric(offload$Peso), offload$Species, FUN=sum, na.rm=TRUE))\n",
    "sort(tapply(as.numeric(offload$cuerpos), offload$Species, FUN=sum, na.rm=TRUE))"
   ]
  },
  {
   "cell_type": "markdown",
   "metadata": {},
   "source": [
    "Between 2011 and 2016, at least 1,508,494 sharks were offloaded at Costa Rica ports, weighing over 25,015,482.736 kilos. That is compared to 2,012,911 fish offloaded in the same period, weighing 15,003,028.9. "
   ]
  },
  {
   "cell_type": "code",
   "execution_count": 37,
   "metadata": {
    "collapsed": false
   },
   "outputs": [
    {
     "name": "stderr",
     "output_type": "stream",
     "text": [
      "Warning message in tapply(as.numeric(offload$Peso), offload$Species, FUN = sum, :\n",
      "“NAs introduced by coercion”"
     ]
    },
    {
     "data": {
      "text/html": [
       "<dl class=dl-horizontal>\n",
       "\t<dt>other</dt>\n",
       "\t\t<dd>2.05768193847172</dd>\n",
       "\t<dt>pescado</dt>\n",
       "\t\t<dd>7.4533990325454</dd>\n",
       "\t<dt>tiburon</dt>\n",
       "\t\t<dd>16.5830840135924</dd>\n",
       "</dl>\n"
      ],
      "text/plain": [
       "    other   pescado   tiburon \n",
       " 2.057682  7.453399 16.583084 "
      ]
     },
     "metadata": {},
     "output_type": "display_data"
    }
   ],
   "source": [
    "#4.1.2 Size of sharks compared to other fish offloaded.\n",
    "(tapply(as.numeric(offload$Peso), offload$Species, FUN=sum, na.rm=TRUE))/(tapply(as.numeric(offload$cuerpos), offload$Species, FUN=sum, na.rm=TRUE))"
   ]
  },
  {
   "cell_type": "markdown",
   "metadata": {},
   "source": [
    "In Costa Rica, the average shark body offloaded weighted 16.6 kilos, as compared to fish offloads which weighed 7.5 kilos per body (think tuna, sea bass etc.)"
   ]
  },
  {
   "cell_type": "markdown",
   "metadata": {},
   "source": [
    "### 4.2 Shark Offloads"
   ]
  },
  {
   "cell_type": "code",
   "execution_count": 38,
   "metadata": {
    "collapsed": false
   },
   "outputs": [
    {
     "name": "stderr",
     "output_type": "stream",
     "text": [
      "Warning message in eval(expr, envir, enclos):\n",
      "“NAs introduced by coercion”"
     ]
    },
    {
     "data": {
      "text/html": [
       "0.624321435742852"
      ],
      "text/latex": [
       "0.624321435742852"
      ],
      "text/markdown": [
       "0.624321435742852"
      ],
      "text/plain": [
       "[1] 0.6243214"
      ]
     },
     "metadata": {},
     "output_type": "display_data"
    },
    {
     "data": {
      "text/html": [
       "0.425456532045874"
      ],
      "text/latex": [
       "0.425456532045874"
      ],
      "text/markdown": [
       "0.425456532045874"
      ],
      "text/plain": [
       "[1] 0.4254565"
      ]
     },
     "metadata": {},
     "output_type": "display_data"
    }
   ],
   "source": [
    "#4.2.1 CREATE subset shark and determine percentage of total catch in weight, and then number of bodies.\n",
    "tiburon = filter(offload, Species == 'tiburon')\n",
    "(sum(as.numeric(tiburon$Peso), na.rm=TRUE))/(sum(as.numeric(offload$Peso), na.rm=TRUE))\n",
    "(sum(as.numeric(tiburon$cuerpos), na.rm=TRUE))/(sum(as.numeric(offload$cuerpos), na.rm=TRUE))"
   ]
  },
  {
   "cell_type": "markdown",
   "metadata": {},
   "source": [
    "Sharks made up 62% of total offloads by weight in Costa Rica between 2011 and 2016. Almost 43% of total bodies offloaded at Costa Rican ports were sharks."
   ]
  },
  {
   "cell_type": "code",
   "execution_count": 39,
   "metadata": {
    "collapsed": false
   },
   "outputs": [
    {
     "data": {
      "text/html": [
       "<dl class=dl-horizontal>\n",
       "\t<dt>2015</dt>\n",
       "\t\t<dd>128553</dd>\n",
       "\t<dt>2016</dt>\n",
       "\t\t<dd>136757</dd>\n",
       "\t<dt>2013</dt>\n",
       "\t\t<dd>227301</dd>\n",
       "\t<dt>2014</dt>\n",
       "\t\t<dd>281788</dd>\n",
       "\t<dt>2012</dt>\n",
       "\t\t<dd>296557</dd>\n",
       "\t<dt>2011</dt>\n",
       "\t\t<dd>437538</dd>\n",
       "</dl>\n"
      ],
      "text/plain": [
       "  2015   2016   2013   2014   2012   2011 \n",
       "128553 136757 227301 281788 296557 437538 "
      ]
     },
     "metadata": {},
     "output_type": "display_data"
    },
    {
     "data": {
      "text/html": [
       "<dl class=dl-horizontal>\n",
       "\t<dt>2016</dt>\n",
       "\t\t<dd>2656899.551</dd>\n",
       "\t<dt>2015</dt>\n",
       "\t\t<dd>2901007.55</dd>\n",
       "\t<dt>2013</dt>\n",
       "\t\t<dd>3662364.36</dd>\n",
       "\t<dt>2014</dt>\n",
       "\t\t<dd>4245261.373</dd>\n",
       "\t<dt>2012</dt>\n",
       "\t\t<dd>4927411.356</dd>\n",
       "\t<dt>2011</dt>\n",
       "\t\t<dd>6622538.546</dd>\n",
       "</dl>\n"
      ],
      "text/plain": [
       "   2016    2015    2013    2014    2012    2011 \n",
       "2656900 2901008 3662364 4245261 4927411 6622539 "
      ]
     },
     "metadata": {},
     "output_type": "display_data"
    },
    {
     "name": "stderr",
     "output_type": "stream",
     "text": [
      "Warning message in tapply(as.numeric(offload$Peso), offload$Ano, FUN = sum, na.rm = TRUE):\n",
      "“NAs introduced by coercion”"
     ]
    },
    {
     "data": {
      "text/html": [
       "<dl class=dl-horizontal>\n",
       "\t<dt>2011</dt>\n",
       "\t\t<dd>0.740515573557585</dd>\n",
       "\t<dt>2012</dt>\n",
       "\t\t<dd>0.997447429934118</dd>\n",
       "\t<dt>2013</dt>\n",
       "\t\t<dd>0.577535981958297</dd>\n",
       "\t<dt>2014</dt>\n",
       "\t\t<dd>0.379585187955417</dd>\n",
       "\t<dt>2015</dt>\n",
       "\t\t<dd>0.665584287795199</dd>\n",
       "\t<dt>2016</dt>\n",
       "\t\t<dd>0.617709817246487</dd>\n",
       "</dl>\n"
      ],
      "text/plain": [
       "     2011      2012      2013      2014      2015      2016 \n",
       "0.7405156 0.9974474 0.5775360 0.3795852 0.6655843 0.6177098 "
      ]
     },
     "metadata": {},
     "output_type": "display_data"
    }
   ],
   "source": [
    "#4.2.2 Sharks offloaded per year by number of bodies and weight and percentage of total by weight.\n",
    "sort(tapply(as.numeric(tiburon$cuerpos), tiburon$Ano, FUN=sum, na.rm=TRUE))\n",
    "\n",
    "sort(tapply(as.numeric(tiburon$Peso), tiburon$Ano, FUN=sum, na.rm=TRUE))\n",
    "\n",
    "(tapply(as.numeric(tiburon$Peso), tiburon$Ano, FUN=sum, na.rm=TRUE))/(tapply(as.numeric(offload$Peso), offload$Ano, FUN=sum, na.rm=TRUE))"
   ]
  },
  {
   "cell_type": "markdown",
   "metadata": {},
   "source": [
    "There as been a decrease in shark offloads in Costa Rica since 2011 in which 437,538 sharks were offloaded, to 2016, where 136,757 sharks were offloaded. Each year sharks made up between 55 and 75 percent of offloads, except for 2014 when shark offloads dropped to under 40 percent and 2012 when sharks were 99 percent of recorded offloads. Neither of these numbers make sense. Sharks would never be nearly 100 percent of offloads which makes me assume there is a data error. And less than 40 percent is low in a year where all of the companies made the most money, and exported the most shark products.\n",
    "\n",
    "Shark product (by weight kg) offloaded annually in Costa Rica. \n",
    "2011: 6,622,538.546 kg (74% of total offload)\n",
    "2012: 4,927,411.356 kg (99% of total offload)\n",
    "2013: 3.662,364.36 kg (58% of total offload)\n",
    "2014: 4.245,261.373 kg (38% of total offload)\n",
    "2015: 2,901,007.55 kg (67% of total offload)\n",
    "2016: 2,656,899.551 kg (62% of total offload)\n"
   ]
  },
  {
   "cell_type": "code",
   "execution_count": 40,
   "metadata": {
    "collapsed": false
   },
   "outputs": [
    {
     "data": {
      "text/html": [
       "<dl class=dl-horizontal>\n",
       "\t<dt>other</dt>\n",
       "\t\t<dd>4185.76</dd>\n",
       "\t<dt>pescado</dt>\n",
       "\t\t<dd>8423.99</dd>\n",
       "\t<dt>tiburon</dt>\n",
       "\t\t<dd>4927411.356</dd>\n",
       "</dl>\n"
      ],
      "text/plain": [
       "     other    pescado    tiburon \n",
       "   4185.76    8423.99 4927411.36 "
      ]
     },
     "metadata": {},
     "output_type": "display_data"
    },
    {
     "data": {
      "text/html": [
       "0.997447429934118"
      ],
      "text/latex": [
       "0.997447429934118"
      ],
      "text/markdown": [
       "0.997447429934118"
      ],
      "text/plain": [
       "[1] 0.9974474"
      ]
     },
     "metadata": {},
     "output_type": "display_data"
    }
   ],
   "source": [
    "#4.2.2.1 Check the 2012 irregularity.\n",
    "twelve = filter(offload, Ano==2012)\n",
    "tapply(as.numeric(twelve$Peso), twelve$Species, FUN=sum, na.rm=TRUE)\n",
    "4927411.356/(sum(as.numeric(twelve$Peso), na.rm=TRUE))"
   ]
  },
  {
   "cell_type": "code",
   "execution_count": 41,
   "metadata": {
    "collapsed": false
   },
   "outputs": [
    {
     "data": {
      "text/html": [
       "<dl class=dl-horizontal>\n",
       "\t<dt>2011</dt>\n",
       "\t\t<dd>15.1359162998414</dd>\n",
       "\t<dt>2012</dt>\n",
       "\t\t<dd>16.6153938568302</dd>\n",
       "\t<dt>2013</dt>\n",
       "\t\t<dd>16.1123988015891</dd>\n",
       "\t<dt>2014</dt>\n",
       "\t\t<dd>15.0654441388562</dd>\n",
       "\t<dt>2015</dt>\n",
       "\t\t<dd>22.566626605369</dd>\n",
       "\t<dt>2016</dt>\n",
       "\t\t<dd>19.4278870624538</dd>\n",
       "</dl>\n"
      ],
      "text/plain": [
       "    2011     2012     2013     2014     2015     2016 \n",
       "15.13592 16.61539 16.11240 15.06544 22.56663 19.42789 "
      ]
     },
     "metadata": {},
     "output_type": "display_data"
    }
   ],
   "source": [
    "#4.2.3 Size (measured in kg) of sharks brought in each year. \n",
    "(tapply(as.numeric(tiburon$Peso), tiburon$Ano, FUN=sum, na.rm=TRUE))/(tapply(as.numeric(tiburon$cuerpos), tiburon$Ano, FUN=sum, na.rm=TRUE))"
   ]
  },
  {
   "cell_type": "markdown",
   "metadata": {},
   "source": [
    "Sharks were heaviest in 2015 where the average offloaded body weighed about 22.6 kilos. The smallest was about 15 kilos. This is the weight of a frozen shark, which generally has already been gutted and the head removed."
   ]
  },
  {
   "cell_type": "markdown",
   "metadata": {},
   "source": [
    "### 4.3 Offload Vessels"
   ]
  },
  {
   "cell_type": "markdown",
   "metadata": {},
   "source": [
    "The vessel names are from years 2014 and 2015 only (due to clerical error), however, all other information is available for all years between 2011 and 2016 including flag state. "
   ]
  },
  {
   "cell_type": "code",
   "execution_count": 42,
   "metadata": {
    "collapsed": false
   },
   "outputs": [
    {
     "name": "stdout",
     "output_type": "stream",
     "text": [
      "\n",
      "                MARIA CRISTINA                     Merceditas \n",
      "                             1                              1 \n",
      "                    NEPTUNO XX                          NICHO \n",
      "                             1                              1 \n",
      "                        SHADAY                YAISEL PATRICIA \n",
      "                             1                              1 \n",
      "                     ALETA VII                          ALI I \n",
      "                             2                              2 \n",
      "                       BRIGITH                  CAPITAN PEDRO \n",
      "                             2                              2 \n",
      "                      CATALINA                    COOPEPEZ 19 \n",
      "                             2                              2 \n",
      "                      ISAURA I                    LA ROSA III \n",
      "                             2                              2 \n",
      "        MARIA DE LOS ANGELES I                   Rey de Reyes \n",
      "                             2                              2 \n",
      "                  SEILIN MARIA                     CABOBLANCO \n",
      "                             2                              3 \n",
      "                   CAPITAN LYN                    COSTA MAR I \n",
      "                             3                              3 \n",
      "                  DORIS AMANDA                         DUKEBO \n",
      "                             3                              3 \n",
      "                    EL TRACHER                           FITO \n",
      "                             3                              3 \n",
      "                       LA LIBI                    LUIS MIGUEL \n",
      "                             3                              3 \n",
      "                  MA. CATALINA                  Marianella II \n",
      "                             3                              3 \n",
      "                         PERLA                       PRISCILA \n",
      "                             3                              3 \n",
      "                BELLA CANAN IV                       CAP PANA \n",
      "                             4                              4 \n",
      "                 CAPITAN COLIN            CAPITAN LUIS MIGUEL \n",
      "                             4                              4 \n",
      "                    EL TROYANO                     ESPADA III \n",
      "                             4                              4 \n",
      "                     Jan Angel                      MARIANELA \n",
      "                             4                              4 \n",
      "                   MARIANELA I                    NAVEGANTE I \n",
      "                             4                              4 \n",
      "                        Odilie                         ORCA I \n",
      "                             4                              4 \n",
      "                     Pulpo Mar                  RIO BRAVO III \n",
      "                             4                              4 \n",
      "                        MASTIL                       NiNI III \n",
      "                             5                              5 \n",
      "                        PRIETA                         UZZIEL \n",
      "                             5                              5 \n",
      "                       VIKINGO                    CABO KIYOMY \n",
      "                             5                              6 \n",
      "                CAPITAN RONALD                     CINTIA ANN \n",
      "                             6                              6 \n",
      "                        CORMAR                   LA AMISTAD I \n",
      "                             6                              6 \n",
      "                   MARICRUZ II                        MARIPAN \n",
      "                             6                              6 \n",
      "                         Morsa                          MORZA \n",
      "                             6                              6 \n",
      "                      SALDAMAR                        YU LONG \n",
      "                             6                              6 \n",
      "                      YUN LONG                    ZARAGOZA II \n",
      "                             6                              6 \n",
      "                      ALEYA IV                      CAP BRYAN \n",
      "                             7                              7 \n",
      "               CAPITAN LIN III                   DON MIGUEL I \n",
      "                             7                              7 \n",
      "                        GOLIAT                       HABACU I \n",
      "                             7                              7 \n",
      "                   Nortena III                       ViCOLE I \n",
      "                             7                              7 \n",
      "               CAPITAN BISMARK                 CARMENCITA III \n",
      "                             8                              8 \n",
      "                        COMBOY                       CoOPAMAR \n",
      "                             8                              8 \n",
      "                    COOPEPES 8                   COOPEPES XVI \n",
      "                             8                              8 \n",
      "                   CYNTHIA ANN                    DON MIGUEL. \n",
      "                             8                              8 \n",
      "                        DORADO                        EXITO I \n",
      "                             8                              8 \n",
      "                        FRUMAR                    LOS PERICOS \n",
      "                             8                              8 \n",
      "                   SAMURAI VII                   Seylin Maria \n",
      "                             8                              8 \n",
      "                    YU LONG 35                          ALEXA \n",
      "                             8                              9 \n",
      "                          C.B. COOPEPES V (LICENCIA INACTIVA) \n",
      "                             9                              9 \n",
      "             EL GAVILAN MARINO                 GAVILAN MARINO \n",
      "                             9                              9 \n",
      "                     PERLA III                         Treyci \n",
      "                             9                              9 \n",
      "                    DRAGON XII                   EL DISCIPULO \n",
      "                            10                             10 \n",
      "                    TARZAN III                     TRES COLAS \n",
      "                            10                             10 \n",
      "                        ANAGON                     INGRID NCD \n",
      "                            11                             11 \n",
      "                     KAYANDO 1                   LA SARDINA I \n",
      "                            11                             11 \n",
      "                    TARZAN  VI                 CAPITAN JUNIOR \n",
      "                            11                             12 \n",
      "                EL NORTENO III                        VENUS I \n",
      "                            12                             12 \n",
      "                CAPITAN ADRIAN                     EL EXITO I \n",
      "                            13                             13 \n",
      "               MARY FRANCIS II                    MERCEDES JC \n",
      "                            13                             13 \n",
      "                     CAIMAN II                          STACY \n",
      "                            14                             14 \n",
      "                   ViCTORIA G.              CAPITAN BISMARK P \n",
      "                            14                             15 \n",
      "                  COOPEPES XXI                  COOPEPEZ VIII \n",
      "                            15                             15 \n",
      "                     Escorpion                    MARIA ESTER \n",
      "                            15                             15 \n",
      "                HUNG CHI FU 33                     SHAMROCK I \n",
      "                            16                             16 \n",
      "                     TERMOCHIN                      VIKINGO 2 \n",
      "                            16                             16 \n",
      "                      ANDREY J                      EL CONDOR \n",
      "                            17                             17 \n",
      "                  RIO BRAVO II               CAPITAN PANCHANA \n",
      "                            17                             18 \n",
      "                   COOPEPES 13                      DONA INES \n",
      "                            18                             18 \n",
      "                       LYN III            EL ANGEL DEL MAR II \n",
      "                            18                             19 \n",
      "                       HUKO II                      MARI CRUZ \n",
      "                            19                             19 \n",
      "                   DILAN JOSUE              MARIA CRISTINA II \n",
      "                            20                             20 \n",
      "                      TREASHER                     MARIA JOSE \n",
      "                            20                             21 \n",
      "                     ATUCAL II                   MARIA BONITA \n",
      "                            22                             22 \n",
      "                         MORSA                     URCAJO III \n",
      "                            22                             22 \n",
      "                     DISCIPULO                EL CACHALOTE II \n",
      "                            23                             23 \n",
      "                        ESPADA                     KIMBERLY I \n",
      "                            23                             23 \n",
      "                    VIKINGO II                   BAHIA AZUL I \n",
      "                            23                             24 \n",
      "                     EL DUKIKE                  LA AMISTAD I. \n",
      "                            24                             24 \n",
      "                  CAPITAN PIPI                    DON DAVID I \n",
      "                            25                             25 \n",
      "                EL GUERRERO II             ALETA AMARILLA III \n",
      "                            25                             26 \n",
      "                    DON JHONNY                          JOSUE \n",
      "                            26                             26 \n",
      "                     TARZAN VI                      EL DORADO \n",
      "                            26                             27 \n",
      "                  LA PERLA III                      MAR Y MAR \n",
      "                            27                             27 \n",
      "                  CAPITAN JOSE                CAPITAN ROMARIO \n",
      "                            28                             28 \n",
      "                     MIRIAN IV                    BELLA CANAN \n",
      "                            28                             29 \n",
      "                 CAPITAN JAMES                   MA. FERNANDA \n",
      "                            29                             29 \n",
      "                  Mercedes J,C                 BELLA CANAN II \n",
      "                            29                             30 \n",
      "                     CORNUDA I                      COSTA SOL \n",
      "                            30                             30 \n",
      "                    DON KINCHO                        GENESIS \n",
      "                            30                             30 \n",
      "               MARA CRISTINA I               MARY FRANCIS IIV \n",
      "                            30                             30 \n",
      "                         CAMAR                  MARIA VANESSA \n",
      "                            31                             31 \n",
      "                       ROCKY I                  COOPEPEZ XIII \n",
      "                            31                             32 \n",
      "                   HUNG CHI FU                    COOPEPEZ XX \n",
      "                            32                             33 \n",
      "                   ARGENTINA I                     EL PROFETA \n",
      "                            34                             34 \n",
      "                 LA GAVIOTA IV                       ATUCAL I \n",
      "                            35                             36 \n",
      "                CAPITAN ANTONY                   CACHALOTE IV \n",
      "                            36                             38 \n",
      "                      CHADAY I                      MIGUELITO \n",
      "                            38                             38 \n",
      "                    BAHIA AZUL                    CHEROKKE II \n",
      "                            39                             39 \n",
      "                 CAPITAN POCHO                  COOPEPES XIII \n",
      "                            40                             40 \n",
      "                    COOPEPEZ 8                    COOPEPEZ IX \n",
      "                            40                             40 \n",
      "                     COSTA MAR                       SHAMROCK \n",
      "                            40                             40 \n",
      "                      ZARUDANA                      DON PEDRO \n",
      "                            40                             42 \n",
      "                     HIPOCAMPO                 MARIA FERNANDA \n",
      "                            42                             42 \n",
      "                   NORTENO III                  CABO ATREVIDO \n",
      "                            42                             43 \n",
      "                       EMANUEL                       QUERUBIN \n",
      "                            43                             43 \n",
      "                CAPITAN LUISMI                       DANNY II \n",
      "                            44                             44 \n",
      "              TRIPLE SUERTE IV                       LA TANIA \n",
      "                            44                             45 \n",
      "                  CAPITAN TONY                    MODESTA III \n",
      "                            46                             46 \n",
      "                        MOISES                        TROYANO \n",
      "                            46                             46 \n",
      "                 CACHALOTE III                        EL PIRY \n",
      "                            47                             47 \n",
      "                      BAULA XX                        DON EMI \n",
      "                            48                             48 \n",
      "                         SUSAN                  WILBERTH JOSE \n",
      "                            48                             48 \n",
      "                     YERELIN I                           TEXY \n",
      "                            48                             49 \n",
      "                     BAULA XII                   FARO DEL SUR \n",
      "                            50                             50 \n",
      "                        KAYSER                    MARIA PAULA \n",
      "                            50                             50 \n",
      "                    CALIPSO IV                    PICARROPA I \n",
      "                            51                             51 \n",
      "                    PRIMERO VI              CAPITAN ANTONY VI \n",
      "                            51                             52 \n",
      "                 FLOR DE BAHIA                        INDIO I \n",
      "                            52                             52 \n",
      "                      LA PINTA                   COOPEMARTE I \n",
      "                            52                             53 \n",
      "                     ELIZABETH                        MAMATEC \n",
      "                            53                             53 \n",
      "                        DUKIKE                      DON DAVID \n",
      "                            54                             55 \n",
      "                    DON JOHNNY                      SOMARVI I \n",
      "                            55                             55 \n",
      "                         BAMBA                 CAPITAN TONY I \n",
      "                            56                             56 \n",
      "                    CARMENCITA                     GENESIS PC \n",
      "                            56                             56 \n",
      "                  MARY CRUZ II                   KATERINE III \n",
      "                            56                             57 \n",
      "                       TRIUMPH                  COSTA DEL SOL \n",
      "                            57                             58 \n",
      "                        DASNET                    DON CLAUDIO \n",
      "                            59                             59 \n",
      "                     DON NICHO                     FLOR BAHIA \n",
      "                            59                             59 \n",
      "       MARIA DE LOS ANGELES II             STEFANNY LOS MONCA \n",
      "                            59                             59 \n",
      "                     VALENTINA                     SANTA CRUZ \n",
      "                            59                             60 \n",
      "                      MARY MAR                      INTREPIDO \n",
      "                            62                             64 \n",
      "                JOSE CARLOS II                   CACHALOTE II \n",
      "                            64                             65 \n",
      "                   CHEROKEE II                     DON DANIEL \n",
      "                            66                             66 \n",
      "                     KAYANDO I                     TEMUTCHINI \n",
      "                            66                             66 \n",
      "                      BAULA VI                BELLA CANAN lll \n",
      "                            67                             67 \n",
      "                       DEYCRIS                          FAKIR \n",
      "                            67                             67 \n",
      "                MARIA PAULA II                     SAMURAY VI \n",
      "                            67                             67 \n",
      "              CAPITAN GILBERTH                        CAMARON \n",
      "                            68                             69 \n",
      "                   COOPEPES IX                    DONA AMANDA \n",
      "                            69                             69 \n",
      "                      EMMANUEL                         MANATI \n",
      "                            69                             69 \n",
      "                        MANUDO                       DON LUIS \n",
      "                            70                             71 \n",
      "                   PICA ROPA I                       REY LEON \n",
      "                            71                             71 \n",
      "                      SARAGOZA               SHIRLEY MAYGREET \n",
      "                            71                             71 \n",
      "                          LA Z                    CAP.GILBERT \n",
      "                            72                             73 \n",
      "                         KAREN                        POTEKAN \n",
      "                            73                             73 \n",
      "                 CAPITAN BRYAN                  JOHNNY WALKER \n",
      "                            74                             74 \n",
      "                REY DE REYES I                         SOPHIE \n",
      "                            74                             74 \n",
      "                      LA NADIA                  SAINT PATRICK \n",
      "                            75                             75 \n",
      "                       YURUSTI                        BAULA V \n",
      "                            75                             76 \n",
      "                      DON MEMO                     SAMURAI II \n",
      "                            76                             76 \n",
      "                MARIA VICTORIA                         ARAGON \n",
      "                            77                             78 \n",
      "                  ALEXANDER II                      BUITRE IV \n",
      "                            80                             80 \n",
      "                  MUJER GITANA                      TETMUCHIN \n",
      "                            80                             80 \n",
      "                   EL GUERRERO                       LA BAMBA \n",
      "                            81                             81 \n",
      "                 PRISCILLA ANN              ANGEL DEL MAR III \n",
      "                            81                             82 \n",
      "                       LA FOCA                      BANDIDO I \n",
      "                            82                             83 \n",
      "                  HIPOCAMPO II                  TRIPLE SUERTE \n",
      "                            83                             83 \n",
      "              ANGEL DEL MAR IV                    JOSE CARLOS \n",
      "                            84                             84 \n",
      "                  MARIAN PAOLA                    SEYLI MARIA \n",
      "                            84                             84 \n",
      "                  COOPEPEZ XXI                    EL VIEJILLO \n",
      "                            85                             85 \n",
      "                  PRICILLA ANN                       ROSA III \n",
      "                            85                             85 \n",
      "                ANDRES ESTIVEN                     DON MIGUEL \n",
      "                            86                             86 \n",
      "                    CLAUDIA 79                    TRES PRIMOS \n",
      "                            87                             87 \n",
      "               BELLA CANAN III                 CAPITAN OLIVER \n",
      "                            88                             88 \n",
      "                         CARMI                  MARCO ANTONIO \n",
      "                            88                             88 \n",
      "                      LINTERNA                   MARIANELA II \n",
      "                            89                             89 \n",
      "                     PERIQUITO                     RAMBO S.I. \n",
      "                            89                             89 \n",
      "                       KATE II                    LA NINA III \n",
      "                            90                             90 \n",
      "                    GONADRISAC                         NINI 3 \n",
      "                            91                             91 \n",
      "                   TALA TICO I                 GAVIOTA MARINA \n",
      "                            91                             92 \n",
      "                    MISS ROSSY                        ALETA I \n",
      "                            92                             93 \n",
      "                CAPITAN BAIRON              CAPITAN JEFFERSON \n",
      "                            93                             93 \n",
      "                     CORCOVADO                    RELAMPAGO I \n",
      "                            93                             93 \n",
      "             TRIPLE SUERTE III                   NAVEGANTE II \n",
      "                            93                             94 \n",
      "              EL ANGEL DEL MAR                     SAMURAI IV \n",
      "                            95                             95 \n",
      "                    BANDIDO I.                COSTA DEL SOL Z \n",
      "                            97                             97 \n",
      "                    DON LIZANO                       DON PIJA \n",
      "                            98                             98 \n",
      "                      GUERRERO                      HALCON II \n",
      "                            99                             99 \n",
      "                     JAN ANGEL                       ALETA II \n",
      "                            99                            100 \n",
      "                     COPAMAR I                        EMILY G \n",
      "                           100                            100 \n",
      "                 MERCEDES J.C.                      ALETA III \n",
      "                           100                            102 \n",
      "                 ALEXIS ANDREI                    PANAMENA II \n",
      "                           102                            104 \n",
      "                 CAPITAN JORGE                    ESCORPION I \n",
      "                           105                            105 \n",
      "                    LOS MONCAS                       CAZA MAR \n",
      "                           105                            106 \n",
      "                  GOLONDRINA I                   SEYLIN MARIA \n",
      "                           106                            106 \n",
      "                    LUZ MARINA                     MISS STACY \n",
      "                           107                            107 \n",
      "                 JOSE PABLO II                       KARIBU I \n",
      "                           108                            108 \n",
      "                  ARIANA MARIA                         HALCON \n",
      "                           109                            109 \n",
      "                    ALETA VIII                   DAFRANJO III \n",
      "                           110                            110 \n",
      "                   DONA HELLEN                         INDIRA \n",
      "                           110                            110 \n",
      "                 DARIEN ANDRES                   LA CUBERITOS \n",
      "                           111                            111 \n",
      "                      FANNY II                     GAVIOTA IV \n",
      "                           112                            112 \n",
      "                       YARITZA                     ESPUMA III \n",
      "                           112                            113 \n",
      "                       FRANMAR                        MI MARY \n",
      "                           113                            113 \n",
      "               YASIEL PATRICIA               CAPITAN ALMENGOR \n",
      "                           113                            114 \n",
      "             ALMIRANTE WILLIAN                           FOCA \n",
      "                           115                            116 \n",
      "                     MARGARITA                  CAPITAN ALLAN \n",
      "                           117                            118 \n",
      "                    SANTA FE I                 CAPITAN DUKEBO \n",
      "                           118                            119 \n",
      "                    MISS JACKY                        EVA III \n",
      "                           119                            120 \n",
      "                       ITAKA I                       ASTRO 38 \n",
      "                           120                            121 \n",
      "                 MARIANELA III                     LA CHALANA \n",
      "                           121                            122 \n",
      "                MARIA CATALINA                   MERCEDES J.C \n",
      "                           122                            122 \n",
      "                        CONDOR                         HILARY \n",
      "                           123                            123 \n",
      "                CRISTEL LISETH                        MODESTA \n",
      "                           126                            126 \n",
      "                  CRISTIAN III                  COLA AMARILLA \n",
      "                           128                            129 \n",
      "                  CAPITAN PANA                      ESTHEFANY \n",
      "                           132                            132 \n",
      "                       COLETTE                          ALICE \n",
      "                           135                            136 \n",
      "                    ANA AURORA                      FORASTERO \n",
      "                           136                            137 \n",
      "              EL NORTENO III J                          KIMMY \n",
      "                           139                            139 \n",
      "                        ODISEA                    GUERRERO II \n",
      "                           141                            143 \n",
      "                       YORFRAN                  MERCEDITAS II \n",
      "                           143                            144 \n",
      "               CAPITAN RICHARD                         HUKO I \n",
      "                           149                            149 \n",
      "                      LADY LIZ                 PATRICK ADRIAN \n",
      "                           149                            149 \n",
      "                   CABO BLANCO                 CAPITAN JULIAN \n",
      "                           153                            153 \n",
      "                     EL CHINGO                        BAULA X \n",
      "                           153                            155 \n",
      "                    CACHORRITO                   LOBO DEL MAR \n",
      "                           158                            158 \n",
      "                   SARAGOZA II                         ANTONY \n",
      "                           163                            166 \n",
      "                     LOS PINOS                          DIRIA \n",
      "                           168                            170 \n",
      "                       BRANCOL                    PUNTA PERLA \n",
      "                           173                            173 \n",
      "                     MARISOL I                       ISAMAR I \n",
      "                           174                            175 \n",
      "                       BRANDON                      DONA AIDA \n",
      "                           179                            179 \n",
      "                    GEMINIS II                       AMAZONAS \n",
      "                           179                            183 \n",
      "                     MAR BELLA                     ALBATROS I \n",
      "                           183                            184 \n",
      "                         BOBBY                      EL ESPADA \n",
      "                           185                            185 \n",
      "                        KADOSH                       ALETA IV \n",
      "                           189                            191 \n",
      "                        AIDITA                         YURI I \n",
      "                           195                            195 \n",
      "                       BUFEO B                      HIELO MAR \n",
      "                           196                            196 \n",
      "                      ESPUMA I                     SHEKINA II \n",
      "                           205                            205 \n",
      "                     ZONA CERO                         TRONCO \n",
      "                           207                            211 \n",
      "                       LIN III                    CAPITAN LIN \n",
      "                           219                            224 \n",
      "                   MISS JESSIE                  CAPITAN EDWIN \n",
      "                           228                            229 \n",
      "                       MAKY II                                \n",
      "                           229                          66624 \n"
     ]
    }
   ],
   "source": [
    "#4.3 A list of all vessels that offloaded in Costa Rica. \n",
    "print(sort(table(offload$Embarcacion)))"
   ]
  },
  {
   "cell_type": "code",
   "execution_count": 43,
   "metadata": {
    "collapsed": false
   },
   "outputs": [
    {
     "name": "stdout",
     "output_type": "stream",
     "text": [
      "\n",
      "                      ANDREY J                       CAP PANA \n",
      "                             1                              1 \n",
      "                   CAPITAN LYN                 CAPITAN RONALD \n",
      "                             1                              1 \n",
      "                        COMBOY COOPEPES V (LICENCIA INACTIVA) \n",
      "                             1                              1 \n",
      "                   COSTA MAR I                         DUKEBO \n",
      "                             1                              1 \n",
      "                    EL TRACHER                     ESPADA III \n",
      "                             1                              1 \n",
      "                        FRUMAR                      Jan Angel \n",
      "                             1                              1 \n",
      "                       LA LIBI                      MAR Y MAR \n",
      "                             1                              1 \n",
      "                     MARIANELA                  Marianella II \n",
      "                             1                              1 \n",
      "                   MARICRUZ II                       NiNI III \n",
      "                             1                              1 \n",
      "                        Odilie                   Rey de Reyes \n",
      "                             1                              1 \n",
      "                      SALDAMAR                          STACY \n",
      "                             1                              1 \n",
      "                      TREASHER                       ZARUDANA \n",
      "                             1                              1 \n",
      "                      ALEYA IV                      CAIMAN II \n",
      "                             2                              2 \n",
      "                     CAP BRYAN                CAPITAN BISMARK \n",
      "                             2                              2 \n",
      "                    CINTIA ANN                     COOPEPES 8 \n",
      "                             2                              2 \n",
      "                        CORMAR                    CYNTHIA ANN \n",
      "                             2                              2 \n",
      "                  DON MIGUEL I                         DORADO \n",
      "                             2                              2 \n",
      "                     EL CONDOR                      Escorpion \n",
      "                             2                              2 \n",
      "                   LOS PERICOS                        MARIPAN \n",
      "                             2                              2 \n",
      "                         Morsa                    Nortena III \n",
      "                             2                              2 \n",
      "                        ORCA I                      PERLA III \n",
      "                             2                              2 \n",
      "                  Seylin Maria                         UZZIEL \n",
      "                             2                              2 \n",
      "                      ViCOLE I                        VIKINGO \n",
      "                             2                              2 \n",
      "                       YARITZA                     YU LONG 35 \n",
      "                             2                              2 \n",
      "                      YUN LONG                    ZARAGOZA II \n",
      "                             2                              2 \n",
      "                         ALEXA                 BELLA CANAN IV \n",
      "                             3                              3 \n",
      "                   CABO KIYOMY                 CAPITAN ADRIAN \n",
      "                             3                              3 \n",
      "               CAPITAN LIN III                 CARMENCITA III \n",
      "                             3                              3 \n",
      "                      CoOPAMAR                   COOPEPES XVI \n",
      "                             3                              3 \n",
      "                  EL DISCIPULO                 EL NORTENO III \n",
      "                             3                              3 \n",
      "                GAVILAN MARINO                   LA AMISTAD I \n",
      "                             3                              3 \n",
      "                         MORZA                    SAMURAI VII \n",
      "                             3                              3 \n",
      "                        SOPHIE                         Treyci \n",
      "                             3                              3 \n",
      "                       VENUS I                        YU LONG \n",
      "                             3                              3 \n",
      "                        ANAGON                           C.B. \n",
      "                             4                              4 \n",
      "              CAPITAN PANCHANA                 CAPITAN TONY I \n",
      "                             4                              4 \n",
      "                  COOPEPES XXI                     DON JHONNY \n",
      "                             4                              4 \n",
      "                    DRAGON XII            EL ANGEL DEL MAR II \n",
      "                             4                              4 \n",
      "                       EXITO I                     INGRID NCD \n",
      "                             4                              4 \n",
      "                     KAYANDO 1                   LA SARDINA I \n",
      "                             4                              4 \n",
      "                       LYN III                      MARI CRUZ \n",
      "                             4                              4 \n",
      "                   MERCEDES JC                     TARZAN III \n",
      "                             4                              4 \n",
      "                     TERMOCHIN                     TRES COLAS \n",
      "                             4                              4 \n",
      "                   ViCTORIA G.                 CAPITAN OLIVER \n",
      "                             4                              5 \n",
      "                  CAPITAN TONY                  COOPEPEZ VIII \n",
      "                             5                              5 \n",
      "                     COSTA MAR                     DON MIGUEL \n",
      "                             5                              5 \n",
      "                     EL DUKIKE                     EL EXITO I \n",
      "                             5                              5 \n",
      "                       EVA III                   LA PERLA III \n",
      "                             5                              5 \n",
      "                    MARIA JOSE                       MARY MAR \n",
      "                             5                              5 \n",
      "                    TARZAN  VI                        TROYANO \n",
      "                             5                              5 \n",
      "                    VIKINGO II             ALETA AMARILLA III \n",
      "                             5                              6 \n",
      "             CAPITAN BISMARK P                CAPITAN ROMARIO \n",
      "                             6                              6 \n",
      "                     DISCIPULO                     DON LIZANO \n",
      "                             6                              6 \n",
      "                     DONA INES                         DUKIKE \n",
      "                             6                              6 \n",
      "                        ESPADA                        HUKO II \n",
      "                             6                              6 \n",
      "                         JOSUE                   MA. FERNANDA \n",
      "                             6                              6 \n",
      "             MARIA CRISTINA II                MARY FRANCIS II \n",
      "                             6                              6 \n",
      "                    URCAJO III                      ATUCAL II \n",
      "                             6                              7 \n",
      "                      CHADAY I                    COOPEPES 13 \n",
      "                             7                              7 \n",
      "                   COOPEPEZ XX                      CORNUDA I \n",
      "                             7                              7 \n",
      "                   DON DAVID I                     DON KINCHO \n",
      "                             7                              7 \n",
      "                      DON MEMO                 EL GUERRERO II \n",
      "                             7                              7 \n",
      "                HUNG CHI FU 33                   MARIA BONITA \n",
      "                             7                              7 \n",
      "                     MIRIAN IV                          MORSA \n",
      "                             7                              7 \n",
      "                    SHAMROCK I                           TEXY \n",
      "                             7                              7 \n",
      "                     VIKINGO 2                    BELLA CANAN \n",
      "                             7                              8 \n",
      "                  CAPITAN JOSE                  COOPEPEZ XIII \n",
      "                             8                              8 \n",
      "                     COSTA SOL                      EL DORADO \n",
      "                             8                              8 \n",
      "                 LA GAVIOTA IV                MARA CRISTINA I \n",
      "                             8                              8 \n",
      "                     TETMUCHIN                       ALETA II \n",
      "                             8                              9 \n",
      "                  BAHIA AZUL I                 BELLA CANAN II \n",
      "                             9                              9 \n",
      "                         CAMAR                  CAPITAN JAMES \n",
      "                             9                              9 \n",
      "                   CHEROKKE II                  COOPEPES XIII \n",
      "                             9                              9 \n",
      "                    COOPEPEZ 8                     EL PROFETA \n",
      "                             9                              9 \n",
      "                        KAYSER                     KIMBERLY I \n",
      "                             9                              9 \n",
      "                  Mercedes J,C                  CABO ATREVIDO \n",
      "                             9                             10 \n",
      "                       DEYCRIS                        EMANUEL \n",
      "                            10                             10 \n",
      "                       GENESIS                      MIGUELITO \n",
      "                            10                             10 \n",
      "                 PRISCILLA ANN             STEFANNY LOS MONCA \n",
      "                            10                             10 \n",
      "                       TRIUMPH                    ARGENTINA I \n",
      "                            10                             11 \n",
      "                 CAPITAN EDWIN                      CORCOVADO \n",
      "                            11                             11 \n",
      "               EL CACHALOTE II                  LA AMISTAD I. \n",
      "                            11                             11 \n",
      "              MARY FRANCIS IIV                     MISS ROSSY \n",
      "                            11                             11 \n",
      "                        MOISES                     ALETA VIII \n",
      "                            11                             12 \n",
      "                CAPITAN ANTONY                     DON JOHNNY \n",
      "                            12                             12 \n",
      "                       EL PIRY                      HIPOCAMPO \n",
      "                            12                             12 \n",
      "                  HIPOCAMPO II                   MARY CRUZ II \n",
      "                            12                             12 \n",
      "                     ALETA III                       ATUCAL I \n",
      "                            13                             13 \n",
      "                 CAPITAN POCHO                     FLOR BAHIA \n",
      "                            13                             13 \n",
      "                MARIA FERNANDA                    MODESTA III \n",
      "                            13                             13 \n",
      "                    SANTA CRUZ                      TARZAN VI \n",
      "                            13                             13 \n",
      "                 WILBERTH JOSE                       BAULA VI \n",
      "                            13                             14 \n",
      "                      BAULA XX                    COOPEPEZ IX \n",
      "                            14                             14 \n",
      "                       DON EMI                    DONA AMANDA \n",
      "                            14                             14 \n",
      "                   HUNG CHI FU                    LA NINA III \n",
      "                            14                             14 \n",
      "                    PRIMERO VI                     SAMURAI II \n",
      "                            14                             14 \n",
      "                       ALETA I                     BAHIA AZUL \n",
      "                            15                             15 \n",
      "                    CALIPSO IV                 CAPITAN LUISMI \n",
      "                            15                             15 \n",
      "                 COSTA DEL SOL                       DANNY II \n",
      "                            15                             15 \n",
      "                     DON DAVID                       DON LUIS \n",
      "                            15                             15 \n",
      "                  FARO DEL SUR                       LA NADIA \n",
      "                            15                             15 \n",
      "                      LA PINTA                   MARIAN PAOLA \n",
      "                            15                             15 \n",
      "                   NORTENO III                     ANA AURORA \n",
      "                            15                             16 \n",
      "                     BANDIDO I                      BAULA XII \n",
      "                            16                             16 \n",
      "             CAPITAN ANTONY VI                     GENESIS PC \n",
      "                            16                             16 \n",
      "                     INTREPIDO                 MARIA VICTORIA \n",
      "                            16                             16 \n",
      "                      QUERUBIN                      SOMARVI I \n",
      "                            16                             16 \n",
      "                         SUSAN               TRIPLE SUERTE IV \n",
      "                            16                             16 \n",
      "                         BAMBA                   CACHALOTE IV \n",
      "                            17                             17 \n",
      "                     DON NICHO                      DON PEDRO \n",
      "                            17                             17 \n",
      "                     ELIZABETH                        INDIO I \n",
      "                            17                             17 \n",
      "                   MARIA PAULA                    PICA ROPA I \n",
      "                            17                             17 \n",
      "                REY DE REYES I                     TEMUTCHINI \n",
      "                            17                             17 \n",
      "                     VALENTINA                      BUITRE IV \n",
      "                            17                             18 \n",
      "                    CARMENCITA                    DON CLAUDIO \n",
      "                            18                             18 \n",
      "                  KATERINE III                       LA TANIA \n",
      "                            18                             18 \n",
      "                       MAMATEC                   PRICILLA ANN \n",
      "                            18                             18 \n",
      "                    SAMURAY VI                       SHAMROCK \n",
      "                            18                             18 \n",
      "               BELLA CANAN III                         CONDOR \n",
      "                            19                             19 \n",
      "                  NAVEGANTE II                       SARAGOZA \n",
      "                            19                             19 \n",
      "                       YURUSTI                 ANDRES ESTIVEN \n",
      "                            19                             20 \n",
      "              CAPITAN GILBERTH                    COOPEPES IX \n",
      "                            20                             20 \n",
      "                     KAYANDO I                      YERELIN I \n",
      "                            20                             20 \n",
      "             ANGEL DEL MAR III               ANGEL DEL MAR IV \n",
      "                            21                             21 \n",
      "                 CACHALOTE III                        CAMARON \n",
      "                            21                             21 \n",
      "                   CHEROKEE II                         DASNET \n",
      "                            21                             21 \n",
      "                    DON DANIEL                       EMMANUEL \n",
      "                            21                             21 \n",
      "                GAVIOTA MARINA                         INDIRA \n",
      "                            21                             21 \n",
      "                JOSE CARLOS II                       REY LEON \n",
      "                            21                             21 \n",
      "                      ROSA III                    CAP.GILBERT \n",
      "                            21                             22 \n",
      "                       COLETTE                   COOPEMARTE I \n",
      "                            22                             22 \n",
      "                CRISTEL LISETH               EL ANGEL DEL MAR \n",
      "                            22                             22 \n",
      "                         FAKIR                        FRANMAR \n",
      "                            22                             22 \n",
      "                 JOHNNY WALKER                       LA BAMBA \n",
      "                            22                             22 \n",
      "                     PERIQUITO                     RAMBO S.I. \n",
      "                            22                             22 \n",
      "              SHIRLEY MAYGREET                    TALA TICO I \n",
      "                            22                             22 \n",
      "                       BAULA V                BELLA CANAN lll \n",
      "                            23                             23 \n",
      "                   DONA HELLEN                    PICARROPA I \n",
      "                            23                             23 \n",
      "                   SEYLI MARIA                        BRANCOL \n",
      "                            23                             24 \n",
      "                CAPITAN BAIRON                          CARMI \n",
      "                            24                             24 \n",
      "                   JOSE CARLOS                        LA FOCA \n",
      "                            24                             24 \n",
      "                 MARCO ANTONIO        MARIA DE LOS ANGELES II \n",
      "                            24                             24 \n",
      "                        ARAGON                   CACHALOTE II \n",
      "                            25                             25 \n",
      "                     COPAMAR I                    EL VIEJILLO \n",
      "                            25                             25 \n",
      "                      GUERRERO                           LA Z \n",
      "                            25                             25 \n",
      "                        MANUDO                   MUJER GITANA \n",
      "                            25                             25 \n",
      "                 SAINT PATRICK                    TRES PRIMOS \n",
      "                            25                             25 \n",
      "                 TRIPLE SUERTE                   ALEXANDER II \n",
      "                            25                             26 \n",
      "                    BANDIDO I.                     CACHORRITO \n",
      "                            26                             26 \n",
      "               COSTA DEL SOL Z                  DARIEN ANDRES \n",
      "                            26                             26 \n",
      "                    GONADRISAC                         MANATI \n",
      "                            26                             26 \n",
      "                MARIA CATALINA                     SANTA FE I \n",
      "                            26                             26 \n",
      "                 CAPITAN BRYAN                     CLAUDIA 79 \n",
      "                            27                             27 \n",
      "                      DON PIJA                       FANNY II \n",
      "                            27                             27 \n",
      "                         KAREN                        KATE II \n",
      "                            27                             27 \n",
      "                        NINI 3                        POTEKAN \n",
      "                            27                             27 \n",
      "                     JAN ANGEL                       KARIBU I \n",
      "                            28                             28 \n",
      "                      LINTERNA                  ALEXIS ANDREI \n",
      "                            28                             29 \n",
      "                CAPITAN DUKEBO                   COOPEPEZ XXI \n",
      "                            29                             29 \n",
      "                   EL GUERRERO                     SAMURAI IV \n",
      "                            29                             29 \n",
      "                  DAFRANJO III                   LA CUBERITOS \n",
      "                            30                             30 \n",
      "                MARIA PAULA II                     MISS JACKY \n",
      "                            30                             30 \n",
      "                   RELAMPAGO I              ALMIRANTE WILLIAN \n",
      "                            30                             31 \n",
      "                 COLA AMARILLA                   CRISTIAN III \n",
      "                            31                             31 \n",
      "                       EMILY G                      HALCON II \n",
      "                            31                             31 \n",
      "                    LOS MONCAS              CAPITAN JEFFERSON \n",
      "                            31                             32 \n",
      "                 CAPITAN JORGE                  MERCEDES J.C. \n",
      "                            32                             32 \n",
      "                   PANAMENA II              TRIPLE SUERTE III \n",
      "                            32                             32 \n",
      "                       BAULA X               CAPITAN ALMENGOR \n",
      "                            33                             33 \n",
      "                  CAPITAN PANA                      DONA AIDA \n",
      "                            33                             33 \n",
      "                        HALCON                          KIMMY \n",
      "                            33                             33 \n",
      "                     MARGARITA                   SEYLIN MARIA \n",
      "                            33                             33 \n",
      "                         ALICE                       ASTRO 38 \n",
      "                            34                             34 \n",
      "                 CAPITAN ALLAN                           FOCA \n",
      "                            34                             34 \n",
      "                  GOLONDRINA I                        MI MARY \n",
      "                            34                             34 \n",
      "               YASIEL PATRICIA                     GAVIOTA IV \n",
      "                            34                             35 \n",
      "                    GEMINIS II                  JOSE PABLO II \n",
      "                            35                             35 \n",
      "                 MERCEDITAS II                          BOBBY \n",
      "                            35                             36 \n",
      "                   ESCORPION I                     ESPUMA III \n",
      "                            36                             36 \n",
      "                       ITAKA I                   ARIANA MARIA \n",
      "                            36                             37 \n",
      "              EL NORTENO III J                       ISAMAR I \n",
      "                            38                             38 \n",
      "                    MISS STACY                        MODESTA \n",
      "                            38                             38 \n",
      "                      CAZA MAR                     LUZ MARINA \n",
      "                            39                             39 \n",
      "                     MARISOL I                   MERCEDES J.C \n",
      "                            39                             39 \n",
      "                   PUNTA PERLA                        BRANDON \n",
      "                            39                             40 \n",
      "                     EL CHINGO                   LOBO DEL MAR \n",
      "                            40                             41 \n",
      "                  MARIANELA II                         ODISEA \n",
      "                            41                             41 \n",
      "                CAPITAN JULIAN                         HILARY \n",
      "                            42                             42 \n",
      "                   CABO BLANCO                      FORASTERO \n",
      "                            43                             43 \n",
      "                   GUERRERO II                     LA CHALANA \n",
      "                            43                             43 \n",
      "                       YORFRAN                CAPITAN RICHARD \n",
      "                            43                             45 \n",
      "                     LOS PINOS                    CAPITAN LIN \n",
      "                            45                             47 \n",
      "                   SARAGOZA II                       AMAZONAS \n",
      "                            47                             48 \n",
      "                     EL ESPADA                      ESTHEFANY \n",
      "                            49                             49 \n",
      "                   MISS JESSIE                         KADOSH \n",
      "                            49                             51 \n",
      "                      LADY LIZ                  MARIANELA III \n",
      "                            51                             51 \n",
      "                        TRONCO                         AIDITA \n",
      "                            51                             52 \n",
      "                        HUKO I                        LIN III \n",
      "                            52                             53 \n",
      "                PATRICK ADRIAN                         ANTONY \n",
      "                            53                             54 \n",
      "                        YURI I                     SHEKINA II \n",
      "                            54                             55 \n",
      "                    ALBATROS I                      MAR BELLA \n",
      "                            56                             56 \n",
      "                     HIELO MAR                          DIRIA \n",
      "                            58                             60 \n",
      "                      ALETA IV                       ESPUMA I \n",
      "                            63                             66 \n",
      "                     ZONA CERO                        BUFEO B \n",
      "                            67                             69 \n",
      "                       MAKY II                                \n",
      "                            69                          18037 \n"
     ]
    }
   ],
   "source": [
    "#4.3.1 A list of vessels that offloaded shark\n",
    "print(sort(table(tiburon$Embarcacion)))\n"
   ]
  },
  {
   "cell_type": "code",
   "execution_count": 44,
   "metadata": {
    "collapsed": false
   },
   "outputs": [
    {
     "data": {
      "text/html": [
       "251415.666666667"
      ],
      "text/latex": [
       "251415.666666667"
      ],
      "text/markdown": [
       "251415.666666667"
      ],
      "text/plain": [
       "[1] 251415.7"
      ]
     },
     "metadata": {},
     "output_type": "display_data"
    },
    {
     "data": {
      "text/html": [
       "2514.15666666667"
      ],
      "text/latex": [
       "2514.15666666667"
      ],
      "text/markdown": [
       "2514.15666666667"
      ],
      "text/plain": [
       "[1] 2514.157"
      ]
     },
     "metadata": {},
     "output_type": "display_data"
    },
    {
     "data": {
      "text/plain": [
       "\n",
       "                    BAULA XII     DRAGON XII    HUNG CHI FU HUNG CHI FU 33 \n",
       "             9              1              2              2              2 \n",
       "       ITAKA I     TARZAN III    ViCTORIA G.     YU LONG 35       YUN LONG \n",
       "             1              1              1              2              1 "
      ]
     },
     "metadata": {},
     "output_type": "display_data"
    }
   ],
   "source": [
    "#4.3.2 Shark fishing vessels that offloaded more than one percent of average annual shark catch at a time.\n",
    "\n",
    "(sum(as.numeric(tiburon$cuerpos), na.rm=TRUE))/6\n",
    "((sum(as.numeric(tiburon$cuerpos), na.rm=TRUE))/6)*.01\n",
    "biggies = filter(offload, Species == 'tiburon', cuerpos>=2514)\n",
    "table(biggies$Embarcacion)"
   ]
  },
  {
   "cell_type": "markdown",
   "metadata": {},
   "source": [
    "The average annual shark catch is around 251,416 bodies, so one percent of that would be 2514 bodies. Just a handfull of vessels offloading more than that amount of a single species of shark at a time.(NOTE: One problem with this test is that each row is for a single species, and multiple rows could represent the same offload. However, that would make the offload bigger, not smaller and does not change the fact that these are some of the biggest shark boats in the game.) "
   ]
  },
  {
   "cell_type": "code",
   "execution_count": 45,
   "metadata": {
    "collapsed": false
   },
   "outputs": [
    {
     "data": {
      "text/html": [
       "<table>\n",
       "<thead><tr><th scope=col>Fecha</th><th scope=col>Ano</th><th scope=col>Bandera</th><th scope=col>Puerto</th><th scope=col>Muelle</th><th scope=col>Solicitud</th><th scope=col>Desembarque</th><th scope=col>Aprobado</th><th scope=col>Especies</th><th scope=col>Species</th><th scope=col>cuerpos</th><th scope=col>KgCuerpos</th><th scope=col>KgAletas</th><th scope=col>Peso</th><th scope=col>Embarcacion</th></tr></thead>\n",
       "<tbody>\n",
       "\t<tr><td>15-Dec-14        </td><td>2014             </td><td>Costa Rica       </td><td>Puntarenas       </td><td>Pulpo Mar        </td><td>22222            </td><td>T22233           </td><td>Aprobado         </td><td>azul             </td><td>tiburon          </td><td>3621             </td><td>207.3            </td><td>0                </td><td>207.3            </td><td>BAULA XII        </td></tr>\n",
       "\t<tr><td>1-Jun-11         </td><td>2011             </td><td>Costa Rica       </td><td>Puntarenas       </td><td>Muelle J y Cheng </td><td> 6913            </td><td>Aleta Adherida   </td><td>Aprobado         </td><td>Gris             </td><td>tiburon          </td><td>2734             </td><td>21,945.00        </td><td>2,068.00         </td><td>24013            </td><td>                 </td></tr>\n",
       "\t<tr><td>3-May-14         </td><td>2014             </td><td>Belice           </td><td>Puntarenas       </td><td>INCOPESCA        </td><td>20666            </td><td>Aleta Adherida   </td><td>Aprobado         </td><td>azul             </td><td>tiburon          </td><td>3802             </td><td>25116            </td><td>2850             </td><td>27966            </td><td>DRAGON XII       </td></tr>\n",
       "\t<tr><td>22-Dec-14        </td><td>2014             </td><td>Costa Rica       </td><td>Puntarenas       </td><td>Terminal Pesquera</td><td>22298            </td><td>Aleta Adherida   </td><td>Aprobado         </td><td>Gris             </td><td>tiburon          </td><td>6178             </td><td>381.9            </td><td>0                </td><td>381.9            </td><td>ITAKA I          </td></tr>\n",
       "\t<tr><td>21-Mar-12        </td><td>2012             </td><td>Belice           </td><td>Puntarenas       </td><td>INCOPESCA        </td><td>10660            </td><td>Aleta Adherida   </td><td>Aprobado         </td><td>Gris             </td><td>tiburon          </td><td>2900             </td><td>36,086.00        </td><td>3,067.00         </td><td>39153            </td><td>                 </td></tr>\n",
       "\t<tr><td>18-Jan-14        </td><td>2014             </td><td>Belice           </td><td>Puntarenas       </td><td>INCOPESCA        </td><td>19855            </td><td>Aleta Adherida   </td><td>Aprobado         </td><td>azul             </td><td>tiburon          </td><td>7994             </td><td>3971             </td><td>314              </td><td>4285             </td><td>YUN LONG         </td></tr>\n",
       "\t<tr><td>30-Sep-14        </td><td>2014             </td><td>Belice           </td><td>Puntarenas       </td><td>INCOPESCA        </td><td>21710            </td><td>Aleta Adherida   </td><td>Aprobado         </td><td>Gris             </td><td>tiburon          </td><td>2537             </td><td>558.35           </td><td>4251             </td><td>4809.35          </td><td>HUNG CHI FU      </td></tr>\n",
       "\t<tr><td>11-Jun-12        </td><td>2012             </td><td>Costa Rica       </td><td>Puntarenas       </td><td>PMT              </td><td>12018            </td><td>Aleta Adherida   </td><td>Aprobado         </td><td>Gris             </td><td>tiburon          </td><td>2732             </td><td>4,895.30         </td><td>0                </td><td>4895.3           </td><td>                 </td></tr>\n",
       "\t<tr><td>30-Dec-14        </td><td>2014             </td><td>Belice           </td><td>Puntarenas       </td><td>INCOPESCA        </td><td>22374            </td><td>Aleta Adherida   </td><td>Aprobado         </td><td>Gris             </td><td>tiburon          </td><td>2755             </td><td>46865            </td><td>3405             </td><td>50270            </td><td>YU LONG 35       </td></tr>\n",
       "\t<tr><td>30-Dec-14        </td><td>2014             </td><td>Belice           </td><td>Puntarenas       </td><td>Terminal Pesquera</td><td>22374            </td><td>Aleta Adherida   </td><td>Aprobado         </td><td>Gris             </td><td>tiburon          </td><td>2755             </td><td>46,865.00        </td><td>3,405.00         </td><td>50270            </td><td>YU LONG 35       </td></tr>\n",
       "\t<tr><td>3-Dec-14         </td><td>2014             </td><td>Belice           </td><td>Puntarenas       </td><td>INCOPESCA        </td><td>22166            </td><td>Aleta Adherida   </td><td>Aprobado         </td><td>Gris             </td><td>tiburon          </td><td>3111             </td><td>46672            </td><td>3716             </td><td>50388            </td><td>TARZAN III       </td></tr>\n",
       "\t<tr><td>21-Nov-14        </td><td>2014             </td><td>Belice           </td><td>Puntarenas       </td><td>INCOPESCA        </td><td>22061            </td><td>Aleta Adherida   </td><td>Aprobado         </td><td>Gris             </td><td>tiburon          </td><td>3499             </td><td>49802            </td><td>3821             </td><td>53623            </td><td>DRAGON XII       </td></tr>\n",
       "\t<tr><td>17-Apr-13        </td><td>2013             </td><td>Belice           </td><td>Puntarenas       </td><td>INCOPESCA        </td><td>16391            </td><td>Aleta Adherida   </td><td>Aprobado         </td><td>Gris             </td><td>tiburon          </td><td>3131             </td><td>50,108.00        </td><td>4,776.00         </td><td>54884            </td><td>                 </td></tr>\n",
       "\t<tr><td>14-Dec-12        </td><td>2012             </td><td>Belice           </td><td>Puntarenas       </td><td>INCOPESCA        </td><td>14692            </td><td>Aleta Adherida   </td><td>Aprobado         </td><td>Gris             </td><td>tiburon          </td><td>2555             </td><td>51,113.00        </td><td>4,602.00         </td><td>55715            </td><td>                 </td></tr>\n",
       "\t<tr><td>17-Dec-15        </td><td>2015             </td><td>Costa Rica       </td><td>Puntarenas       </td><td>Mariscos Wang    </td><td> 3358            </td><td>Aleta Adherida   </td><td>Aprobado         </td><td>Gris             </td><td>tiburon          </td><td>2750             </td><td>59,455.00        </td><td>0                </td><td>59455            </td><td>ViCTORIA G.      </td></tr>\n",
       "\t<tr><td>8-Jun-11         </td><td>2011             </td><td>Belice           </td><td>Puntarenas       </td><td>Terminal Pesquera</td><td> 8656            </td><td>Aleta Adherida   </td><td>Aprobado         </td><td>Gris             </td><td>tiburon          </td><td>4600             </td><td>64,557.00        </td><td>4,850.00         </td><td>69407            </td><td>                 </td></tr>\n",
       "\t<tr><td>7-Nov-14         </td><td>2014             </td><td>Belice           </td><td>Puntarenas       </td><td>INCOPESCA        </td><td>21960            </td><td>Aleta Adherida   </td><td>Aprobado         </td><td>Gris             </td><td>tiburon          </td><td>3269             </td><td>65229            </td><td>4977             </td><td>70206            </td><td>HUNG CHI FU 33   </td></tr>\n",
       "\t<tr><td>7-Dec-11         </td><td>2011             </td><td>Belice           </td><td>Puntarenas       </td><td>INCOPESCA        </td><td> 2799            </td><td>Aleta Adherida   </td><td>Aprobado         </td><td>Gris             </td><td>tiburon          </td><td>4747             </td><td>70,028.00        </td><td>5,862.00         </td><td>75890            </td><td>                 </td></tr>\n",
       "\t<tr><td>2-Mar-13         </td><td>2013             </td><td>Belice           </td><td>Puntarenas       </td><td>INCOPESCA        </td><td>15793            </td><td>Aleta Adherida   </td><td>Aprobado         </td><td>Gris             </td><td>tiburon          </td><td>9255             </td><td>74,037.00        </td><td>4,917.00         </td><td>78954            </td><td>                 </td></tr>\n",
       "\t<tr><td>19-Dec-11        </td><td>2011             </td><td>Belice           </td><td>Puntarenas       </td><td>INCOPESCA        </td><td> 2877            </td><td>Aleta Adherida   </td><td>Aprobado         </td><td>Gris             </td><td>tiburon          </td><td>3975             </td><td>75,520.00        </td><td>6,283.00         </td><td>81803            </td><td>                 </td></tr>\n",
       "\t<tr><td>27-Feb-14        </td><td>2014             </td><td>Belice           </td><td>Puntarenas       </td><td>INCOPESCA        </td><td>20076            </td><td>Aleta Adherida   </td><td>Aprobado         </td><td>Gris             </td><td>tiburon          </td><td>5519             </td><td>77272            </td><td>6039             </td><td>83311            </td><td>HUNG CHI FU 33   </td></tr>\n",
       "\t<tr><td>4-Feb-14         </td><td>2014             </td><td>Belice           </td><td>Puntarenas       </td><td>INCOPESCA        </td><td>19971            </td><td>Aleta Adherida   </td><td>Aprobado         </td><td>Gris             </td><td>tiburon          </td><td>7097             </td><td>85167            </td><td>6600             </td><td>91767            </td><td>HUNG CHI FU      </td></tr>\n",
       "</tbody>\n",
       "</table>\n"
      ],
      "text/latex": [
       "\\begin{tabular}{r|lllllllllllllll}\n",
       " Fecha & Ano & Bandera & Puerto & Muelle & Solicitud & Desembarque & Aprobado & Especies & Species & cuerpos & KgCuerpos & KgAletas & Peso & Embarcacion\\\\\n",
       "\\hline\n",
       "\t 15-Dec-14         & 2014              & Costa Rica        & Puntarenas        & Pulpo Mar         & 22222             & T22233            & Aprobado          & azul              & tiburon           & 3621              & 207.3             & 0                 & 207.3             & BAULA XII        \\\\\n",
       "\t 1-Jun-11          & 2011              & Costa Rica        & Puntarenas        & Muelle J y Cheng  &  6913             & Aleta Adherida    & Aprobado          & Gris              & tiburon           & 2734              & 21,945.00         & 2,068.00          & 24013             &                  \\\\\n",
       "\t 3-May-14          & 2014              & Belice            & Puntarenas        & INCOPESCA         & 20666             & Aleta Adherida    & Aprobado          & azul              & tiburon           & 3802              & 25116             & 2850              & 27966             & DRAGON XII       \\\\\n",
       "\t 22-Dec-14         & 2014              & Costa Rica        & Puntarenas        & Terminal Pesquera & 22298             & Aleta Adherida    & Aprobado          & Gris              & tiburon           & 6178              & 381.9             & 0                 & 381.9             & ITAKA I          \\\\\n",
       "\t 21-Mar-12         & 2012              & Belice            & Puntarenas        & INCOPESCA         & 10660             & Aleta Adherida    & Aprobado          & Gris              & tiburon           & 2900              & 36,086.00         & 3,067.00          & 39153             &                  \\\\\n",
       "\t 18-Jan-14         & 2014              & Belice            & Puntarenas        & INCOPESCA         & 19855             & Aleta Adherida    & Aprobado          & azul              & tiburon           & 7994              & 3971              & 314               & 4285              & YUN LONG         \\\\\n",
       "\t 30-Sep-14         & 2014              & Belice            & Puntarenas        & INCOPESCA         & 21710             & Aleta Adherida    & Aprobado          & Gris              & tiburon           & 2537              & 558.35            & 4251              & 4809.35           & HUNG CHI FU      \\\\\n",
       "\t 11-Jun-12         & 2012              & Costa Rica        & Puntarenas        & PMT               & 12018             & Aleta Adherida    & Aprobado          & Gris              & tiburon           & 2732              & 4,895.30          & 0                 & 4895.3            &                  \\\\\n",
       "\t 30-Dec-14         & 2014              & Belice            & Puntarenas        & INCOPESCA         & 22374             & Aleta Adherida    & Aprobado          & Gris              & tiburon           & 2755              & 46865             & 3405              & 50270             & YU LONG 35       \\\\\n",
       "\t 30-Dec-14         & 2014              & Belice            & Puntarenas        & Terminal Pesquera & 22374             & Aleta Adherida    & Aprobado          & Gris              & tiburon           & 2755              & 46,865.00         & 3,405.00          & 50270             & YU LONG 35       \\\\\n",
       "\t 3-Dec-14          & 2014              & Belice            & Puntarenas        & INCOPESCA         & 22166             & Aleta Adherida    & Aprobado          & Gris              & tiburon           & 3111              & 46672             & 3716              & 50388             & TARZAN III       \\\\\n",
       "\t 21-Nov-14         & 2014              & Belice            & Puntarenas        & INCOPESCA         & 22061             & Aleta Adherida    & Aprobado          & Gris              & tiburon           & 3499              & 49802             & 3821              & 53623             & DRAGON XII       \\\\\n",
       "\t 17-Apr-13         & 2013              & Belice            & Puntarenas        & INCOPESCA         & 16391             & Aleta Adherida    & Aprobado          & Gris              & tiburon           & 3131              & 50,108.00         & 4,776.00          & 54884             &                  \\\\\n",
       "\t 14-Dec-12         & 2012              & Belice            & Puntarenas        & INCOPESCA         & 14692             & Aleta Adherida    & Aprobado          & Gris              & tiburon           & 2555              & 51,113.00         & 4,602.00          & 55715             &                  \\\\\n",
       "\t 17-Dec-15         & 2015              & Costa Rica        & Puntarenas        & Mariscos Wang     &  3358             & Aleta Adherida    & Aprobado          & Gris              & tiburon           & 2750              & 59,455.00         & 0                 & 59455             & ViCTORIA G.      \\\\\n",
       "\t 8-Jun-11          & 2011              & Belice            & Puntarenas        & Terminal Pesquera &  8656             & Aleta Adherida    & Aprobado          & Gris              & tiburon           & 4600              & 64,557.00         & 4,850.00          & 69407             &                  \\\\\n",
       "\t 7-Nov-14          & 2014              & Belice            & Puntarenas        & INCOPESCA         & 21960             & Aleta Adherida    & Aprobado          & Gris              & tiburon           & 3269              & 65229             & 4977              & 70206             & HUNG CHI FU 33   \\\\\n",
       "\t 7-Dec-11          & 2011              & Belice            & Puntarenas        & INCOPESCA         &  2799             & Aleta Adherida    & Aprobado          & Gris              & tiburon           & 4747              & 70,028.00         & 5,862.00          & 75890             &                  \\\\\n",
       "\t 2-Mar-13          & 2013              & Belice            & Puntarenas        & INCOPESCA         & 15793             & Aleta Adherida    & Aprobado          & Gris              & tiburon           & 9255              & 74,037.00         & 4,917.00          & 78954             &                  \\\\\n",
       "\t 19-Dec-11         & 2011              & Belice            & Puntarenas        & INCOPESCA         &  2877             & Aleta Adherida    & Aprobado          & Gris              & tiburon           & 3975              & 75,520.00         & 6,283.00          & 81803             &                  \\\\\n",
       "\t 27-Feb-14         & 2014              & Belice            & Puntarenas        & INCOPESCA         & 20076             & Aleta Adherida    & Aprobado          & Gris              & tiburon           & 5519              & 77272             & 6039              & 83311             & HUNG CHI FU 33   \\\\\n",
       "\t 4-Feb-14          & 2014              & Belice            & Puntarenas        & INCOPESCA         & 19971             & Aleta Adherida    & Aprobado          & Gris              & tiburon           & 7097              & 85167             & 6600              & 91767             & HUNG CHI FU      \\\\\n",
       "\\end{tabular}\n"
      ],
      "text/markdown": [
       "\n",
       "Fecha | Ano | Bandera | Puerto | Muelle | Solicitud | Desembarque | Aprobado | Especies | Species | cuerpos | KgCuerpos | KgAletas | Peso | Embarcacion | \n",
       "|---|---|---|---|---|---|---|---|---|---|---|---|---|---|---|---|---|---|---|---|---|---|\n",
       "| 15-Dec-14         | 2014              | Costa Rica        | Puntarenas        | Pulpo Mar         | 22222             | T22233            | Aprobado          | azul              | tiburon           | 3621              | 207.3             | 0                 | 207.3             | BAULA XII         | \n",
       "| 1-Jun-11          | 2011              | Costa Rica        | Puntarenas        | Muelle J y Cheng  |  6913             | Aleta Adherida    | Aprobado          | Gris              | tiburon           | 2734              | 21,945.00         | 2,068.00          | 24013             |                   | \n",
       "| 3-May-14          | 2014              | Belice            | Puntarenas        | INCOPESCA         | 20666             | Aleta Adherida    | Aprobado          | azul              | tiburon           | 3802              | 25116             | 2850              | 27966             | DRAGON XII        | \n",
       "| 22-Dec-14         | 2014              | Costa Rica        | Puntarenas        | Terminal Pesquera | 22298             | Aleta Adherida    | Aprobado          | Gris              | tiburon           | 6178              | 381.9             | 0                 | 381.9             | ITAKA I           | \n",
       "| 21-Mar-12         | 2012              | Belice            | Puntarenas        | INCOPESCA         | 10660             | Aleta Adherida    | Aprobado          | Gris              | tiburon           | 2900              | 36,086.00         | 3,067.00          | 39153             |                   | \n",
       "| 18-Jan-14         | 2014              | Belice            | Puntarenas        | INCOPESCA         | 19855             | Aleta Adherida    | Aprobado          | azul              | tiburon           | 7994              | 3971              | 314               | 4285              | YUN LONG          | \n",
       "| 30-Sep-14         | 2014              | Belice            | Puntarenas        | INCOPESCA         | 21710             | Aleta Adherida    | Aprobado          | Gris              | tiburon           | 2537              | 558.35            | 4251              | 4809.35           | HUNG CHI FU       | \n",
       "| 11-Jun-12         | 2012              | Costa Rica        | Puntarenas        | PMT               | 12018             | Aleta Adherida    | Aprobado          | Gris              | tiburon           | 2732              | 4,895.30          | 0                 | 4895.3            |                   | \n",
       "| 30-Dec-14         | 2014              | Belice            | Puntarenas        | INCOPESCA         | 22374             | Aleta Adherida    | Aprobado          | Gris              | tiburon           | 2755              | 46865             | 3405              | 50270             | YU LONG 35        | \n",
       "| 30-Dec-14         | 2014              | Belice            | Puntarenas        | Terminal Pesquera | 22374             | Aleta Adherida    | Aprobado          | Gris              | tiburon           | 2755              | 46,865.00         | 3,405.00          | 50270             | YU LONG 35        | \n",
       "| 3-Dec-14          | 2014              | Belice            | Puntarenas        | INCOPESCA         | 22166             | Aleta Adherida    | Aprobado          | Gris              | tiburon           | 3111              | 46672             | 3716              | 50388             | TARZAN III        | \n",
       "| 21-Nov-14         | 2014              | Belice            | Puntarenas        | INCOPESCA         | 22061             | Aleta Adherida    | Aprobado          | Gris              | tiburon           | 3499              | 49802             | 3821              | 53623             | DRAGON XII        | \n",
       "| 17-Apr-13         | 2013              | Belice            | Puntarenas        | INCOPESCA         | 16391             | Aleta Adherida    | Aprobado          | Gris              | tiburon           | 3131              | 50,108.00         | 4,776.00          | 54884             |                   | \n",
       "| 14-Dec-12         | 2012              | Belice            | Puntarenas        | INCOPESCA         | 14692             | Aleta Adherida    | Aprobado          | Gris              | tiburon           | 2555              | 51,113.00         | 4,602.00          | 55715             |                   | \n",
       "| 17-Dec-15         | 2015              | Costa Rica        | Puntarenas        | Mariscos Wang     |  3358             | Aleta Adherida    | Aprobado          | Gris              | tiburon           | 2750              | 59,455.00         | 0                 | 59455             | ViCTORIA G.       | \n",
       "| 8-Jun-11          | 2011              | Belice            | Puntarenas        | Terminal Pesquera |  8656             | Aleta Adherida    | Aprobado          | Gris              | tiburon           | 4600              | 64,557.00         | 4,850.00          | 69407             |                   | \n",
       "| 7-Nov-14          | 2014              | Belice            | Puntarenas        | INCOPESCA         | 21960             | Aleta Adherida    | Aprobado          | Gris              | tiburon           | 3269              | 65229             | 4977              | 70206             | HUNG CHI FU 33    | \n",
       "| 7-Dec-11          | 2011              | Belice            | Puntarenas        | INCOPESCA         |  2799             | Aleta Adherida    | Aprobado          | Gris              | tiburon           | 4747              | 70,028.00         | 5,862.00          | 75890             |                   | \n",
       "| 2-Mar-13          | 2013              | Belice            | Puntarenas        | INCOPESCA         | 15793             | Aleta Adherida    | Aprobado          | Gris              | tiburon           | 9255              | 74,037.00         | 4,917.00          | 78954             |                   | \n",
       "| 19-Dec-11         | 2011              | Belice            | Puntarenas        | INCOPESCA         |  2877             | Aleta Adherida    | Aprobado          | Gris              | tiburon           | 3975              | 75,520.00         | 6,283.00          | 81803             |                   | \n",
       "| 27-Feb-14         | 2014              | Belice            | Puntarenas        | INCOPESCA         | 20076             | Aleta Adherida    | Aprobado          | Gris              | tiburon           | 5519              | 77272             | 6039              | 83311             | HUNG CHI FU 33    | \n",
       "| 4-Feb-14          | 2014              | Belice            | Puntarenas        | INCOPESCA         | 19971             | Aleta Adherida    | Aprobado          | Gris              | tiburon           | 7097              | 85167             | 6600              | 91767             | HUNG CHI FU       | \n",
       "\n",
       "\n"
      ],
      "text/plain": [
       "   Fecha     Ano  Bandera    Puerto     Muelle            Solicitud\n",
       "1  15-Dec-14 2014 Costa Rica Puntarenas Pulpo Mar         22222    \n",
       "2  1-Jun-11  2011 Costa Rica Puntarenas Muelle J y Cheng   6913    \n",
       "3  3-May-14  2014 Belice     Puntarenas INCOPESCA         20666    \n",
       "4  22-Dec-14 2014 Costa Rica Puntarenas Terminal Pesquera 22298    \n",
       "5  21-Mar-12 2012 Belice     Puntarenas INCOPESCA         10660    \n",
       "6  18-Jan-14 2014 Belice     Puntarenas INCOPESCA         19855    \n",
       "7  30-Sep-14 2014 Belice     Puntarenas INCOPESCA         21710    \n",
       "8  11-Jun-12 2012 Costa Rica Puntarenas PMT               12018    \n",
       "9  30-Dec-14 2014 Belice     Puntarenas INCOPESCA         22374    \n",
       "10 30-Dec-14 2014 Belice     Puntarenas Terminal Pesquera 22374    \n",
       "11 3-Dec-14  2014 Belice     Puntarenas INCOPESCA         22166    \n",
       "12 21-Nov-14 2014 Belice     Puntarenas INCOPESCA         22061    \n",
       "13 17-Apr-13 2013 Belice     Puntarenas INCOPESCA         16391    \n",
       "14 14-Dec-12 2012 Belice     Puntarenas INCOPESCA         14692    \n",
       "15 17-Dec-15 2015 Costa Rica Puntarenas Mariscos Wang      3358    \n",
       "16 8-Jun-11  2011 Belice     Puntarenas Terminal Pesquera  8656    \n",
       "17 7-Nov-14  2014 Belice     Puntarenas INCOPESCA         21960    \n",
       "18 7-Dec-11  2011 Belice     Puntarenas INCOPESCA          2799    \n",
       "19 2-Mar-13  2013 Belice     Puntarenas INCOPESCA         15793    \n",
       "20 19-Dec-11 2011 Belice     Puntarenas INCOPESCA          2877    \n",
       "21 27-Feb-14 2014 Belice     Puntarenas INCOPESCA         20076    \n",
       "22 4-Feb-14  2014 Belice     Puntarenas INCOPESCA         19971    \n",
       "   Desembarque    Aprobado Especies Species cuerpos KgCuerpos KgAletas Peso   \n",
       "1  T22233         Aprobado azul     tiburon 3621    207.3     0        207.3  \n",
       "2  Aleta Adherida Aprobado Gris     tiburon 2734    21,945.00 2,068.00 24013  \n",
       "3  Aleta Adherida Aprobado azul     tiburon 3802    25116     2850     27966  \n",
       "4  Aleta Adherida Aprobado Gris     tiburon 6178    381.9     0        381.9  \n",
       "5  Aleta Adherida Aprobado Gris     tiburon 2900    36,086.00 3,067.00 39153  \n",
       "6  Aleta Adherida Aprobado azul     tiburon 7994    3971      314      4285   \n",
       "7  Aleta Adherida Aprobado Gris     tiburon 2537    558.35    4251     4809.35\n",
       "8  Aleta Adherida Aprobado Gris     tiburon 2732    4,895.30  0        4895.3 \n",
       "9  Aleta Adherida Aprobado Gris     tiburon 2755    46865     3405     50270  \n",
       "10 Aleta Adherida Aprobado Gris     tiburon 2755    46,865.00 3,405.00 50270  \n",
       "11 Aleta Adherida Aprobado Gris     tiburon 3111    46672     3716     50388  \n",
       "12 Aleta Adherida Aprobado Gris     tiburon 3499    49802     3821     53623  \n",
       "13 Aleta Adherida Aprobado Gris     tiburon 3131    50,108.00 4,776.00 54884  \n",
       "14 Aleta Adherida Aprobado Gris     tiburon 2555    51,113.00 4,602.00 55715  \n",
       "15 Aleta Adherida Aprobado Gris     tiburon 2750    59,455.00 0        59455  \n",
       "16 Aleta Adherida Aprobado Gris     tiburon 4600    64,557.00 4,850.00 69407  \n",
       "17 Aleta Adherida Aprobado Gris     tiburon 3269    65229     4977     70206  \n",
       "18 Aleta Adherida Aprobado Gris     tiburon 4747    70,028.00 5,862.00 75890  \n",
       "19 Aleta Adherida Aprobado Gris     tiburon 9255    74,037.00 4,917.00 78954  \n",
       "20 Aleta Adherida Aprobado Gris     tiburon 3975    75,520.00 6,283.00 81803  \n",
       "21 Aleta Adherida Aprobado Gris     tiburon 5519    77272     6039     83311  \n",
       "22 Aleta Adherida Aprobado Gris     tiburon 7097    85167     6600     91767  \n",
       "   Embarcacion   \n",
       "1  BAULA XII     \n",
       "2                \n",
       "3  DRAGON XII    \n",
       "4  ITAKA I       \n",
       "5                \n",
       "6  YUN LONG      \n",
       "7  HUNG CHI FU   \n",
       "8                \n",
       "9  YU LONG 35    \n",
       "10 YU LONG 35    \n",
       "11 TARZAN III    \n",
       "12 DRAGON XII    \n",
       "13               \n",
       "14               \n",
       "15 ViCTORIA G.   \n",
       "16               \n",
       "17 HUNG CHI FU 33\n",
       "18               \n",
       "19               \n",
       "20               \n",
       "21 HUNG CHI FU 33\n",
       "22 HUNG CHI FU   "
      ]
     },
     "metadata": {},
     "output_type": "display_data"
    }
   ],
   "source": [
    "#4.3.2.1 A visual representation of the offloads by the \"biggies\"\n",
    "arrange(biggies,Peso)"
   ]
  },
  {
   "cell_type": "code",
   "execution_count": 46,
   "metadata": {
    "collapsed": false
   },
   "outputs": [
    {
     "name": "stdout",
     "output_type": "stream",
     "text": [
      "       Fecha  Ano    Bandera     Puerto            Muelle Solicitud\n",
      "1  21-Mar-12 2012     Belice Puntarenas         INCOPESCA     10660\n",
      "2  11-Jun-12 2012 Costa Rica Puntarenas               PMT     12018\n",
      "3  14-Dec-12 2012     Belice Puntarenas         INCOPESCA     14692\n",
      "4   1-Jun-11 2011 Costa Rica Puntarenas  Muelle J y Cheng      6913\n",
      "5   8-Jun-11 2011     Belice Puntarenas Terminal Pesquera      8656\n",
      "6   7-Dec-11 2011     Belice Puntarenas         INCOPESCA      2799\n",
      "7  19-Dec-11 2011     Belice Puntarenas         INCOPESCA      2877\n",
      "8   2-Mar-13 2013     Belice Puntarenas         INCOPESCA     15793\n",
      "9  17-Apr-13 2013     Belice Puntarenas         INCOPESCA     16391\n",
      "10 18-Jan-14 2014     Belice Puntarenas         INCOPESCA     19855\n",
      "11  4-Feb-14 2014     Belice Puntarenas         INCOPESCA     19971\n",
      "12 27-Feb-14 2014     Belice Puntarenas         INCOPESCA     20076\n",
      "13  3-May-14 2014     Belice Puntarenas         INCOPESCA     20666\n",
      "14 30-Sep-14 2014     Belice Puntarenas         INCOPESCA     21710\n",
      "15  7-Nov-14 2014     Belice Puntarenas         INCOPESCA     21960\n",
      "16 21-Nov-14 2014     Belice Puntarenas         INCOPESCA     22061\n",
      "17  3-Dec-14 2014     Belice Puntarenas         INCOPESCA     22166\n",
      "18 15-Dec-14 2014 Costa Rica Puntarenas         Pulpo Mar     22222\n",
      "19 22-Dec-14 2014 Costa Rica Puntarenas Terminal Pesquera     22298\n",
      "20 30-Dec-14 2014     Belice Puntarenas         INCOPESCA     22374\n",
      "21 30-Dec-14 2014     Belice Puntarenas Terminal Pesquera     22374\n",
      "22 17-Dec-15 2015 Costa Rica Puntarenas     Mariscos Wang      3358\n",
      "      Desembarque Aprobado Especies Species cuerpos KgCuerpos KgAletas    Peso\n",
      "1  Aleta Adherida Aprobado     Gris tiburon    2900 36,086.00 3,067.00   39153\n",
      "2  Aleta Adherida Aprobado     Gris tiburon    2732  4,895.30        0  4895.3\n",
      "3  Aleta Adherida Aprobado     Gris tiburon    2555 51,113.00 4,602.00   55715\n",
      "4  Aleta Adherida Aprobado     Gris tiburon    2734 21,945.00 2,068.00   24013\n",
      "5  Aleta Adherida Aprobado     Gris tiburon    4600 64,557.00 4,850.00   69407\n",
      "6  Aleta Adherida Aprobado     Gris tiburon    4747 70,028.00 5,862.00   75890\n",
      "7  Aleta Adherida Aprobado     Gris tiburon    3975 75,520.00 6,283.00   81803\n",
      "8  Aleta Adherida Aprobado     Gris tiburon    9255 74,037.00 4,917.00   78954\n",
      "9  Aleta Adherida Aprobado     Gris tiburon    3131 50,108.00 4,776.00   54884\n",
      "10 Aleta Adherida Aprobado     azul tiburon    7994      3971      314    4285\n",
      "11 Aleta Adherida Aprobado     Gris tiburon    7097     85167     6600   91767\n",
      "12 Aleta Adherida Aprobado     Gris tiburon    5519     77272     6039   83311\n",
      "13 Aleta Adherida Aprobado     azul tiburon    3802     25116     2850   27966\n",
      "14 Aleta Adherida Aprobado     Gris tiburon    2537    558.35     4251 4809.35\n",
      "15 Aleta Adherida Aprobado     Gris tiburon    3269     65229     4977   70206\n",
      "16 Aleta Adherida Aprobado     Gris tiburon    3499     49802     3821   53623\n",
      "17 Aleta Adherida Aprobado     Gris tiburon    3111     46672     3716   50388\n",
      "18         T22233 Aprobado     azul tiburon    3621     207.3        0   207.3\n",
      "19 Aleta Adherida Aprobado     Gris tiburon    6178     381.9        0   381.9\n",
      "20 Aleta Adherida Aprobado     Gris tiburon    2755     46865     3405   50270\n",
      "21 Aleta Adherida Aprobado     Gris tiburon    2755 46,865.00 3,405.00   50270\n",
      "22 Aleta Adherida Aprobado     Gris tiburon    2750 59,455.00        0   59455\n",
      "      Embarcacion\n",
      "1                \n",
      "2                \n",
      "3                \n",
      "4                \n",
      "5                \n",
      "6                \n",
      "7                \n",
      "8                \n",
      "9                \n",
      "10       YUN LONG\n",
      "11    HUNG CHI FU\n",
      "12 HUNG CHI FU 33\n",
      "13     DRAGON XII\n",
      "14    HUNG CHI FU\n",
      "15 HUNG CHI FU 33\n",
      "16     DRAGON XII\n",
      "17     TARZAN III\n",
      "18      BAULA XII\n",
      "19        ITAKA I\n",
      "20     YU LONG 35\n",
      "21     YU LONG 35\n",
      "22    ViCTORIA G.\n"
     ]
    }
   ],
   "source": [
    "#4.3.2.2 Number of biggest single-species offloads\n",
    "print(biggies)"
   ]
  },
  {
   "cell_type": "code",
   "execution_count": 47,
   "metadata": {
    "collapsed": false
   },
   "outputs": [
    {
     "data": {
      "text/html": [
       "91516"
      ],
      "text/latex": [
       "91516"
      ],
      "text/markdown": [
       "91516"
      ],
      "text/plain": [
       "[1] 91516"
      ]
     },
     "metadata": {},
     "output_type": "display_data"
    },
    {
     "data": {
      "text/html": [
       "4159.81818181818"
      ],
      "text/latex": [
       "4159.81818181818"
      ],
      "text/markdown": [
       "4159.81818181818"
      ],
      "text/plain": [
       "[1] 4159.818"
      ]
     },
     "metadata": {},
     "output_type": "display_data"
    },
    {
     "data": {
      "text/html": [
       "0.0606671289378678"
      ],
      "text/latex": [
       "0.0606671289378678"
      ],
      "text/markdown": [
       "0.0606671289378678"
      ],
      "text/plain": [
       "[1] 0.06066713"
      ]
     },
     "metadata": {},
     "output_type": "display_data"
    },
    {
     "data": {
      "text/html": [
       "1031653.85"
      ],
      "text/latex": [
       "1031653.85"
      ],
      "text/markdown": [
       "1031653.85"
      ],
      "text/plain": [
       "[1] 1031654"
      ]
     },
     "metadata": {},
     "output_type": "display_data"
    },
    {
     "data": {
      "text/html": [
       "46893.3568181818"
      ],
      "text/latex": [
       "46893.3568181818"
      ],
      "text/markdown": [
       "46893.3568181818"
      ],
      "text/plain": [
       "[1] 46893.36"
      ]
     },
     "metadata": {},
     "output_type": "display_data"
    },
    {
     "data": {
      "text/html": [
       "0.0412406132988726"
      ],
      "text/latex": [
       "0.0412406132988726"
      ],
      "text/markdown": [
       "0.0412406132988726"
      ],
      "text/plain": [
       "[1] 0.04124061"
      ]
     },
     "metadata": {},
     "output_type": "display_data"
    }
   ],
   "source": [
    "#4.3.3 Number of shark bodies offloaded in single-species offloads, and total weight of catch offloaded by biggies, and percentage of all offloads.\n",
    "sum(as.numeric(biggies$cuerpos))\n",
    "(sum(as.numeric(biggies$cuerpos)))/22\n",
    "(sum(as.numeric(biggies$cuerpos)))/(sum(as.numeric(tiburon$cuerpos), na.rm=TRUE))\n",
    "sum(as.numeric(biggies$Peso))\n",
    "(sum(as.numeric(biggies$Peso)))/22\n",
    "(sum(as.numeric(biggies$Peso)))/(sum(as.numeric(tiburon$Peso), na.rm=TRUE))"
   ]
  },
  {
   "cell_type": "markdown",
   "metadata": {},
   "source": [
    "In six years, these \"biggies\" offloaded 91,516 sharks in the biggest single-species shark offloads (an average of 4,160 sharks per offload, compared to an overall average of 59 sharks [4.3.3.1]). That means just 22 single species offloads accounted for 6% of the total shark offloads (as measured in bodies offload) in Costa Rica over that period. It was 4% of the total weight.  (Note: it is actually more, in the period in which most of these boats were active. See section 4.4) "
   ]
  },
  {
   "cell_type": "code",
   "execution_count": 48,
   "metadata": {
    "collapsed": false
   },
   "outputs": [
    {
     "data": {
      "text/html": [
       "<ol class=list-inline>\n",
       "\t<li>25575</li>\n",
       "\t<li>15</li>\n",
       "</ol>\n"
      ],
      "text/latex": [
       "\\begin{enumerate*}\n",
       "\\item 25575\n",
       "\\item 15\n",
       "\\end{enumerate*}\n"
      ],
      "text/markdown": [
       "1. 25575\n",
       "2. 15\n",
       "\n",
       "\n"
      ],
      "text/plain": [
       "[1] 25575    15"
      ]
     },
     "metadata": {},
     "output_type": "display_data"
    },
    {
     "data": {
      "text/html": [
       "58.9831476050831"
      ],
      "text/latex": [
       "58.9831476050831"
      ],
      "text/markdown": [
       "58.9831476050831"
      ],
      "text/plain": [
       "[1] 58.98315"
      ]
     },
     "metadata": {},
     "output_type": "display_data"
    }
   ],
   "source": [
    "#4.3.3.1 The average number of sharks offloaded in a single species offload\n",
    "dim(tiburon)\n",
    "(sum(as.numeric(tiburon$cuerpos),na.rm=TRUE))/25575"
   ]
  },
  {
   "cell_type": "code",
   "execution_count": 49,
   "metadata": {
    "collapsed": false
   },
   "outputs": [
    {
     "data": {
      "text/plain": [
       "\n",
       "2015 2013 2012 2011 2014 \n",
       "   1    2    3    4   12 "
      ]
     },
     "metadata": {},
     "output_type": "display_data"
    }
   ],
   "source": [
    "#4.3.4 Number of \"biggie\" offloads by year. \n",
    "sort(table(biggies$Ano))"
   ]
  },
  {
   "cell_type": "markdown",
   "metadata": {},
   "source": [
    "2014 saw the highest propensity of large offloads. Every other year only had a handful. "
   ]
  },
  {
   "cell_type": "code",
   "execution_count": 50,
   "metadata": {
    "collapsed": false
   },
   "outputs": [
    {
     "data": {
      "text/plain": [
       "                \n",
       "                 2011 2012 2013 2014 2015\n",
       "                    4    3    2    0    0\n",
       "  BAULA XII         0    0    0    1    0\n",
       "  DRAGON XII        0    0    0    2    0\n",
       "  HUNG CHI FU       0    0    0    2    0\n",
       "  HUNG CHI FU 33    0    0    0    2    0\n",
       "  ITAKA I           0    0    0    1    0\n",
       "  TARZAN III        0    0    0    1    0\n",
       "  ViCTORIA G.       0    0    0    0    1\n",
       "  YU LONG 35        0    0    0    2    0\n",
       "  YUN LONG          0    0    0    1    0"
      ]
     },
     "metadata": {},
     "output_type": "display_data"
    }
   ],
   "source": [
    "#4.3.4.1 \"Biggie\" offloads by year by vessel.\n",
    "table(biggies$Embarcacion, biggies$Ano)"
   ]
  },
  {
   "cell_type": "markdown",
   "metadata": {},
   "source": [
    "The Baula XIII was responsible for all of the biggest single-species offloads between 2011 and 2013. In 2014, the year of the most big offloads, the DRAGON XII, HUNG CHI FU, HUNG CHI FU 33, ITAKA I, TARZAN III, YU LONG 35, and the YUN LONG, were responsible for the biggest single-species offloads. All but the ITAKA I is registered to, or managed by, a company associated with Fabio Wang. In 2015, the only \"biggie\" offload was by the Victoria G, which offloaded at Mariscos Wang (Fabio Wang's dock), where its owner rents space. "
   ]
  },
  {
   "cell_type": "code",
   "execution_count": 51,
   "metadata": {
    "collapsed": false
   },
   "outputs": [
    {
     "data": {
      "text/html": [
       "52137"
      ],
      "text/latex": [
       "52137"
      ],
      "text/markdown": [
       "52137"
      ],
      "text/plain": [
       "[1] 52137"
      ]
     },
     "metadata": {},
     "output_type": "display_data"
    },
    {
     "data": {
      "text/html": [
       "4344.75"
      ],
      "text/latex": [
       "4344.75"
      ],
      "text/markdown": [
       "4344.75"
      ],
      "text/plain": [
       "[1] 4344.75"
      ]
     },
     "metadata": {},
     "output_type": "display_data"
    },
    {
     "data": {
      "text/html": [
       "0.185022073331725"
      ],
      "text/latex": [
       "0.185022073331725"
      ],
      "text/markdown": [
       "0.185022073331725"
      ],
      "text/plain": [
       "[1] 0.1850221"
      ]
     },
     "metadata": {},
     "output_type": "display_data"
    },
    {
     "data": {
      "text/html": [
       "487484.55"
      ],
      "text/latex": [
       "487484.55"
      ],
      "text/markdown": [
       "487484.55"
      ],
      "text/plain": [
       "[1] 487484.5"
      ]
     },
     "metadata": {},
     "output_type": "display_data"
    },
    {
     "data": {
      "text/html": [
       "40623.7125"
      ],
      "text/latex": [
       "40623.7125"
      ],
      "text/markdown": [
       "40623.7125"
      ],
      "text/plain": [
       "[1] 40623.71"
      ]
     },
     "metadata": {},
     "output_type": "display_data"
    },
    {
     "data": {
      "text/html": [
       "0.114830279497139"
      ],
      "text/latex": [
       "0.114830279497139"
      ],
      "text/markdown": [
       "0.114830279497139"
      ],
      "text/plain": [
       "[1] 0.1148303"
      ]
     },
     "metadata": {},
     "output_type": "display_data"
    }
   ],
   "source": [
    "#4.3.4.2 Analysis of 2014 \"biggie\" offloads\n",
    "\n",
    "x = filter(biggies, Ano == 2014)\n",
    "y = filter(tiburon, Ano == 2014)\n",
    "sum(as.numeric(x$cuerpos), na.rm=TRUE)\n",
    "(sum(as.numeric(x$cuerpos), na.rm=TRUE))/12\n",
    "(sum(as.numeric(x$cuerpos), na.rm=TRUE))/(sum(as.numeric(y$cuerpos), na.rm=TRUE))\n",
    "\n",
    "sum(as.numeric(x$Peso), na.rm=TRUE)\n",
    "(sum(as.numeric(x$Peso), na.rm=TRUE))/12\n",
    "(sum(as.numeric(x$Peso), na.rm=TRUE))/(sum(as.numeric(y$Peso), na.rm=TRUE))"
   ]
  },
  {
   "cell_type": "markdown",
   "metadata": {},
   "source": [
    "In 2014, the 12 biggest single species shark offloads accounted for 52,137 shark bodies, or 18.5% of total shark bodies offloaded that year. The offloads were an average of 4,345 sharks per offload. Each offload was an average of just over 20 metric tons of shark."
   ]
  },
  {
   "cell_type": "code",
   "execution_count": 52,
   "metadata": {
    "collapsed": false
   },
   "outputs": [
    {
     "data": {
      "text/plain": [
       "\n",
       "    Belice Costa Rica \n",
       "        17          5 "
      ]
     },
     "metadata": {},
     "output_type": "display_data"
    },
    {
     "data": {
      "text/plain": [
       "                \n",
       "                 Belice Costa Rica\n",
       "                      7          2\n",
       "  BAULA XII           0          1\n",
       "  DRAGON XII          2          0\n",
       "  HUNG CHI FU         2          0\n",
       "  HUNG CHI FU 33      2          0\n",
       "  ITAKA I             0          1\n",
       "  TARZAN III          1          0\n",
       "  ViCTORIA G.         0          1\n",
       "  YU LONG 35          2          0\n",
       "  YUN LONG            1          0"
      ]
     },
     "metadata": {},
     "output_type": "display_data"
    }
   ],
   "source": [
    "#4.3.5 Flag states of biggie vessels.\n",
    "\n",
    "table(biggies$Bandera)\n",
    "table(biggies$Embarcacion, biggies$Bandera)"
   ]
  },
  {
   "cell_type": "markdown",
   "metadata": {},
   "source": [
    "Seventeen of the total 22 \"biggie\" were done by Belize flagged vessels, the same ones responsible for the biggie offloads in 2014. "
   ]
  },
  {
   "cell_type": "code",
   "execution_count": 53,
   "metadata": {
    "collapsed": false
   },
   "outputs": [
    {
     "data": {
      "text/html": [
       "<dl class=dl-horizontal>\n",
       "\t<dt>Taiwan</dt>\n",
       "\t\t<dd>52560.5</dd>\n",
       "\t<dt>Indonesia</dt>\n",
       "\t\t<dd>84970</dd>\n",
       "\t<dt>3</dt>\n",
       "\t\t<dd>358414.46</dd>\n",
       "\t<dt>Belice</dt>\n",
       "\t\t<dd>4931733.216</dd>\n",
       "\t<dt>Costa Rica</dt>\n",
       "\t\t<dd>19587804.56</dd>\n",
       "</dl>\n"
      ],
      "text/plain": [
       "    Taiwan  Indonesia                Belice Costa Rica \n",
       "   52560.5    84970.0   358414.5  4931733.2 19587804.6 "
      ]
     },
     "metadata": {},
     "output_type": "display_data"
    },
    {
     "data": {
      "text/html": [
       "0.197147233497225"
      ],
      "text/latex": [
       "0.197147233497225"
      ],
      "text/markdown": [
       "0.197147233497225"
      ],
      "text/plain": [
       "[1] 0.1971472"
      ]
     },
     "metadata": {},
     "output_type": "display_data"
    },
    {
     "data": {
      "text/html": [
       "<dl class=dl-horizontal>\n",
       "\t<dt>Taiwan</dt>\n",
       "\t\t<dd>2132</dd>\n",
       "\t<dt>Indonesia</dt>\n",
       "\t\t<dd>4794</dd>\n",
       "\t<dt>3</dt>\n",
       "\t\t<dd>20973</dd>\n",
       "\t<dt>Belice</dt>\n",
       "\t\t<dd>247431</dd>\n",
       "\t<dt>Costa Rica</dt>\n",
       "\t\t<dd>1233164</dd>\n",
       "</dl>\n"
      ],
      "text/plain": [
       "    Taiwan  Indonesia                Belice Costa Rica \n",
       "      2132       4794      20973     247431    1233164 "
      ]
     },
     "metadata": {},
     "output_type": "display_data"
    },
    {
     "data": {
      "text/html": [
       "0.164025180080265"
      ],
      "text/latex": [
       "0.164025180080265"
      ],
      "text/markdown": [
       "0.164025180080265"
      ],
      "text/plain": [
       "[1] 0.1640252"
      ]
     },
     "metadata": {},
     "output_type": "display_data"
    }
   ],
   "source": [
    "#4.3.6 Shark product offloads (by weight and body count) per flag state\n",
    "sort(tapply(as.numeric(tiburon$Peso), tiburon$Bandera, FUN=sum, na.rm=TRUE))\n",
    "4931733.216/(sum(as.numeric(tiburon$Peso), na.rm=TRUE))\n",
    "sort(tapply(as.numeric(tiburon$cuerpos), tiburon$Bandera, FUN=sum, na.rm=TRUE))\n",
    "247431/(sum(as.numeric(tiburon$cuerpos), na.rm=TRUE))"
   ]
  },
  {
   "cell_type": "markdown",
   "metadata": {},
   "source": [
    "Almost 20 percent of the total sharks offloaded between 2011 and 2016 (16% by weight) were from Belizean flagged vessels. (Note: Belize does not have a Pacific coast, and its flag is generally considered a flag of convenience.) "
   ]
  },
  {
   "cell_type": "markdown",
   "metadata": {},
   "source": [
    "### 4.4 Belizean Flagged Vessels"
   ]
  },
  {
   "cell_type": "code",
   "execution_count": 54,
   "metadata": {
    "collapsed": false
   },
   "outputs": [
    {
     "data": {
      "text/plain": [
       "\n",
       "                   DRAGON XII    HUNG CHI FU HUNG CHI FU 33     TARZAN III \n",
       "           836             10             32             16             10 \n",
       "       YU LONG     YU LONG 35       YUN LONG \n",
       "             6              8              6 "
      ]
     },
     "metadata": {},
     "output_type": "display_data"
    },
    {
     "data": {
      "text/html": [
       "<ol class=list-inline>\n",
       "\t<li>924</li>\n",
       "\t<li>15</li>\n",
       "</ol>\n"
      ],
      "text/latex": [
       "\\begin{enumerate*}\n",
       "\\item 924\n",
       "\\item 15\n",
       "\\end{enumerate*}\n"
      ],
      "text/markdown": [
       "1. 924\n",
       "2. 15\n",
       "\n",
       "\n"
      ],
      "text/plain": [
       "[1] 924  15"
      ]
     },
     "metadata": {},
     "output_type": "display_data"
    }
   ],
   "source": [
    "#4.4.1 Create a subset of Belizean flagged vessels and list them.\n",
    "belize = filter(offload, Bandera == \"Belice\")\n",
    "table(belize$Embarcacion)\n",
    "dim(belize)"
   ]
  },
  {
   "cell_type": "markdown",
   "metadata": {},
   "source": [
    "There were a total of 924 single-species offloads by Belizean flagged vessels between 2011 and 2016. Of those we have the names of, (from 2014 and 2015), there are the DRAGON XII, HUNG CHI FU, HUNG CHI FU 33, TARZAN III, YU LONG, YU LONG 35, YUN LONG (which is likely a misspelling of YU LONG). All of these vessels are registered to, or managed by, a company associated with Fabio Wang."
   ]
  },
  {
   "cell_type": "code",
   "execution_count": 55,
   "metadata": {
    "collapsed": false
   },
   "outputs": [
    {
     "data": {
      "text/html": [
       "<ol class=list-inline>\n",
       "\t<li>340</li>\n",
       "\t<li>15</li>\n",
       "</ol>\n"
      ],
      "text/latex": [
       "\\begin{enumerate*}\n",
       "\\item 340\n",
       "\\item 15\n",
       "\\end{enumerate*}\n"
      ],
      "text/markdown": [
       "1. 340\n",
       "2. 15\n",
       "\n",
       "\n"
      ],
      "text/plain": [
       "[1] 340  15"
      ]
     },
     "metadata": {},
     "output_type": "display_data"
    },
    {
     "data": {
      "text/html": [
       "247431"
      ],
      "text/latex": [
       "247431"
      ],
      "text/markdown": [
       "247431"
      ],
      "text/plain": [
       "[1] 247431"
      ]
     },
     "metadata": {},
     "output_type": "display_data"
    },
    {
     "data": {
      "text/html": [
       "727.738235294118"
      ],
      "text/latex": [
       "727.738235294118"
      ],
      "text/markdown": [
       "727.738235294118"
      ],
      "text/plain": [
       "[1] 727.7382"
      ]
     },
     "metadata": {},
     "output_type": "display_data"
    },
    {
     "data": {
      "text/html": [
       "4931733.216"
      ],
      "text/latex": [
       "4931733.216"
      ],
      "text/markdown": [
       "4931733.216"
      ],
      "text/plain": [
       "[1] 4931733"
      ]
     },
     "metadata": {},
     "output_type": "display_data"
    },
    {
     "name": "stderr",
     "output_type": "stream",
     "text": [
      "Warning message in eval(expr, envir, enclos):\n",
      "“NAs introduced by coercion”"
     ]
    },
    {
     "data": {
      "text/html": [
       "0.937896554871981"
      ],
      "text/latex": [
       "0.937896554871981"
      ],
      "text/markdown": [
       "0.937896554871981"
      ],
      "text/plain": [
       "[1] 0.9378966"
      ]
     },
     "metadata": {},
     "output_type": "display_data"
    }
   ],
   "source": [
    "#4.4.2 Create a subset of shark offloads by Belizean flagged vessels and compare with total offloads.\n",
    "bsharks = filter(offload, Bandera == \"Belice\", Species == \"tiburon\" )\n",
    "dim(bsharks)\n",
    "sum(as.numeric(bsharks$cuerpos))\n",
    "sum(as.numeric(bsharks$cuerpos))/340\n",
    "sum(as.numeric(bsharks$Peso))\n",
    "(sum(as.numeric(bsharks$Peso)))/(sum(as.numeric(belize$Peso), na.rm=TRUE))"
   ]
  },
  {
   "cell_type": "markdown",
   "metadata": {},
   "source": [
    "Belizean flagged vessels offloaded 247,431 shark bodies at Costa Rican ports between 2011 and 2016. (Note: Belizean flagged offloads stopped in 2015, see 4.4.3.) Sharks accounted for almost 94% of offloads (by weight) from Belizean flagged vessels. Of the single-species shark offloads, an average of 728 sharks were offloaded at a time. That is compared to an overall average of 59 sharks [4.3.3.1]."
   ]
  },
  {
   "cell_type": "code",
   "execution_count": 56,
   "metadata": {
    "collapsed": false,
    "scrolled": true
   },
   "outputs": [
    {
     "data": {
      "text/html": [
       "<dl class=dl-horizontal>\n",
       "\t<dt>2013</dt>\n",
       "\t\t<dd>50014</dd>\n",
       "\t<dt>2014</dt>\n",
       "\t\t<dd>56828</dd>\n",
       "\t<dt>2012</dt>\n",
       "\t\t<dd>57807</dd>\n",
       "\t<dt>2011</dt>\n",
       "\t\t<dd>82782</dd>\n",
       "</dl>\n"
      ],
      "text/plain": [
       " 2013  2014  2012  2011 \n",
       "50014 56828 57807 82782 "
      ]
     },
     "metadata": {},
     "output_type": "display_data"
    },
    {
     "data": {
      "text/html": [
       "<dl class=dl-horizontal>\n",
       "\t<dt>2014</dt>\n",
       "\t\t<dd>822564.226</dd>\n",
       "\t<dt>2013</dt>\n",
       "\t\t<dd>1081640.89</dd>\n",
       "\t<dt>2012</dt>\n",
       "\t\t<dd>1335251.9</dd>\n",
       "\t<dt>2011</dt>\n",
       "\t\t<dd>1692276.2</dd>\n",
       "</dl>\n"
      ],
      "text/plain": [
       "     2014      2013      2012      2011 \n",
       " 822564.2 1081640.9 1335251.9 1692276.2 "
      ]
     },
     "metadata": {},
     "output_type": "display_data"
    }
   ],
   "source": [
    "#4.4.3 Shark offloads of Belizean flagged vessel by year (bodies and then weight)\n",
    "sort(tapply(as.numeric(bsharks$cuerpos), bsharks$Ano, FUN=sum, na.rm=TRUE))\n",
    "sort(tapply(as.numeric(bsharks$Peso), bsharks$Ano, FUN=sum, na.rm=TRUE))"
   ]
  },
  {
   "cell_type": "markdown",
   "metadata": {},
   "source": [
    "Belizean flagged vessels offloaded at Costa Rican ports through 2014 and then abruptly stopped. However, the offloads did decrease steadily between 2011 and 2014 from 82,782 sharks (2011) to 50,014 (2014). The offloads were from 1,692,276.2 kg (2011) to 822,564.226 kg (2014)"
   ]
  },
  {
   "cell_type": "code",
   "execution_count": 57,
   "metadata": {
    "collapsed": false
   },
   "outputs": [
    {
     "data": {
      "text/html": [
       "0.199030071172087"
      ],
      "text/latex": [
       "0.199030071172087"
      ],
      "text/markdown": [
       "0.199030071172087"
      ],
      "text/plain": [
       "[1] 0.1990301"
      ]
     },
     "metadata": {},
     "output_type": "display_data"
    },
    {
     "data": {
      "text/html": [
       "<dl class=dl-horizontal>\n",
       "\t<dt>2011</dt>\n",
       "\t\t<dd>0.18919956666621</dd>\n",
       "\t<dt>2012</dt>\n",
       "\t\t<dd>0.194927113506004</dd>\n",
       "\t<dt>2013</dt>\n",
       "\t\t<dd>0.220034227742069</dd>\n",
       "\t<dt>2014</dt>\n",
       "\t\t<dd>0.201669340071259</dd>\n",
       "</dl>\n"
      ],
      "text/plain": [
       "     2011      2012      2013      2014 \n",
       "0.1891996 0.1949271 0.2200342 0.2016693 "
      ]
     },
     "metadata": {},
     "output_type": "display_data"
    },
    {
     "data": {
      "text/html": [
       "0.25346082721266"
      ],
      "text/latex": [
       "0.25346082721266"
      ],
      "text/markdown": [
       "0.25346082721266"
      ],
      "text/plain": [
       "[1] 0.2534608"
      ]
     },
     "metadata": {},
     "output_type": "display_data"
    },
    {
     "data": {
      "text/html": [
       "<dl class=dl-horizontal>\n",
       "\t<dt>2011</dt>\n",
       "\t\t<dd>0.255532857716945</dd>\n",
       "\t<dt>2012</dt>\n",
       "\t\t<dd>0.270984458883079</dd>\n",
       "\t<dt>2013</dt>\n",
       "\t\t<dd>0.295339508491722</dd>\n",
       "\t<dt>2014</dt>\n",
       "\t\t<dd>0.193760561182766</dd>\n",
       "</dl>\n"
      ],
      "text/plain": [
       "     2011      2012      2013      2014 \n",
       "0.2555329 0.2709845 0.2953395 0.1937606 "
      ]
     },
     "metadata": {},
     "output_type": "display_data"
    }
   ],
   "source": [
    "#4.4.3.1 Acutal percentage of sharks offloaded by Belize flagged vessels between 2011 and 2014, and a break down by year.\n",
    "c = filter(tiburon, Ano%in% c(\"2011\",\"2012\",\"2013\",\"2014\"))\n",
    "(sum(as.numeric(bsharks$cuerpos),na.rm=TRUE))/(sum(as.numeric(c$cuerpos),na.rm=TRUE))\n",
    "(tapply(as.numeric(bsharks$cuerpos), bsharks$Ano, FUN=sum, na.rm=TRUE))/(tapply(as.numeric(c$cuerpos), c$Ano, FUN=sum, na.rm=TRUE))\n",
    "(sum(as.numeric(bsharks$Peso),na.rm=TRUE))/(sum(as.numeric(c$Peso),na.rm=TRUE))\n",
    "(tapply(as.numeric(bsharks$Peso), bsharks$Ano, FUN=sum, na.rm=TRUE))/(tapply(as.numeric(c$Peso), c$Ano, FUN=sum, na.rm=TRUE))"
   ]
  },
  {
   "cell_type": "markdown",
   "metadata": {},
   "source": [
    "In the years Belizean flagged vessels were offloading in Costa Rica, they accounted for between 19 and 22 percent of total sharks offloaded. They accounted for up to 30 percent of shark offloads by weight."
   ]
  },
  {
   "cell_type": "markdown",
   "metadata": {},
   "source": [
    "## 5. Conclusions"
   ]
  },
  {
   "cell_type": "markdown",
   "metadata": {},
   "source": [
    "### 5.1 OVERALL"
   ]
  },
  {
   "cell_type": "markdown",
   "metadata": {},
   "source": [
    "*Costa Rica is the capital of the shark industry of the Central Tropical Pacific (CMAR)-- it exports more than double the shark products of any other CMAR country. One fleet of Belizean flagged boats is responsible for 20% of the total Costa Rican shark fishing industry. The Wang brothers are the king pins of the shark industry, both in Costa Rica and regionally, and were likely responsible for shifting up to 10% of the total value of the shark regional shark trade from Costa Rica to El Salvador between 2014 and 2015.*\n",
    "\n",
    "Costa Rica is the capital of the shark fishing industry in the CMAR region--From Ecuador to El Salvador. Over the past six years, Costa Rica was number one exporter of shark products by a large margin, both by both weight and declared value. Costa Rican ports also saw an average of over 200,000 sharks offloaded from fishing vessels per year since 2011. And while the national Costa Rican longline fleet brings in the majority of the sharks, a handfull of large vessels, almost exclusively flagged in Belize, are responsible for the biggest offloads of sharks. Belizean flagged vessels were responsible for nearly 20 percent of total shark offloads in Costa Rica. (In 2014, Fabio's boats were responsible for just under 20 percent of shark offloads alone). However, after 2014, these vessels stopped offloading in Costa Rica. Of the named large shark fishing vessels, the majority belong to, or are associated with Fabio Wang. Fabio Wang's company Transportes el Pescador also made millions off of shark product exports, and was one of the top exporters by volumn from Costa Rica. "
   ]
  },
  {
   "cell_type": "markdown",
   "metadata": {},
   "source": [
    "### 5.2 CMAR SHARK TRADE"
   ]
  },
  {
   "cell_type": "markdown",
   "metadata": {},
   "source": [
    "2. CMAR EXPORTS\n",
    "    1. Costa Rica is the biggest exporter of shark products in the CMAR region by a large margin.\n",
    "        1. An average of over USD11.3 million of shark products are exported from CMAR nations annually. [2.1.2]\n",
    "        2. Of that, 59 percent are from Costa Rica. [2.3.1]\n",
    "    2. There is reason to believe UN COMTRADE data generally underestimates the shark exports of the region. \n",
    "        1. On average, UN COMTRADE data accounted for only 58 percent of shark product exports (measured in declared value) reported by Import Genius in Costa Rica. (Time span of 6 years) [3.1.4]\n",
    "        2. This could be due to difficulty of identifying the correct commodity codes [2.3.3]\n",
    "    3. El Salvador has a relatively high declared value of shark exports given the size of the country and lack of registered longliners.\n",
    "        1.  El Salvador has an inconsistent export record when it comes to shark commodity exports. In the past two years, it exported nearly 1.5 million USD of shark products. The only other year similar was 2012. This supports the idea that there was a large influx of shark offloads in those years. [2.4.1]\n",
    "        2. In 2015, that was 13.1 percent of regional shark exports [2.4.5] In 2012, El Salvador accounted for 20 percent of regional exports. And in 2014, when Costa Rican exports were at an all time high (72.6 percent of regional exports), El Salvador had its lowest year  (5.5 percent of regional exports). [2.4.5] \n",
    "        3. Of note: El Salvador exports some of its shark product to Costa Rica, linking the two nations. [2.4.4]\n"
   ]
  },
  {
   "cell_type": "markdown",
   "metadata": {},
   "source": [
    "### 5.3 COSTA RICA SHARK PRODUCT EXPORTS"
   ]
  },
  {
   "cell_type": "markdown",
   "metadata": {},
   "source": [
    "3. Costa Rica Shark Exports\n",
    "    1. Between 2011 and 2016, Costa Rica exported USD68.8 million in shark products weighing more than 95 million kilos. [3.1.4] This is more than 1.5 times the USD40.1 million reported by UN Comrade. [2.2.1]\n",
    "    2. Between 2011 and Aug. 2017, Costa Rica exported USD47.5 million in shark fins, and USD22.8 million in shark meat.\n",
    "    3. Shark fins export for around USD75 per kilo and mean for USD1.5 per kilo.\n",
    "        1. Costa Rican shark fins generally export between 73 and 80 USD per kilo. However, 2013 and 2014 saw a drop in price. 2014, which saw the most significant drop, also saw over 7 million kilos of shark fins exported, as opposed to the next runner up (2011) which saw 102,000 kilos exported. I assume this surplus of product caused the prices to drastically drop. Still, shark fin exports were worth 25,244,773.72 USD in 2014, more than three times the next most profitable year (2011). [3.1.5]\n",
    "        2. Shark meat exported at between 1 and 2.4 USD per kilo every year except for 2014, where price per kilo dropped to USD.23. In 2014, 85,596,549 kilos of meat were exported (next runner up, 2015, 508,629 kilos). In 2014, 19,895,066.02 USD of shark products were exported that year (as opposed to 842,459.7 USD exported in 2015). Could the price drop be due to oversupply? (See section 3.3 and 3.4 where two major exporters come on the scene.) [3.1.6]\n",
    "    4. The biggest export companies in Costa Rica by both weight and declared value are Inversiones Cruz Z S.A., Cagevy Inversiones S.A, Transportes El Pescador S.A., and Tuna Verde Impoexport S.A. [3.2.1]\n",
    "        1. Inversiones Cruz is exclusively a fin exporter, and exported 36,069,106.04 USD of shark products over 6.5 years. [3.5.1]\n",
    "            1. Their biggest year was also 2014 in which they exported 21,124,589.44 USD of shark products.  \n",
    "            2. Inversiones Cruz only exports fins. [3.5.2]\n",
    "        2. Cagevy Inversiones operates out of Mariscos Wang dock and exports all shark products. It exported 17,058,471 USD over time. [3.4.1]\n",
    "            1. Cagevy Inversiones first came on the scene in 2014. Since then it exported 17,058,471 USD of shark products, which weighed 64,292,674.5 kilos. The biggest year for Cagevy was 2014 and exports have decreased drastically since then. Cagevy exported 16,704,050 USD of shark product in 2014, which weighed 64,114,000. This is the vast majority of Cagevy exports.\n",
    "            2. Cagevy only exports shark meat [3.4.2]\n",
    "        3. Transportes el Pescador is Fabio Wang's company. It is a managing company for a large shark fishing fleet. It exported 3,145,139.9 USD in shark products.\n",
    "            1. Transportes el Pescador only exported for two years-- 2014 and 2015-- with the vast majority of exports in 2014. Transportes el Pescador exported 3,145,139.9 USD of shark product total, with 3,049,842.4 USD of that exported in 2014. That was a total of 21,481,648 kilos of shark products. [3.3.1]\n",
    "            2. Transportes el Pescador mostly exports meat [3.3.2]\n"
   ]
  },
  {
   "cell_type": "markdown",
   "metadata": {},
   "source": [
    "### 5.4 COSTA RICA OFFLOADS"
   ]
  },
  {
   "cell_type": "markdown",
   "metadata": {},
   "source": [
    "4. Costa Rica Offloads\n",
    "    1. Sharks are a major part of the Costa Rican fishing industry.\n",
    "        1. Sharks made up an average of 62.4% of total offloads (by weight) in Costa Rica between 2011 and 2016 [4.2.1]\n",
    "        2. Between 2011 and 2016, at least 1,508,494 sharks were offloaded at Costa Rica ports, weighing over 25,015,482.736 kilos. That is compared to 2,012,911 fish offloaded in the same period, weighing 15,003,028.9. [4.1.1]\n",
    "        3. The range of sharks offloaded in Costa Rican ports was from 437,538 (2011) to 136,757 (2016) [4.2.2]\n",
    "            1. 2012 was a bizarre year where almost 100 percent of offloads recorded were sharks. This has to be a data error.\n",
    "    2. There are vessels that are disproportionately responsible for the shark offloads in Costa Rica\n",
    "        1. Just a handful of vessels are responsible for the biggest single-species offloads— more than one percent of total annual catch. [4.3.2]\n",
    "            1. The 22 huge offloads represent 91,516 shark bodies—more than 4,159 sharks at a time on average. [4.3.3] (That’s compared to an average shark offload of 59 shark bodies [4.3.3.1])\n",
    "            2. That means just 22 single species offloads accounted for 6% of the total shark offloads (as measured in bodies offload) in Costa Rica over that period. [4.3.3]\n",
    "            3. 2014 saw the highest propensity of large offloads. [4.3.4]\n",
    "                1.  Fabio Wang’s fleet was responsible for the majority of the biggest offloads. He took over the industry in a major way in 2014.\n",
    "                    1. In 2014, the year of the most big offloads, the DRAGON XII, HUNG CHI FU, HUNG CHI FU 33, ITAKA I, TARZAN III, YU LONG 35, and the YUN LONG, were responsible for the biggest single-species offloads. All but the ITAKA I is registered to, or managed by, a company associated with Fabio Wang. [4.3.4.1]\n",
    "                    2. The 2014, large scale offloads accounted for 52,137 sharks or 18.5% of the total shark offloads that year. [4.3.4.2]\n",
    "                    3. His whole fleet was flagged in Belize. [4.3.5]\n",
    "    3. Belize flagged vessels are responsible for a significant amount of shark landings.\n",
    "        1. Belize flagged vessels accounted for 19.7 percent of total shark offloads at Costa Rican ports or 247,431 sharks between 2011 and 2016. [4.3.6]\n",
    "        2. There were a total of 924 single-species offloads by Belizean flagged vessels between 2011 and 2016. Of those we have the names of, (from 2014 and 2015), there are the DRAGON XII, HUNG CHI FU, HUNG CHI FU 33, TARZAN III, YU LONG, YU LONG 35, YUN LONG (which is likely a misspelling of YU LONG). All of these vessels are registered to, or managed by, a company associated with Fabio Wang. [4.4.4]\n",
    "        3. Sharks accounted for almost 94% of offloads (by weight) from Belizean flagged vessels. Of the single-species shark offloads, an average of 728 sharks were offloaded at a time. That is compared to an overall average of 59 sharks [4.3.3.1].\n",
    "        4. Belizean flagged vessels offloaded at Costa Rican ports through 2014 and then abruptly stopped. However, the offloads did decrease steadily between 2011 and 2014 from 82,782 sharks (2011) to 50,014 (2014). The offloads were from 1,692,276.2 kg (2011) to 822,564.226 kg (2014) [4.4.3]\n"
   ]
  }
 ],
 "metadata": {
  "anaconda-cloud": {},
  "kernelspec": {
   "display_name": "R",
   "language": "R",
   "name": "ir"
  },
  "language_info": {
   "codemirror_mode": "r",
   "file_extension": ".r",
   "mimetype": "text/x-r-source",
   "name": "R",
   "pygments_lexer": "r",
   "version": "3.3.2"
  }
 },
 "nbformat": 4,
 "nbformat_minor": 1
}
